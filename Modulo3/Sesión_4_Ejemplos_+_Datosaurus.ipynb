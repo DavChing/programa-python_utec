{
  "nbformat": 4,
  "nbformat_minor": 0,
  "metadata": {
    "colab": {
      "provenance": [],
      "include_colab_link": true
    },
    "kernelspec": {
      "name": "python3",
      "display_name": "Python 3"
    },
    "language_info": {
      "name": "python"
    }
  },
  "cells": [
    {
      "cell_type": "markdown",
      "metadata": {
        "id": "view-in-github",
        "colab_type": "text"
      },
      "source": [
        "<a href=\"https://colab.research.google.com/github/DavChing/programa-python_utec/blob/main/Modulo3/Sesi%C3%B3n_4_Ejemplos_%2B_Datosaurus.ipynb\" target=\"_parent\"><img src=\"https://colab.research.google.com/assets/colab-badge.svg\" alt=\"Open In Colab\"/></a>"
      ]
    },
    {
      "cell_type": "markdown",
      "source": [
        "![picture](https://drive.google.com/uc?export=view&id=1KaUW3_JAieeY7WVNfoRiTSr2JsaeAcXi)"
      ],
      "metadata": {
        "id": "KeI5RF4qjpx8"
      }
    },
    {
      "cell_type": "markdown",
      "source": [
        "![image.png](data:image/png;base64,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)"
      ],
      "metadata": {
        "id": "hiMTEaZDjpv4"
      }
    },
    {
      "cell_type": "markdown",
      "source": [
        "# Ejemplos + Datosaurus\n",
        "# Módulo 3 - Sesión 4\n",
        "## Profesor: Germain Garcia Zanabria\n",
        "\n"
      ],
      "metadata": {
        "id": "sUdsPRZ4jptm"
      }
    },
    {
      "cell_type": "code",
      "execution_count": null,
      "metadata": {
        "id": "3dL-9ikDQwtB"
      },
      "outputs": [],
      "source": [
        "import matplotlib.pyplot as plt\n",
        "\n",
        "# Datos de ejemplo\n",
        "x = [1, 2, 3, 4, 5]\n",
        "y = [2, 3, 5, 7, 11]\n",
        "\n",
        "# Crear el gráfico\n",
        "plt.plot(x, y, marker='o', linestyle='-.', color='#80b1d3', label='Crecimiento') # '-', '--', '-.', ':', 'None', ' ', '', 'solid', 'dashed', 'dashdot', 'dotted'\n",
        "\n",
        "plt.xlabel('Días')  # Etiqueta del eje X\n",
        "plt.ylabel('Valores')  # Etiqueta del eje Y\n",
        "plt.title('Ejemplo de Gráfico de Líneas')  # Título del gráfico\n",
        "plt.legend()  # Mostrar leyenda\n",
        "# Añadir líneas de la cuadrícula\n",
        "plt.grid(True)\n",
        "\n",
        "# Mostrar el gráfico\n",
        "plt.show()\n"
      ]
    },
    {
      "cell_type": "markdown",
      "source": [
        "# Función Cuadrática"
      ],
      "metadata": {
        "id": "xLpuYmDJ0TyP"
      }
    },
    {
      "cell_type": "code",
      "source": [
        "import numpy as np\n",
        "\n",
        "# Parámetros de la función cuadrática\n",
        "a, b, c = 1, -3, 2\n",
        "x = np.linspace(-10, 20, 400)\n",
        "y = a * x**2 + b * x + c\n",
        "\n",
        "plt.plot(x, y,linestyle='-.')\n",
        "plt.title('Función Cuadrática')\n",
        "plt.xlabel('Eje x')\n",
        "plt.ylabel('Eje y')\n",
        "plt.grid(True)\n",
        "plt.show()\n"
      ],
      "metadata": {
        "id": "Zw4sRYXs0TCn"
      },
      "execution_count": null,
      "outputs": []
    },
    {
      "cell_type": "markdown",
      "source": [
        "# Función de Equilibrio de Mercado"
      ],
      "metadata": {
        "id": "mi8K4M5a0axH"
      }
    },
    {
      "cell_type": "code",
      "source": [
        "import matplotlib.pyplot as plt\n",
        "import numpy as np\n",
        "\n",
        "# Oferta y demanda\n",
        "x = np.linspace(0, 10, 100)\n",
        "oferta = 2 * x + 5\n",
        "demanda = -3 * x + 40\n",
        "\n",
        "plt.plot(x, oferta, label='Oferta')\n",
        "plt.plot(x, demanda, label='Demanda')\n",
        "plt.title('Función de Equilibrio de Mercado')\n",
        "plt.xlabel('Cantidad')\n",
        "plt.ylabel('Precio')\n",
        "\n",
        "plt.axvline(5, color='gray', linestyle='--')\n",
        "plt.axhline(15, color='gray', linestyle='--')\n",
        "\n",
        "plt.legend()\n",
        "plt.grid(True)\n",
        "plt.show()\n"
      ],
      "metadata": {
        "id": "tI64S5MS0TYN"
      },
      "execution_count": null,
      "outputs": []
    },
    {
      "cell_type": "markdown",
      "source": [
        "## Algo más allá\n",
        "\n",
        "Vamos a intentar ver ventas"
      ],
      "metadata": {
        "id": "-TOhwMIGBlH7"
      }
    },
    {
      "cell_type": "code",
      "source": [
        "import pandas as pd\n",
        "np.random.seed(42)\n",
        "\n",
        "\n",
        "fechas = pd.date_range(start=\"2024-01-01\", periods=100, freq=\"D\") # Fechas diarias (100 días)\n",
        "\n",
        "\n",
        "serie_a = np.cumsum(np.random.randn(100)) + 50\n",
        "serie_b = np.cumsum(np.random.randn(100)) + 30\n",
        "\n",
        "df = pd.DataFrame({\n",
        "    \"Fecha\": fechas,\n",
        "    \"Serie A\": serie_a,\n",
        "    \"Serie B\": serie_b\n",
        "})\n",
        "\n",
        "\n",
        "plt.figure(figsize=(10, 5))\n",
        "\n",
        "plt.plot(df[\"Fecha\"], df[\"Serie A\"], label=\"Serie A\")\n",
        "plt.plot(df[\"Fecha\"], df[\"Serie B\"], label=\"Serie B\")\n",
        "\n",
        "plt.xlabel(\"Fecha\")\n",
        "plt.ylabel(\"Valor\")\n",
        "plt.title(\"Series temporales sintéticas\")\n",
        "plt.grid(True) ##plt.grid(color = 'green', linestyle = '--', linewidth = 0.5)\n",
        "\n",
        "plt.legend()\n",
        "\n",
        "plt.xticks(rotation=45)\n",
        "plt.tight_layout()\n",
        "plt.show()"
      ],
      "metadata": {
        "id": "yH_dEnJbBke8"
      },
      "execution_count": null,
      "outputs": []
    },
    {
      "cell_type": "markdown",
      "source": [
        "# Función de Costo Marginal\n",
        "El Costo Marginal (MC, por sus siglas en inglés de \"Marginal Cost\") es una herramienta económica que mide el cambio en el costo total de producción cuando se produce una unidad adicional de un bien o servicio. Es una función fundamental en la teoría de la producción y se utiliza para optimizar las decisiones de producción y fijación de precios.\n",
        "\n",
        "\n",
        "Una forma común es\n",
        "𝑀𝐶(𝑄)= 𝑐 + 𝑑 𝑄"
      ],
      "metadata": {
        "id": "WQfZwKe022vY"
      }
    },
    {
      "cell_type": "code",
      "source": [
        "import matplotlib.pyplot as plt\n",
        "import numpy as np\n",
        "\n",
        "# Parámetros de la función de costo marginal\n",
        "c, d = 10, 2\n",
        "Q = np.linspace(0, 10, 100)\n",
        "MC = c + d * Q\n",
        "\n",
        "plt.plot(Q, MC)\n",
        "plt.title('Función de Costo Marginal')\n",
        "plt.xlabel('Cantidad Producida (Q)')\n",
        "plt.ylabel('Costo Marginal (MC)')\n",
        "plt.grid(True)\n",
        "plt.show()\n"
      ],
      "metadata": {
        "id": "xFNa7sqL23Ae"
      },
      "execution_count": null,
      "outputs": []
    },
    {
      "cell_type": "markdown",
      "source": [
        "# Subplots"
      ],
      "metadata": {
        "id": "xXaRjwQrQ551"
      }
    },
    {
      "cell_type": "code",
      "source": [
        "#import matplotlib.pyplot as plt\n",
        "#import numpy as np\n",
        "\n",
        "# Crear valores de x\n",
        "x = np.linspace(-10, 10, 400)\n",
        "\n",
        "# Definir las funciones lineales\n",
        "y1 = 2 * x + 1\n",
        "y2 = -x + 3\n",
        "y3 = 0.5 * x *x - 2\n",
        "y4 = 3 * x + 4\n",
        "\n",
        "# Crear una figura con 4 subplots\n",
        "fig, axs = plt.subplots(2, 2, figsize=(10, 8))\n",
        "\n",
        "# Función Lineal 1\n",
        "axs[0, 0].plot(x, y1, 'b-')\n",
        "axs[0, 0].set_title('y = 2x + 1')\n",
        "axs[0, 0].set_xlabel('x')\n",
        "axs[0, 0].set_ylabel('y')\n",
        "axs[0, 0].grid(True)\n",
        "\n",
        "# Función Lineal 2\n",
        "axs[0, 1].plot(x, y2, 'r-')\n",
        "axs[0, 1].set_title('y = -x + 3')\n",
        "axs[0, 1].set_xlabel('x')\n",
        "axs[0, 1].set_ylabel('y')\n",
        "axs[0, 1].grid(True)\n",
        "\n",
        "# Función Lineal 3\n",
        "axs[1, 0].plot(x, y3, 'g-')\n",
        "axs[1, 0].set_title('y = 0.5x*x - 2')\n",
        "axs[1, 0].set_xlabel('x')\n",
        "axs[1, 0].set_ylabel('y')\n",
        "axs[1, 0].grid(True)\n",
        "\n",
        "# Función Lineal 4\n",
        "axs[1, 1].plot(x, y4, 'm-')\n",
        "axs[1, 1].set_title('y = 3x + 4')\n",
        "axs[1, 1].set_xlabel('x')\n",
        "axs[1, 1].set_ylabel('y')\n",
        "axs[1, 1].grid(True)\n",
        "\n",
        "# Ajustar el layout para evitar superposiciones\n",
        "plt.tight_layout()\n",
        "\n",
        "# Mostrar el gráfico\n",
        "plt.show()\n"
      ],
      "metadata": {
        "id": "Pkfuv9kIQ5tv"
      },
      "execution_count": null,
      "outputs": []
    },
    {
      "cell_type": "markdown",
      "source": [],
      "metadata": {
        "id": "T6MblRhKSpZG"
      }
    },
    {
      "cell_type": "markdown",
      "source": [
        "# Gráfico de Dispersión"
      ],
      "metadata": {
        "id": "TkGkpdeX-LDd"
      }
    },
    {
      "cell_type": "code",
      "source": [
        "import matplotlib.pyplot as plt\n",
        "import pandas as pd\n",
        "import numpy as np\n",
        "\n",
        "# Simular datos de horas de estudio y calificaciones\n",
        "np.random.seed(0)\n",
        "\n",
        "horas_estudio = np.random.randint(1, 10, 50)\n",
        "calificaciones = horas_estudio * 10 + np.random.normal(0, 5, 50)\n",
        "\n",
        "# Crear un DataFrame con los datos\n",
        "data = {\n",
        "    'Horas de Estudio': horas_estudio,\n",
        "    'Calificaciones': calificaciones\n",
        "}\n",
        "df = pd.DataFrame(data)\n",
        "\n",
        "\n",
        "# Crear una figura\n",
        "plt.figure(figsize=(8, 4))\n",
        "\n",
        "# Crear el gráfico de dispersión\n",
        "plt.scatter(df['Horas de Estudio'], df['Calificaciones'], color='green', marker='o')\n",
        "\n",
        "# Añadir título y etiquetas de los ejes\n",
        "plt.title('Relación entre Horas de Estudio y Calificaciones')\n",
        "plt.xlabel('Horas de Estudio')\n",
        "plt.ylabel('Calificaciones')\n",
        "\n",
        "# Añadir una cuadrícula\n",
        "plt.grid(True)\n",
        "\n",
        "# Mostrar el gráfico\n",
        "plt.show()\n"
      ],
      "metadata": {
        "id": "dWIEIrrNSpwZ"
      },
      "execution_count": null,
      "outputs": []
    },
    {
      "cell_type": "markdown",
      "source": [
        "# Gráfico Histograma"
      ],
      "metadata": {
        "id": "DpWevb9C__6X"
      }
    },
    {
      "cell_type": "code",
      "source": [
        "import matplotlib.pyplot as plt\n",
        "import numpy as np\n",
        "\n",
        "# (calificaciones de estudiantes)\n",
        "np.random.seed(42)\n",
        "calificaciones = np.random.normal(15, 5, 100)  # Media = 70, Desviación estándar = 10, Número de datos = 100\n",
        "\n",
        "# Crear una figura\n",
        "plt.figure(figsize=(10, 6))\n",
        "\n",
        "# Crear el histograma\n",
        "plt.hist(calificaciones, bins=5, edgecolor='gray')\n",
        "\n",
        "# Añadir título y etiquetas de los ejes\n",
        "plt.title('Distribución de Calificaciones de Estudiantes')\n",
        "plt.xlabel('Calificaciones')\n",
        "plt.ylabel('Frecuencia')\n",
        "\n",
        "plt.grid(True)\n",
        "\n",
        "# Mostrar el gráfico\n",
        "plt.show()\n",
        "\n",
        "\n"
      ],
      "metadata": {
        "id": "KJdkzxNr-Qju"
      },
      "execution_count": null,
      "outputs": []
    },
    {
      "cell_type": "markdown",
      "source": [
        "# Box Plot"
      ],
      "metadata": {
        "id": "07kfeRvaBD7R"
      }
    },
    {
      "cell_type": "code",
      "source": [
        "import matplotlib.pyplot as plt\n",
        "import seaborn as sns\n",
        "import numpy as np\n",
        "import pandas as pd\n",
        "\n",
        "np.random.seed(42)\n",
        "\n",
        "datos = {\n",
        "    'Matematicas': np.random.normal(70, 10, 100),\n",
        "    'Ciencias': np.random.normal(65, 15, 100),\n",
        "    'Ingles': np.random.normal(75, 12, 100)\n",
        "}\n",
        "\n",
        "df = pd.DataFrame(datos)\n",
        "\n",
        "plt.figure(figsize=(10, 6))\n",
        "\n",
        "data_to_plot = [df['Matematicas'], df['Ciencias'],df['Ingles']]\n",
        "plt.boxplot(data_to_plot, labels=['Matemáticas', 'Ciencias','Ingles'])\n",
        "\n",
        "# Añadir título y etiquetas de los ejes\n",
        "plt.title('Distribución de Calificaciones por Asignatura')\n",
        "plt.xlabel('Asignatura')\n",
        "plt.ylabel('Calificaciones')\n",
        "\n",
        "plt.show()"
      ],
      "metadata": {
        "id": "sk-Arvg7oIKl"
      },
      "execution_count": null,
      "outputs": []
    },
    {
      "cell_type": "markdown",
      "source": [
        "# Datosaurus\n",
        "Es un conjunto de datos creado para ilustrar la importancia de visualizar los datos en lugar de confiar únicamente en las estadísticas resumidas. El conjunto de datos original, conocido como \"Datasaurus,\" fue diseñado para demostrar que diferentes conjuntos de datos pueden tener las mismas estadísticas descriptivas (media, varianza, correlación, etc.) pero pueden ser muy diferentes cuando se visualizan gráficamente."
      ],
      "metadata": {
        "id": "dEPaO1xslpsu"
      }
    },
    {
      "cell_type": "code",
      "source": [
        "# Conectar con Google Drive\n",
        "PATH = 'https://raw.githubusercontent.com/germaingarcia/Files_Lectures/main/Datasaurus_data.csv'"
      ],
      "metadata": {
        "id": "9zejO8VPlqJ2"
      },
      "execution_count": null,
      "outputs": []
    },
    {
      "cell_type": "code",
      "source": [
        "from IPython.display import display\n",
        "import pandas as pd\n",
        "import numpy as np\n",
        "import xml.etree.ElementTree as ET\n",
        "\n",
        "# Lee el archivo .csv\n",
        "df = pd.read_csv(PATH)\n",
        "\n",
        "# Muestra las primeras filas del DataFrame para verificar que se haya cargado correctamente\n",
        "df"
      ],
      "metadata": {
        "id": "ce7CUJaVnZwj"
      },
      "execution_count": null,
      "outputs": []
    },
    {
      "cell_type": "code",
      "source": [
        "df_dino = df[df['dataset']=='dino']\n",
        "df_dino"
      ],
      "metadata": {
        "id": "q5yvPPRSJlcm"
      },
      "execution_count": null,
      "outputs": []
    },
    {
      "cell_type": "code",
      "source": [
        "import pandas as pd\n",
        "import matplotlib.pyplot as plt\n",
        "\n",
        "df_dino = df[df['dataset']=='dino']\n",
        "plt.scatter(df_dino['x'], df_dino['y'], color='#fb8072', marker='o',edgecolor='gray')\n",
        "\n",
        "plt.grid(True)\n",
        "# Mostrar el gráfico\n",
        "plt.show()\n"
      ],
      "metadata": {
        "id": "DQAWPk-809RE"
      },
      "execution_count": null,
      "outputs": []
    },
    {
      "cell_type": "code",
      "source": [
        "datasets = df['dataset'].unique()\n",
        "datasets"
      ],
      "metadata": {
        "id": "wpyQ4-yMLubp"
      },
      "execution_count": null,
      "outputs": []
    },
    {
      "cell_type": "markdown",
      "source": [
        "##  1. Cargar y visualizar el conjunto de datos"
      ],
      "metadata": {
        "id": "UnyzVgud39Fw"
      }
    },
    {
      "cell_type": "code",
      "source": [
        "import pandas as pd\n",
        "import matplotlib.pyplot as plt\n",
        "\n",
        "print(df.head())\n",
        "\n",
        "datasets = df['dataset'].unique()\n",
        "\n",
        "# Crear la figura y los subplots\n",
        "fig, axes = plt.subplots(nrows=3, ncols=4, figsize=(14, 10))\n",
        "axes = axes.flatten()\n",
        "\n",
        "# Mapear los datos en cada subplot\n",
        "for i, dataset in enumerate(datasets):\n",
        "    subset = df[df['dataset'] == dataset]\n",
        "    axes[i].scatter(subset['x'], subset['y'], color='red', marker='o',edgecolor='white')\n",
        "    axes[i].set_title(dataset)\n",
        "    axes[i].set_xlabel('x')\n",
        "    axes[i].set_ylabel('y')\n",
        "\n",
        "# Ajustar el diseño para evitar solapamientos\n",
        "plt.tight_layout(rect=[0, 0, 1, 0.96])\n",
        "\n",
        "# Ajustar el título\n",
        "fig.suptitle('Datasaurus Dozen: Conjuntos de Datos Diferentes con Estadísticas Resumidas Idénticas', fontsize=16)\n",
        "\n",
        "# Mostrar el gráfico\n",
        "plt.show()"
      ],
      "metadata": {
        "id": "BdVjkGT713ov"
      },
      "execution_count": null,
      "outputs": []
    },
    {
      "cell_type": "markdown",
      "source": [
        "##  2. Histograms for the x and y coordinates for one of the datasets:"
      ],
      "metadata": {
        "id": "U_oKgE46zg2H"
      }
    },
    {
      "cell_type": "code",
      "source": [
        "dino_data = df[df['dataset'] == 'dino']\n",
        "\n",
        "\n",
        "fig, axes = plt.subplots(1, 2, figsize=(12, 5))\n",
        "\n",
        "# Histograma para los valores de 'x'\n",
        "axes[0].hist(dino_data['x'], bins=10, color='green',edgecolor='white')\n",
        "axes[0].set_title('Histogram of x values for dino dataset')\n",
        "axes[0].set_xlabel('x values')\n",
        "axes[0].set_ylabel('Frequency')\n",
        "\n",
        "# Histograma para los valores de 'y'\n",
        "axes[1].hist(dino_data['y'], bins=10, edgecolor='black')\n",
        "axes[1].set_title('Histogram of y values for dino dataset')\n",
        "axes[1].set_xlabel('y values')\n",
        "axes[1].set_ylabel('Frequency')\n",
        "\n",
        "# Ajustar el diseño para evitar solapamientos\n",
        "plt.tight_layout()\n",
        "\n",
        "# Mostrar el gráfico\n",
        "plt.show()\n"
      ],
      "metadata": {
        "id": "W_iCHYvczgeu"
      },
      "execution_count": null,
      "outputs": []
    },
    {
      "cell_type": "markdown",
      "source": [
        "## 3. Subplots para comparar diagramas de dispersión de algunos conjuntos de datos uno al lado del otro"
      ],
      "metadata": {
        "id": "3IKQSkHWZGQz"
      }
    },
    {
      "cell_type": "code",
      "source": [
        "datasets = ['dino', 'dots', 'x_shape']\n",
        "\n",
        "fig, axes = plt.subplots(1, 3, figsize=(18, 6))\n",
        "\n",
        "for ax, dataset in zip(axes, datasets):\n",
        "    data = df[df['dataset'] == dataset]\n",
        "    ax.scatter(data['x'], data['y'])\n",
        "    ax.set_title(f'Scatter plot para {dataset}')\n",
        "    ax.set_xlabel('x')\n",
        "    ax.set_ylabel('y')\n",
        "\n",
        "# Ajustar el diseño para evitar solapamientos\n",
        "plt.tight_layout()\n",
        "\n",
        "# Mostrar el gráfico\n",
        "plt.show()\n"
      ],
      "metadata": {
        "id": "z_4gUIOTzjb_"
      },
      "execution_count": null,
      "outputs": []
    },
    {
      "cell_type": "markdown",
      "source": [
        "## 4. Box plot para todas las variables X de los diferentes datasets:"
      ],
      "metadata": {
        "id": "j0z6puDC17y4"
      }
    },
    {
      "cell_type": "code",
      "source": [
        "data_to_plot = [df[df['dataset'] == dataset]['x'] for dataset in datasets]"
      ],
      "metadata": {
        "id": "1K55Tqus6jdy"
      },
      "execution_count": null,
      "outputs": []
    },
    {
      "cell_type": "code",
      "source": [
        "# Crear un box plot de la variable 'x' para todos los datasets\n",
        "plt.figure(figsize=(12, 6))\n",
        "datasets = df['dataset'].unique()\n",
        "\n",
        "# Crear una lista de listas para los datos de 'x'\n",
        "data_to_plot = [df[df['dataset'] == dataset]['x'] for dataset in datasets]\n",
        "\n",
        "plt.boxplot(data_to_plot, labels=datasets,patch_artist=True)\n",
        "\n",
        "plt.title('Box Plot de la Variable X en Todos los Datasets')\n",
        "plt.xlabel('Dataset')\n",
        "plt.ylabel('X')\n",
        "plt.xticks(rotation=45)\n",
        "\n",
        "plt.show()"
      ],
      "metadata": {
        "id": "ebkAAmWZ0D0P"
      },
      "execution_count": null,
      "outputs": []
    },
    {
      "cell_type": "markdown",
      "source": [
        "## 5. Box plot para todas las variables Y de los diferentes datasets:"
      ],
      "metadata": {
        "id": "MQ-ZK7VZ12fR"
      }
    },
    {
      "cell_type": "code",
      "source": [
        "# Crear un box plot de la variable 'y' para todos los datasets\n",
        "\n",
        "plt.figure(figsize=(12, 6))\n",
        "\n",
        "datasets = df['dataset'].unique()\n",
        "data = [df.loc[df['dataset'] == d, 'y'].values for d in datasets]\n",
        "\n",
        "#sns.boxplot(x='dataset', y='y', data=df)\n",
        "plt.boxplot(data, labels=datasets)\n",
        "plt.title('Box Plot de la Variable Y en Todos los Datasets')\n",
        "plt.xlabel('Dataset')\n",
        "plt.ylabel('Y')\n",
        "plt.xticks(rotation=45)\n",
        "plt.show()"
      ],
      "metadata": {
        "id": "zfhXvmmT1GtJ"
      },
      "execution_count": null,
      "outputs": []
    }
  ]
}