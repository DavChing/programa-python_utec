{
  "nbformat": 4,
  "nbformat_minor": 0,
  "metadata": {
    "colab": {
      "provenance": [],
      "include_colab_link": true
    },
    "kernelspec": {
      "name": "python3",
      "display_name": "Python 3"
    },
    "language_info": {
      "name": "python"
    }
  },
  "cells": [
    {
      "cell_type": "markdown",
      "metadata": {
        "id": "view-in-github",
        "colab_type": "text"
      },
      "source": [
        "<a href=\"https://colab.research.google.com/github/DavChing/programa-python_utec/blob/main/Modulo2/Progama_Python_UTEC_Sesion02.ipynb\" target=\"_parent\"><img src=\"https://colab.research.google.com/assets/colab-badge.svg\" alt=\"Open In Colab\"/></a>"
      ]
    },
    {
      "cell_type": "markdown",
      "source": [
        "## [1] Recorrer una lista en Python"
      ],
      "metadata": {
        "id": "MD4emPFaL0p6"
      }
    },
    {
      "cell_type": "code",
      "execution_count": 3,
      "metadata": {
        "id": "D8mSGH6KLL_l"
      },
      "outputs": [],
      "source": [
        "librerias = ['numpy','pandas','scipy','matplotlib','scikit learn']"
      ]
    },
    {
      "cell_type": "code",
      "source": [
        "print(f\"Los elementos de la lista librerias son \\n{librerias}\")"
      ],
      "metadata": {
        "colab": {
          "base_uri": "https://localhost:8080/"
        },
        "id": "oHnqo8bEL3JP",
        "outputId": "942c9902-97a8-4e92-b7d8-44d00455ba00"
      },
      "execution_count": 4,
      "outputs": [
        {
          "output_type": "stream",
          "name": "stdout",
          "text": [
            "Los elementos de la lista librerias son \n",
            "['numpy', 'pandas', 'scipy', 'matplotlib', 'scikit learn']\n"
          ]
        }
      ]
    },
    {
      "cell_type": "code",
      "source": [
        "type(librerias)"
      ],
      "metadata": {
        "id": "Psqhco3ashR0",
        "outputId": "d893a9fd-a47a-48ac-dd1b-c37ce068a3db",
        "colab": {
          "base_uri": "https://localhost:8080/"
        }
      },
      "execution_count": 5,
      "outputs": [
        {
          "output_type": "execute_result",
          "data": {
            "text/plain": [
              "list"
            ]
          },
          "metadata": {},
          "execution_count": 5
        }
      ]
    },
    {
      "cell_type": "code",
      "source": [
        "for libreria in librerias:\n",
        "  print(libreria)"
      ],
      "metadata": {
        "id": "2M0sHbWgMHN7",
        "outputId": "3a4e3ef2-ad0d-4fcb-826f-6fa239dfaf1a",
        "colab": {
          "base_uri": "https://localhost:8080/"
        }
      },
      "execution_count": 6,
      "outputs": [
        {
          "output_type": "stream",
          "name": "stdout",
          "text": [
            "numpy\n",
            "pandas\n",
            "scipy\n",
            "matplotlib\n",
            "scikit learn\n"
          ]
        }
      ]
    },
    {
      "cell_type": "markdown",
      "source": [
        "### Actividad N016"
      ],
      "metadata": {
        "id": "R8ZIY17-MQqA"
      }
    },
    {
      "cell_type": "code",
      "source": [
        "## SOLUCIÓN ACTIVIDAD N016\n"
      ],
      "metadata": {
        "id": "8M9HBSKOMLgH"
      },
      "execution_count": 7,
      "outputs": []
    },
    {
      "cell_type": "code",
      "source": [
        "productos = ['arroz','leche','pan','huevos','frutas']\n",
        "print(f\"Los elementos de la lista productos son \\n{productos}\")\n",
        "for producto in productos:\n",
        "  print(producto)"
      ],
      "metadata": {
        "id": "_NJDC1BMuRS4",
        "outputId": "38f5b335-24ff-4aff-afae-6639154b5340",
        "colab": {
          "base_uri": "https://localhost:8080/"
        }
      },
      "execution_count": 8,
      "outputs": [
        {
          "output_type": "stream",
          "name": "stdout",
          "text": [
            "Los elementos de la lista productos son \n",
            "['arroz', 'leche', 'pan', 'huevos', 'frutas']\n",
            "arroz\n",
            "leche\n",
            "pan\n",
            "huevos\n",
            "frutas\n"
          ]
        }
      ]
    },
    {
      "cell_type": "code",
      "source": [
        "print(f\"Los elementos de la lista productos son:\")\n",
        "for producto in productos:\n",
        "  print(producto)"
      ],
      "metadata": {
        "id": "Xd8y-o10v-yP",
        "outputId": "c800e21b-fcd8-4e15-b638-7c59fe3f2caa",
        "colab": {
          "base_uri": "https://localhost:8080/"
        }
      },
      "execution_count": 9,
      "outputs": [
        {
          "output_type": "stream",
          "name": "stdout",
          "text": [
            "Los elementos de la lista productos son:\n",
            "arroz\n",
            "leche\n",
            "pan\n",
            "huevos\n",
            "frutas\n"
          ]
        }
      ]
    },
    {
      "cell_type": "markdown",
      "source": [
        "## [2] Realizar una acción después del bucle"
      ],
      "metadata": {
        "id": "mI8P28IGMe5e"
      }
    },
    {
      "cell_type": "code",
      "source": [
        "productos = ['aceite','arroz','agua','carne','pollo']"
      ],
      "metadata": {
        "id": "Ubh6rpUnMaYT"
      },
      "execution_count": 10,
      "outputs": []
    },
    {
      "cell_type": "code",
      "source": [
        "print(\"Mi lista habitual en el supermercado es\")\n",
        "for producto in productos:\n",
        "  print('-',producto)\n",
        "print(\"Mi presupuesto principalmente se basa en esta lista\")"
      ],
      "metadata": {
        "id": "3jqWsTTVMvj4",
        "outputId": "033db508-5482-4b6a-a0ee-c7e91539701e",
        "colab": {
          "base_uri": "https://localhost:8080/"
        }
      },
      "execution_count": 11,
      "outputs": [
        {
          "output_type": "stream",
          "name": "stdout",
          "text": [
            "Mi lista habitual en el supermercado es\n",
            "- aceite\n",
            "- arroz\n",
            "- agua\n",
            "- carne\n",
            "- pollo\n",
            "Mi presupuesto principalmente se basa en esta lista\n"
          ]
        }
      ]
    },
    {
      "cell_type": "markdown",
      "source": [
        "### Actividad N017"
      ],
      "metadata": {
        "id": "aW6MbEPqNGZe"
      }
    },
    {
      "cell_type": "code",
      "source": [
        "## SOLUCIÓN DE ACTIVIDAD N017\n"
      ],
      "metadata": {
        "id": "2mWHMqd9M_5c"
      },
      "execution_count": 12,
      "outputs": []
    },
    {
      "cell_type": "markdown",
      "source": [
        "## [3] Problemas con identación y dos puntos"
      ],
      "metadata": {
        "id": "IZVy2ddcNULO"
      }
    },
    {
      "cell_type": "markdown",
      "source": [
        "### Olvidamos la identación"
      ],
      "metadata": {
        "id": "A_88Du1_NpC5"
      }
    },
    {
      "cell_type": "code",
      "source": [
        "print(\"En Python las librerías más populares son\")\n",
        "for libreria in librerias:\n",
        "print(\"-\",libreria)"
      ],
      "metadata": {
        "id": "tbJzYa-7NONP",
        "outputId": "861bd71c-b32e-461b-ffde-bc9cf7061e30",
        "colab": {
          "base_uri": "https://localhost:8080/",
          "height": 110
        }
      },
      "execution_count": 13,
      "outputs": [
        {
          "output_type": "error",
          "ename": "IndentationError",
          "evalue": "expected an indented block after 'for' statement on line 2 (<ipython-input-13-a6bc1d6d471e>, line 3)",
          "traceback": [
            "\u001b[0;36m  File \u001b[0;32m\"<ipython-input-13-a6bc1d6d471e>\"\u001b[0;36m, line \u001b[0;32m3\u001b[0m\n\u001b[0;31m    print(\"-\",libreria)\u001b[0m\n\u001b[0m    ^\u001b[0m\n\u001b[0;31mIndentationError\u001b[0m\u001b[0;31m:\u001b[0m expected an indented block after 'for' statement on line 2\n"
          ]
        }
      ]
    },
    {
      "cell_type": "markdown",
      "source": [
        "### Usamos la identación de manera innecesaria"
      ],
      "metadata": {
        "id": "OPt53QvUNtIZ"
      }
    },
    {
      "cell_type": "code",
      "source": [
        "print(\"En Python las librerías más populares son\")\n",
        "for libreria in librerias:\n",
        "  print(\"-\",libreria)\n",
        "  print(\"Tengo experiencia profesional trabajando con todas ellas\")"
      ],
      "metadata": {
        "id": "OUHG8ch-NhzH"
      },
      "execution_count": null,
      "outputs": []
    },
    {
      "cell_type": "markdown",
      "source": [
        "### Olvidamos los dos puntos"
      ],
      "metadata": {
        "id": "kE584601OE7l"
      }
    },
    {
      "cell_type": "code",
      "source": [
        "print(\"En Python las librerías más populares son\")\n",
        "for libreria in librerias\n",
        "  print(\"-\",libreria)\n",
        "print(\"Tengo experiencia profesional trabajando con todas ellas\")"
      ],
      "metadata": {
        "id": "u5lNRDnJN5wm"
      },
      "execution_count": null,
      "outputs": []
    },
    {
      "cell_type": "markdown",
      "source": [
        "### Actividad N018"
      ],
      "metadata": {
        "id": "zn72L7ycOStz"
      }
    },
    {
      "cell_type": "code",
      "source": [
        "## SOLUCIÓN ACTIVIDAD N018\n"
      ],
      "metadata": {
        "id": "7Onf7aj0OUWW"
      },
      "execution_count": null,
      "outputs": []
    },
    {
      "cell_type": "code",
      "source": [
        "paises = ['usa','canada','brazil','panama','chile']\n",
        "print(\"Los paises que me gustaria conocer son:\")\n",
        "for pais in paises:\n",
        "  print(\"-\",pais)\n",
        "print(\"Me gustaria conocerlos todos\")"
      ],
      "metadata": {
        "id": "LraQLatEyFrr"
      },
      "execution_count": null,
      "outputs": []
    },
    {
      "cell_type": "markdown",
      "source": [
        "## [2] Función RANGE"
      ],
      "metadata": {
        "id": "p0MaGjRGOZgU"
      }
    },
    {
      "cell_type": "code",
      "source": [
        "range(1,5)"
      ],
      "metadata": {
        "id": "Q8VFXc-AOXm5"
      },
      "execution_count": null,
      "outputs": []
    },
    {
      "cell_type": "code",
      "source": [
        "for valor in range(1,5):\n",
        "  print(valor)"
      ],
      "metadata": {
        "id": "W1KbWORTOgo9"
      },
      "execution_count": null,
      "outputs": []
    },
    {
      "cell_type": "markdown",
      "source": [
        "## [3] Crear una lista usando la función RANGE"
      ],
      "metadata": {
        "id": "qjKgyikIOqWQ"
      }
    },
    {
      "cell_type": "code",
      "source": [
        "numeros = list(range(1,11))"
      ],
      "metadata": {
        "id": "BJ9nwe27Oj8t"
      },
      "execution_count": null,
      "outputs": []
    },
    {
      "cell_type": "code",
      "source": [
        "print(f\"La lista numeros contiene los siguientes elementos \\n{numeros}\")"
      ],
      "metadata": {
        "id": "NoBvB3ddO9WL"
      },
      "execution_count": null,
      "outputs": []
    },
    {
      "cell_type": "code",
      "source": [
        "type(numeros)"
      ],
      "metadata": {
        "id": "NMfmCSRWPDFA"
      },
      "execution_count": null,
      "outputs": []
    },
    {
      "cell_type": "markdown",
      "source": [
        "### Actividad N019"
      ],
      "metadata": {
        "id": "4CdtcPKoPIQv"
      }
    },
    {
      "cell_type": "code",
      "source": [
        "## SOLUCIÓN ACTIVIDAD N019\n"
      ],
      "metadata": {
        "id": "3diMOYkBPHGp"
      },
      "execution_count": null,
      "outputs": []
    },
    {
      "cell_type": "code",
      "source": [
        "range(10,20)"
      ],
      "metadata": {
        "id": "6zLPhpN90Typ"
      },
      "execution_count": null,
      "outputs": []
    },
    {
      "cell_type": "code",
      "source": [
        "for valor in range(10,21):\n",
        "  print(valor)"
      ],
      "metadata": {
        "id": "Av2GCLJK0cbd",
        "outputId": "8b00d4e5-ae2d-4d1c-a6d3-752664b9d3d9",
        "colab": {
          "base_uri": "https://localhost:8080/"
        }
      },
      "execution_count": 14,
      "outputs": [
        {
          "output_type": "stream",
          "name": "stdout",
          "text": [
            "10\n",
            "11\n",
            "12\n",
            "13\n",
            "14\n",
            "15\n",
            "16\n",
            "17\n",
            "18\n",
            "19\n",
            "20\n"
          ]
        }
      ]
    },
    {
      "cell_type": "code",
      "source": [
        "#correlativos= list(range(10,21))\n"
      ],
      "metadata": {
        "id": "cHyKNGxS1Hpv"
      },
      "execution_count": 15,
      "outputs": []
    },
    {
      "cell_type": "code",
      "source": [],
      "metadata": {
        "id": "eTwcxKZT0Xcy"
      },
      "execution_count": 15,
      "outputs": []
    },
    {
      "cell_type": "code",
      "source": [
        "pares = list(range(2,22,2))"
      ],
      "metadata": {
        "id": "ndqZ8ReMPPYA"
      },
      "execution_count": 16,
      "outputs": []
    },
    {
      "cell_type": "code",
      "source": [
        "print(f\"La lista pares contiene los elementos \\n{pares}\")"
      ],
      "metadata": {
        "id": "t0jzzsXfPY8b",
        "outputId": "74533787-ec15-4e6c-d1e4-4f9ef6b4b4bc",
        "colab": {
          "base_uri": "https://localhost:8080/"
        }
      },
      "execution_count": 17,
      "outputs": [
        {
          "output_type": "stream",
          "name": "stdout",
          "text": [
            "La lista pares contiene los elementos \n",
            "[2, 4, 6, 8, 10, 12, 14, 16, 18, 20]\n"
          ]
        }
      ]
    },
    {
      "cell_type": "code",
      "source": [
        "type(pares)"
      ],
      "metadata": {
        "id": "McsS_5fWPcq2",
        "outputId": "b5be6642-ddbc-4b36-b6a9-2dc12e0b5dd0",
        "colab": {
          "base_uri": "https://localhost:8080/"
        }
      },
      "execution_count": 18,
      "outputs": [
        {
          "output_type": "execute_result",
          "data": {
            "text/plain": [
              "list"
            ]
          },
          "metadata": {},
          "execution_count": 18
        }
      ]
    },
    {
      "cell_type": "markdown",
      "source": [
        "## [4] Crear una lista en función de otra lista"
      ],
      "metadata": {
        "id": "kjTuXQfbPiyW"
      }
    },
    {
      "cell_type": "code",
      "source": [
        "cuadrados = [] #lista vacia\n",
        "for par in pares:\n",
        "  cuadrado = par**2\n",
        "  cuadrados.append(cuadrado)\n",
        "print(f\"La lista pares contiene los elementos \\n{pares}\")\n",
        "print(f\"\\nLa lista cuadrados contiene los elementos \\n{cuadrados}\")"
      ],
      "metadata": {
        "id": "zYuLtoPCPfRa",
        "outputId": "847e4059-0da7-440e-96fd-224a8351035d",
        "colab": {
          "base_uri": "https://localhost:8080/"
        }
      },
      "execution_count": 21,
      "outputs": [
        {
          "output_type": "stream",
          "name": "stdout",
          "text": [
            "La lista pares contiene los elementos \n",
            "[2, 4, 6, 8, 10, 12, 14, 16, 18, 20]\n",
            "\n",
            "La lista cuadrados contiene los elementos \n",
            "[4, 16, 36, 64, 100, 144, 196, 256, 324, 400]\n"
          ]
        }
      ]
    },
    {
      "cell_type": "markdown",
      "source": [
        "## [5] Calcular estadísticas a partir de una lista"
      ],
      "metadata": {
        "id": "L6H83fgtQJva"
      }
    },
    {
      "cell_type": "code",
      "source": [
        "print(f\"El valor mínimo de la lista cuadrados es {min(cuadrados)}\")"
      ],
      "metadata": {
        "id": "FjefhDc3P1Lz",
        "colab": {
          "base_uri": "https://localhost:8080/"
        },
        "outputId": "42fea0ce-cbc4-425c-ff2c-7ba03d7373e8"
      },
      "execution_count": 22,
      "outputs": [
        {
          "output_type": "stream",
          "name": "stdout",
          "text": [
            "El valor mínimo de la lista cuadrados es 4\n"
          ]
        }
      ]
    },
    {
      "cell_type": "code",
      "source": [
        "print(f\"El valor máximo de la lista cuadrados es {max(cuadrados)}\")"
      ],
      "metadata": {
        "id": "h2Q8zEjCQUF4",
        "colab": {
          "base_uri": "https://localhost:8080/"
        },
        "outputId": "4d45a899-5576-42ab-cfef-92a56f977022"
      },
      "execution_count": 23,
      "outputs": [
        {
          "output_type": "stream",
          "name": "stdout",
          "text": [
            "El valor máximo de la lista cuadrados es 400\n"
          ]
        }
      ]
    },
    {
      "cell_type": "code",
      "source": [
        "print(f\"La suma de los valores de la lista cuadrados es {sum(cuadrados)}\")"
      ],
      "metadata": {
        "id": "RQmQj9xuQW9m",
        "colab": {
          "base_uri": "https://localhost:8080/"
        },
        "outputId": "1962144a-b855-484c-91ab-68f3ae17724f"
      },
      "execution_count": 24,
      "outputs": [
        {
          "output_type": "stream",
          "name": "stdout",
          "text": [
            "La suma de los valores de la lista cuadrados es 1540\n"
          ]
        }
      ]
    },
    {
      "cell_type": "code",
      "source": [
        "print(f\"El promedio de los valores de la lista cuadrados es {sum(cuadrados)/len(cuadrados)}\")"
      ],
      "metadata": {
        "id": "Nv2IMNtMQbaR",
        "colab": {
          "base_uri": "https://localhost:8080/"
        },
        "outputId": "3e3ff2c9-5afe-4d55-d57c-6eef80e5d83b"
      },
      "execution_count": 25,
      "outputs": [
        {
          "output_type": "stream",
          "name": "stdout",
          "text": [
            "El promedio de los valores de la lista cuadrados es 154.0\n"
          ]
        }
      ]
    },
    {
      "cell_type": "markdown",
      "source": [
        "## [6] Comprensión de listas"
      ],
      "metadata": {
        "id": "M5GhhcB2QqaS"
      }
    },
    {
      "cell_type": "code",
      "source": [
        "cuadrados = [par**2 for par in pares]"
      ],
      "metadata": {
        "id": "yILWEw6hQjO3"
      },
      "execution_count": 28,
      "outputs": []
    },
    {
      "cell_type": "code",
      "source": [
        "print(f\"La lista pares contiene los elementos \\n{pares}\")\n",
        "print(f\"\\nLa lista cuadrados contiene los elementos \\n{cuadrados}\")"
      ],
      "metadata": {
        "id": "4dWHFsmTQ01v",
        "colab": {
          "base_uri": "https://localhost:8080/"
        },
        "outputId": "11c4562a-668c-4f1a-946c-24e959ede52c"
      },
      "execution_count": 27,
      "outputs": [
        {
          "output_type": "stream",
          "name": "stdout",
          "text": [
            "La lista pares contiene los elementos \n",
            "[2, 4, 6, 8, 10, 12, 14, 16, 18, 20]\n",
            "\n",
            "La lista cuadrados contiene los elementos \n",
            "[4, 16, 36, 64, 100, 144, 196, 256, 324, 400]\n"
          ]
        }
      ]
    },
    {
      "cell_type": "markdown",
      "source": [
        "### Actividad N020"
      ],
      "metadata": {
        "id": "c0IKdY8qRFtw"
      }
    },
    {
      "cell_type": "markdown",
      "source": [
        "Crear una lista de valores numéricos que sean correlativos, inicien en 10 y acaben en 20 (correlativos). A cada valor de la lista sumarle 5 y almacenarlo en otra lista llamada correlativosn**, mostrar los resultados en pantalla, use comprensión de listas"
      ],
      "metadata": {
        "id": "OeBW2rCrOyro"
      }
    },
    {
      "cell_type": "code",
      "source": [
        "## SOLUCIÓN ACTIVIDAD N020\n"
      ],
      "metadata": {
        "id": "zY7Z2YCUQ9p9"
      },
      "execution_count": null,
      "outputs": []
    },
    {
      "cell_type": "code",
      "source": [
        "# Crear la lista de valores correlativos del 10 al 20\n",
        "correlativos = list(range(10, 21))\n",
        "# Sumar 5 a cada valor y almacenarlo en otra lista\n",
        "correlativosn = [x + 5 for x in correlativos]\n",
        "# Mostrar los resultados en pantalla\n",
        "print(\"Lista original:\", correlativos)\n",
        "print(\"Lista con 5 sumado:\", correlativosn)"
      ],
      "metadata": {
        "colab": {
          "base_uri": "https://localhost:8080/"
        },
        "id": "G8egJ62iPN7T",
        "outputId": "c95ff855-4ded-4cce-a17a-40a37d60b5cf"
      },
      "execution_count": 29,
      "outputs": [
        {
          "output_type": "stream",
          "name": "stdout",
          "text": [
            "Lista original: [10, 11, 12, 13, 14, 15, 16, 17, 18, 19, 20]\n",
            "Lista con 5 sumado: [15, 16, 17, 18, 19, 20, 21, 22, 23, 24, 25]\n"
          ]
        }
      ]
    },
    {
      "cell_type": "code",
      "source": [
        "# Sin comprensión\n",
        "correlativosn = []\n",
        "for correlativo in correlativos:\n",
        "  tmp = correlativo + 5\n",
        "  correlativosn.append(tmp)\n",
        "print(f\"La lista correlativosn contiene los elementos \\n{correlativosn}\")"
      ],
      "metadata": {
        "colab": {
          "base_uri": "https://localhost:8080/"
        },
        "id": "sCcLXLgqQ5dS",
        "outputId": "e5a5e629-81c3-46a2-d4a1-09298fdde50e"
      },
      "execution_count": 30,
      "outputs": [
        {
          "output_type": "stream",
          "name": "stdout",
          "text": [
            "La lista correlativosn contiene los elementos \n",
            "[15, 16, 17, 18, 19, 20, 21, 22, 23, 24, 25]\n"
          ]
        }
      ]
    },
    {
      "cell_type": "code",
      "source": [
        "# Con comprensión\n",
        "correlativosn_ = [correlativo + 5 for correlativo in correlativos]\n",
        "print(f\"La lista correlativosn contiene los elementos \\n{correlativosn_}\")"
      ],
      "metadata": {
        "colab": {
          "base_uri": "https://localhost:8080/"
        },
        "id": "ePXWmANARabu",
        "outputId": "906831c6-1b3a-4497-b843-529555a4eee1"
      },
      "execution_count": 31,
      "outputs": [
        {
          "output_type": "stream",
          "name": "stdout",
          "text": [
            "La lista correlativosn contiene los elementos \n",
            "[15, 16, 17, 18, 19, 20, 21, 22, 23, 24, 25]\n"
          ]
        }
      ]
    },
    {
      "cell_type": "markdown",
      "source": [],
      "metadata": {
        "id": "o6U8DnaoQzGA"
      }
    },
    {
      "cell_type": "markdown",
      "source": [
        "## [7] Acceder a más de un elemento de la lista"
      ],
      "metadata": {
        "id": "NRl9ZEmZRMyj"
      }
    },
    {
      "cell_type": "code",
      "source": [
        "print(f\"Los elementos de la lista librerias son \\n{librerias}\")"
      ],
      "metadata": {
        "id": "ooOaZzSlRJx4",
        "colab": {
          "base_uri": "https://localhost:8080/"
        },
        "outputId": "3b34e3a4-71c3-4cc9-e3e8-462ee0600d35"
      },
      "execution_count": 32,
      "outputs": [
        {
          "output_type": "stream",
          "name": "stdout",
          "text": [
            "Los elementos de la lista librerias son \n",
            "['numpy', 'pandas', 'scipy', 'matplotlib', 'scikit learn']\n"
          ]
        }
      ]
    },
    {
      "cell_type": "code",
      "source": [
        "librerias[1:3]"
      ],
      "metadata": {
        "id": "C4uMCrKmRX07",
        "colab": {
          "base_uri": "https://localhost:8080/"
        },
        "outputId": "cd0bc849-bd42-44b6-dbff-4686aaa4c56d"
      },
      "execution_count": 33,
      "outputs": [
        {
          "output_type": "execute_result",
          "data": {
            "text/plain": [
              "['pandas', 'scipy']"
            ]
          },
          "metadata": {},
          "execution_count": 33
        }
      ]
    },
    {
      "cell_type": "code",
      "source": [
        "librerias = ['numpy','pandas','scipy','matplotlib','scikit learn']"
      ],
      "metadata": {
        "id": "6LpdSmUVRefl",
        "colab": {
          "base_uri": "https://localhost:8080/"
        },
        "outputId": "50b3a3db-9850-43d0-955f-d3b1e0e3c430"
      },
      "execution_count": 36,
      "outputs": [
        {
          "output_type": "execute_result",
          "data": {
            "text/plain": [
              "['numpy', 'pandas', 'scipy']"
            ]
          },
          "metadata": {},
          "execution_count": 36
        }
      ]
    },
    {
      "cell_type": "code",
      "source": [
        "librerias[:3]"
      ],
      "metadata": {
        "id": "uSJZAu2uRh1H"
      },
      "execution_count": null,
      "outputs": []
    },
    {
      "cell_type": "code",
      "source": [
        "librerias[3:5]"
      ],
      "metadata": {
        "id": "NXjQUYiURjR1"
      },
      "execution_count": null,
      "outputs": []
    },
    {
      "cell_type": "code",
      "source": [
        "librerias[3:]"
      ],
      "metadata": {
        "id": "OOzBP1nbRnPW"
      },
      "execution_count": null,
      "outputs": []
    },
    {
      "cell_type": "markdown",
      "source": [
        "### Actividad N021"
      ],
      "metadata": {
        "id": "PiGCrXKRRuCc"
      }
    },
    {
      "cell_type": "code",
      "source": [
        "## SOLUCIÓN ACTIVIDAD N021\n"
      ],
      "metadata": {
        "id": "M-J8B0Z6Rpb0"
      },
      "execution_count": null,
      "outputs": []
    },
    {
      "cell_type": "code",
      "source": [
        "universidades = ['UNMSM','UPC','UTP','UTEC','Villareal']\n",
        "print(f\"Los elementos de la lita de universidades son \\n{universidades}\")"
      ],
      "metadata": {
        "colab": {
          "base_uri": "https://localhost:8080/"
        },
        "id": "5KGmXvPJUKCG",
        "outputId": "fbfbd4c4-1542-45f9-bbdb-e88a9b808975"
      },
      "execution_count": 40,
      "outputs": [
        {
          "output_type": "stream",
          "name": "stdout",
          "text": [
            "Los elementos de la lita de universidades son \n",
            "['UNMSM', 'UPC', 'UTP', 'UTEC', 'Villareal']\n"
          ]
        }
      ]
    },
    {
      "cell_type": "code",
      "source": [
        "universidades[2:5]"
      ],
      "metadata": {
        "colab": {
          "base_uri": "https://localhost:8080/"
        },
        "id": "JuEaqkeCUjKf",
        "outputId": "c75aa61f-8eb6-46ff-fe3c-d2995fb5e999"
      },
      "execution_count": 39,
      "outputs": [
        {
          "output_type": "execute_result",
          "data": {
            "text/plain": [
              "['UTP', 'UTEC', 'Villareal']"
            ]
          },
          "metadata": {},
          "execution_count": 39
        }
      ]
    },
    {
      "cell_type": "code",
      "source": [
        "universidades[2:]"
      ],
      "metadata": {
        "colab": {
          "base_uri": "https://localhost:8080/"
        },
        "id": "_OxXHvGmVKG4",
        "outputId": "f926c0b5-5fad-4e0d-f161-4683971c125f"
      },
      "execution_count": 41,
      "outputs": [
        {
          "output_type": "execute_result",
          "data": {
            "text/plain": [
              "['UTP', 'UTEC', 'Villareal']"
            ]
          },
          "metadata": {},
          "execution_count": 41
        }
      ]
    },
    {
      "cell_type": "code",
      "source": [
        "universidades[-3:]"
      ],
      "metadata": {
        "colab": {
          "base_uri": "https://localhost:8080/"
        },
        "id": "V6gsWvEVVqKR",
        "outputId": "38880a55-3b11-477f-bcd7-29d6032faa3d"
      },
      "execution_count": 44,
      "outputs": [
        {
          "output_type": "execute_result",
          "data": {
            "text/plain": [
              "['UTP', 'UTEC', 'Villareal']"
            ]
          },
          "metadata": {},
          "execution_count": 44
        }
      ]
    },
    {
      "cell_type": "code",
      "source": [
        "universidades=['UNMSM','UPC','UTP','UTEC','Villareal']\n",
        "print(f\"Los elementos de la lista universidades son \\n{universidades}\")\n",
        "print(len(universidades))\n",
        "universidades[len(universidades)-3:]"
      ],
      "metadata": {
        "colab": {
          "base_uri": "https://localhost:8080/"
        },
        "id": "B7_6vlrfWZkB",
        "outputId": "7d0ccf03-88cf-44eb-ea31-88a98f79dccf"
      },
      "execution_count": 45,
      "outputs": [
        {
          "output_type": "stream",
          "name": "stdout",
          "text": [
            "Los elementos de la lista universidades son \n",
            "['UNMSM', 'UPC', 'UTP', 'UTEC', 'Villareal']\n",
            "5\n"
          ]
        },
        {
          "output_type": "execute_result",
          "data": {
            "text/plain": [
              "['UTP', 'UTEC', 'Villareal']"
            ]
          },
          "metadata": {},
          "execution_count": 45
        }
      ]
    },
    {
      "cell_type": "code",
      "source": [],
      "metadata": {
        "id": "rBYMMzgKWZh2"
      },
      "execution_count": null,
      "outputs": []
    },
    {
      "cell_type": "markdown",
      "source": [
        "## [8] Copiar una lista"
      ],
      "metadata": {
        "id": "_V71W0HcR35w"
      }
    },
    {
      "cell_type": "code",
      "source": [
        "print(f\"La lista librerias contiene los elementos \\n{librerias}\")"
      ],
      "metadata": {
        "id": "fGMsX6P7R0i8",
        "colab": {
          "base_uri": "https://localhost:8080/"
        },
        "outputId": "2d6076f1-d97b-4562-b5b0-f295e358fc99"
      },
      "execution_count": 46,
      "outputs": [
        {
          "output_type": "stream",
          "name": "stdout",
          "text": [
            "La lista librerias contiene los elementos \n",
            "['numpy', 'pandas', 'scipy', 'matplotlib', 'scikit learn']\n"
          ]
        }
      ]
    },
    {
      "cell_type": "code",
      "source": [
        "herramientas = librerias[:]"
      ],
      "metadata": {
        "id": "G27YO4BZSBZC"
      },
      "execution_count": 47,
      "outputs": []
    },
    {
      "cell_type": "code",
      "source": [
        "librerias.append('re')"
      ],
      "metadata": {
        "id": "5GVRvm6HSFk4"
      },
      "execution_count": 48,
      "outputs": []
    },
    {
      "cell_type": "code",
      "source": [
        "herramientas.append('sqlAlchemy')"
      ],
      "metadata": {
        "id": "QKZkMz2NSHiA"
      },
      "execution_count": 49,
      "outputs": []
    },
    {
      "cell_type": "code",
      "source": [
        "print(f\"La lista librerias contiene los elementos \\n{librerias}\")"
      ],
      "metadata": {
        "id": "NwdYAgaKSLS6",
        "colab": {
          "base_uri": "https://localhost:8080/"
        },
        "outputId": "a63612d4-2935-4baf-9892-8141e85c4198"
      },
      "execution_count": 50,
      "outputs": [
        {
          "output_type": "stream",
          "name": "stdout",
          "text": [
            "La lista librerias contiene los elementos \n",
            "['numpy', 'pandas', 'scipy', 'matplotlib', 'scikit learn', 're']\n"
          ]
        }
      ]
    },
    {
      "cell_type": "code",
      "source": [
        "print(f\"La lista herramientas contiene los elementos \\n{herramientas}\")"
      ],
      "metadata": {
        "id": "c9smWBJFSNPK",
        "colab": {
          "base_uri": "https://localhost:8080/"
        },
        "outputId": "49cba13e-938d-4dde-bcba-f9dd90adc3b8"
      },
      "execution_count": 51,
      "outputs": [
        {
          "output_type": "stream",
          "name": "stdout",
          "text": [
            "La lista herramientas contiene los elementos \n",
            "['numpy', 'pandas', 'scipy', 'matplotlib', 'scikit learn', 'sqlAlchemy']\n"
          ]
        }
      ]
    },
    {
      "cell_type": "code",
      "source": [],
      "metadata": {
        "id": "MQFjW5zLSQjy"
      },
      "execution_count": null,
      "outputs": []
    },
    {
      "cell_type": "code",
      "source": [
        "estudios = universidades"
      ],
      "metadata": {
        "id": "AtR0IIrzXLNN"
      },
      "execution_count": 52,
      "outputs": []
    },
    {
      "cell_type": "code",
      "source": [
        "universidades.append('Harvard')\n",
        "estudios.append('MIT')"
      ],
      "metadata": {
        "id": "WcBUo57oXTFK"
      },
      "execution_count": 53,
      "outputs": []
    },
    {
      "cell_type": "code",
      "source": [
        "print(f\"La lista universidades contiene los elementos \\n{universidades}\")"
      ],
      "metadata": {
        "colab": {
          "base_uri": "https://localhost:8080/"
        },
        "id": "WojufIBcXf6n",
        "outputId": "1c8a8849-9a44-42eb-cf5a-78d083112454"
      },
      "execution_count": 55,
      "outputs": [
        {
          "output_type": "stream",
          "name": "stdout",
          "text": [
            "La lista universidades contiene los elementos \n",
            "['UNMSM', 'UPC', 'UTP', 'UTEC', 'Villareal', 'Harvard', 'MIT']\n"
          ]
        }
      ]
    },
    {
      "cell_type": "code",
      "source": [
        "print(f\"La lista universidades contiene los elementos \\n{estudios}\")"
      ],
      "metadata": {
        "colab": {
          "base_uri": "https://localhost:8080/"
        },
        "id": "_TEpWXpvX4s2",
        "outputId": "67ecea56-af32-49ec-e195-24e9c5c61e69"
      },
      "execution_count": 56,
      "outputs": [
        {
          "output_type": "stream",
          "name": "stdout",
          "text": [
            "La lista universidades contiene los elementos \n",
            "['UNMSM', 'UPC', 'UTP', 'UTEC', 'Villareal', 'Harvard', 'MIT']\n"
          ]
        }
      ]
    },
    {
      "cell_type": "markdown",
      "source": [
        "RETO N001\n",
        "1.1. Crear una lista que inicie en el número 12 y acabe en el número 200, en su construcción se considere saltos de 2 en 2, guarde la lista con el nombre \"lista_x\".\n",
        "1.2. Con la lista_x, eliminar el primer y el último valor, los valores eliminados se deberán almacenar en otra lista llamada numeros_eliminados.\n",
        "1.3. Muestre los valores de la lista numeros_eliminados.\n",
        "1.4. Muestre los valores mínimos y máximos de la lista_x."
      ],
      "metadata": {
        "id": "UTQrvJykbpxW"
      }
    },
    {
      "cell_type": "code",
      "source": [
        "# Crear la lista que inicia en 12 y termina en 200 con saltos de 2\n",
        "lista_x = list(range(12, 201, 2))\n",
        "# Mostrar la lista en pantalla\n",
        "print(lista_x)"
      ],
      "metadata": {
        "id": "LDEBRrwBaiju",
        "outputId": "bb51a21d-09ae-47ff-a306-9c42666ed467",
        "colab": {
          "base_uri": "https://localhost:8080/"
        }
      },
      "execution_count": 57,
      "outputs": [
        {
          "output_type": "stream",
          "name": "stdout",
          "text": [
            "[12, 14, 16, 18, 20, 22, 24, 26, 28, 30, 32, 34, 36, 38, 40, 42, 44, 46, 48, 50, 52, 54, 56, 58, 60, 62, 64, 66, 68, 70, 72, 74, 76, 78, 80, 82, 84, 86, 88, 90, 92, 94, 96, 98, 100, 102, 104, 106, 108, 110, 112, 114, 116, 118, 120, 122, 124, 126, 128, 130, 132, 134, 136, 138, 140, 142, 144, 146, 148, 150, 152, 154, 156, 158, 160, 162, 164, 166, 168, 170, 172, 174, 176, 178, 180, 182, 184, 186, 188, 190, 192, 194, 196, 198, 200]\n"
          ]
        }
      ]
    },
    {
      "cell_type": "code",
      "source": [
        "# Eliminar el primer y el último valor, y almacenarlos en otra lista\n",
        "numeros_eliminados = [lista_x.pop(0), lista_x.pop()]"
      ],
      "metadata": {
        "id": "25GuUoz7bNdD"
      },
      "execution_count": 58,
      "outputs": []
    },
    {
      "cell_type": "code",
      "source": [
        "# Mostrar los valores de la lista numeros_eliminados\n",
        "print(\"Valores eliminados:\", numeros_eliminados)"
      ],
      "metadata": {
        "id": "xn4pOvakbPGA",
        "outputId": "8f91c472-279d-4999-b6d7-21b3f2b36d97",
        "colab": {
          "base_uri": "https://localhost:8080/"
        }
      },
      "execution_count": 59,
      "outputs": [
        {
          "output_type": "stream",
          "name": "stdout",
          "text": [
            "Valores eliminados: [12, 200]\n"
          ]
        }
      ]
    },
    {
      "cell_type": "code",
      "source": [
        "# Mostrar los valores mínimos y máximos de la lista lista_x\n",
        "minimo = min(lista_x)\n",
        "maximo = max(lista_x)\n",
        "print(\"Valor mínimo de lista_x:\", minimo)\n",
        "print(\"Valor máximo de lista_x:\", maximo)"
      ],
      "metadata": {
        "id": "mZzT768ybURd",
        "outputId": "65529a4e-e688-4416-fff3-a7c46dcdd2a5",
        "colab": {
          "base_uri": "https://localhost:8080/"
        }
      },
      "execution_count": 60,
      "outputs": [
        {
          "output_type": "stream",
          "name": "stdout",
          "text": [
            "Valor mínimo de lista_x: 14\n",
            "Valor máximo de lista_x: 198\n"
          ]
        }
      ]
    },
    {
      "cell_type": "markdown",
      "source": [
        "RETO N002\n",
        "Listas\n",
        "2.1. Determine el número de elementos de la lista a crear.\n",
        "2.2. Ingrese los valores de la lista a crear.\n",
        "2.3. Almacene los valores en una lista.\n",
        "2.4. Muestre los valores de la lista.\n",
        "2.5. Calcule y muestre los valores mínimo, máximo y promedio de los valores de la lista."
      ],
      "metadata": {
        "id": "DwAMlwvvfmmO"
      }
    },
    {
      "cell_type": "code",
      "source": [
        "# 2.1. Determinar el número de elementos de la lista a crear\n",
        "num_elementos = 6\n",
        "# 2.2. Ingresar los valores de la lista a crear\n",
        "valores = []\n",
        "for i in range(num_elementos):\n",
        "    valor = float(input(f\"Ingrese el valor {i + 1}: \"))\n",
        "    valores.append(valor)"
      ],
      "metadata": {
        "id": "W2-bwgg5e5Pu",
        "outputId": "bbfcb55f-4b7b-4497-8844-6cdd8f6bcc6e",
        "colab": {
          "base_uri": "https://localhost:8080/"
        }
      },
      "execution_count": 64,
      "outputs": [
        {
          "name": "stdout",
          "output_type": "stream",
          "text": [
            "Ingrese el valor 1: 4\n",
            "Ingrese el valor 2: 4\n",
            "Ingrese el valor 3: 7\n",
            "Ingrese el valor 4: 4\n",
            "Ingrese el valor 5: 4\n",
            "Ingrese el valor 6: 4\n"
          ]
        }
      ]
    },
    {
      "cell_type": "code",
      "source": [
        "# 2.1. Determinar el número de elementos de la lista a crear\n",
        "num_elementos = 6\n",
        "\n",
        "# 2.2. Ingresar los valores de la lista a crear\n",
        "valores = []\n",
        "for i in range(num_elementos):\n",
        "    valor = float(input(f\"Ingrese el valor {i + 1}: \"))\n",
        "    valores.append(valor)\n",
        "\n",
        "# 2.3. Almacenar los valores en una lista\n",
        "lista = valores\n",
        "\n",
        "# 2.4. Mostrar los valores de la lista\n",
        "print(\"Valores de la lista:\", lista)\n",
        "\n",
        "# 2.5. Calcular y mostrar los valores mínimo, máximo y promedio de los valores de la lista\n",
        "minimo = min(lista)\n",
        "maximo = max(lista)\n",
        "promedio = sum(lista) / len(lista)\n",
        "\n",
        "print(\"Valor mínimo:\", minimo)\n",
        "print(\"Valor máximo:\", maximo)\n",
        "print(\"Promedio:\", promedio)\n"
      ],
      "metadata": {
        "id": "VFxN7LVFgScw",
        "outputId": "93ccccdc-13b6-4b10-f142-9029e4f47577",
        "colab": {
          "base_uri": "https://localhost:8080/"
        }
      },
      "execution_count": 65,
      "outputs": [
        {
          "output_type": "stream",
          "name": "stdout",
          "text": [
            "Ingrese el valor 1: 5\n",
            "Ingrese el valor 2: 8\n",
            "Ingrese el valor 3: 2\n",
            "Ingrese el valor 4: 9\n",
            "Ingrese el valor 5: 3\n",
            "Ingrese el valor 6: 1\n",
            "Valores de la lista: [5.0, 8.0, 2.0, 9.0, 3.0, 1.0]\n",
            "Valor mínimo: 1.0\n",
            "Valor máximo: 9.0\n",
            "Promedio: 4.666666666666667\n"
          ]
        }
      ]
    },
    {
      "cell_type": "markdown",
      "source": [
        "RETO N003\n",
        "Listas\n",
        "3.1. Ingrese a python la siguiente lista_x = [\"A\", \"B\", \"b\", \"c\", \"E\", \"E\", \"f\"]\n",
        "3.2. Solicitar al usuario un elemento a eliminar.\n",
        "3.3. Mostrar el elemento eliminado y la lista resultante."
      ],
      "metadata": {
        "id": "GezfVkOMlAAZ"
      }
    },
    {
      "cell_type": "code",
      "source": [
        "# 3.1. Ingresar la lista\n",
        "lista_x = [\"A\", \"B\", \"b\", \"c\", \"E\", \"E\", \"f\"]\n",
        "\n",
        "# 3.2. Solicitar al usuario un elemento a eliminar\n",
        "elemento_a_eliminar = input(\"Ingrese el elemento a eliminar: \")\n",
        "\n",
        "# 3.3. Intentar eliminar el elemento y mostrar el resultado\n",
        "if elemento_a_eliminar in lista_x:\n",
        "    lista_x.remove(elemento_a_eliminar)  # Elimina la primera ocurrencia del elemento\n",
        "    print(f\"Elemento eliminado: {elemento_a_eliminar}\")\n",
        "else:\n",
        "    print(f\"El elemento '{elemento_a_eliminar}' no se encuentra en la lista.\")\n",
        "\n",
        "# Mostrar la lista resultante\n",
        "print(\"Lista resultante:\", lista_x)\n"
      ],
      "metadata": {
        "id": "Z8Cu1oY-lJ2E",
        "outputId": "d0a492fe-98df-4d4e-8767-e5ae4f55db24",
        "colab": {
          "base_uri": "https://localhost:8080/"
        }
      },
      "execution_count": 68,
      "outputs": [
        {
          "output_type": "stream",
          "name": "stdout",
          "text": [
            "Ingrese el elemento a eliminar: f\n",
            "Elemento eliminado: f\n",
            "Lista resultante: ['A', 'B', 'b', 'c', 'E', 'E']\n"
          ]
        }
      ]
    }
  ]
}