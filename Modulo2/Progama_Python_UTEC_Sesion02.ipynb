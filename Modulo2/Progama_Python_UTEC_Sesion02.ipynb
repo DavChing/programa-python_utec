{
  "nbformat": 4,
  "nbformat_minor": 0,
  "metadata": {
    "colab": {
      "provenance": [],
      "include_colab_link": true
    },
    "kernelspec": {
      "name": "python3",
      "display_name": "Python 3"
    },
    "language_info": {
      "name": "python"
    }
  },
  "cells": [
    {
      "cell_type": "markdown",
      "metadata": {
        "id": "view-in-github",
        "colab_type": "text"
      },
      "source": [
        "<a href=\"https://colab.research.google.com/github/DavChing/programa-python_utec/blob/main/Modulo2/Progama_Python_UTEC_Sesion02.ipynb\" target=\"_parent\"><img src=\"https://colab.research.google.com/assets/colab-badge.svg\" alt=\"Open In Colab\"/></a>"
      ]
    },
    {
      "cell_type": "markdown",
      "source": [
        "## [1] Recorrer una lista en Python"
      ],
      "metadata": {
        "id": "MD4emPFaL0p6"
      }
    },
    {
      "cell_type": "code",
      "execution_count": 1,
      "metadata": {
        "id": "D8mSGH6KLL_l"
      },
      "outputs": [],
      "source": [
        "librerias = ['numpy','pandas','scipy','matplotlib','scikit learn']"
      ]
    },
    {
      "cell_type": "code",
      "source": [
        "print(f\"Los elementos de la lista librerias son \\n{librerias}\")"
      ],
      "metadata": {
        "colab": {
          "base_uri": "https://localhost:8080/"
        },
        "id": "oHnqo8bEL3JP",
        "outputId": "7fcf440c-0b6f-412b-9f9b-bc2206669ca2"
      },
      "execution_count": 2,
      "outputs": [
        {
          "output_type": "stream",
          "name": "stdout",
          "text": [
            "Los elementos de la lista librerias son \n",
            "['numpy', 'pandas', 'scipy', 'matplotlib', 'scikit learn']\n"
          ]
        }
      ]
    },
    {
      "cell_type": "code",
      "source": [
        "type(librerias)"
      ],
      "metadata": {
        "id": "Psqhco3ashR0",
        "outputId": "30e71b4c-8088-4702-ace3-98e2b33869a4",
        "colab": {
          "base_uri": "https://localhost:8080/"
        }
      },
      "execution_count": 3,
      "outputs": [
        {
          "output_type": "execute_result",
          "data": {
            "text/plain": [
              "list"
            ]
          },
          "metadata": {},
          "execution_count": 3
        }
      ]
    },
    {
      "cell_type": "code",
      "source": [
        "for libreria in librerias:\n",
        "  print(libreria)"
      ],
      "metadata": {
        "id": "2M0sHbWgMHN7",
        "outputId": "20dbb89a-7cf6-4329-c06f-f7013f9b524b",
        "colab": {
          "base_uri": "https://localhost:8080/"
        }
      },
      "execution_count": 4,
      "outputs": [
        {
          "output_type": "stream",
          "name": "stdout",
          "text": [
            "numpy\n",
            "pandas\n",
            "scipy\n",
            "matplotlib\n",
            "scikit learn\n"
          ]
        }
      ]
    },
    {
      "cell_type": "markdown",
      "source": [
        "### Actividad N016"
      ],
      "metadata": {
        "id": "R8ZIY17-MQqA"
      }
    },
    {
      "cell_type": "code",
      "source": [
        "## SOLUCIÓN ACTIVIDAD N016\n"
      ],
      "metadata": {
        "id": "8M9HBSKOMLgH"
      },
      "execution_count": null,
      "outputs": []
    },
    {
      "cell_type": "code",
      "source": [
        "productos = ['arroz','leche','pan','huevos','frutas']\n",
        "print(f\"Los elementos de la lista productos son \\n{productos}\")\n",
        "for producto in productos:\n",
        "  print(producto)"
      ],
      "metadata": {
        "id": "_NJDC1BMuRS4",
        "outputId": "dd09d816-3891-40e6-e6bc-c16288430877",
        "colab": {
          "base_uri": "https://localhost:8080/"
        }
      },
      "execution_count": 11,
      "outputs": [
        {
          "output_type": "stream",
          "name": "stdout",
          "text": [
            "Los elementos de la lista productos son \n",
            "['arroz', 'leche', 'pan', 'huevos', 'frutas']\n",
            "arroz\n",
            "leche\n",
            "pan\n",
            "huevos\n",
            "frutas\n"
          ]
        }
      ]
    },
    {
      "cell_type": "code",
      "source": [
        "print(f\"Los elementos de la lista productos son:\")\n",
        "for producto in productos:\n",
        "  print(producto)"
      ],
      "metadata": {
        "id": "Xd8y-o10v-yP",
        "outputId": "d5898443-f0ae-4af7-a1e1-2e6d3eb89112",
        "colab": {
          "base_uri": "https://localhost:8080/"
        }
      },
      "execution_count": 15,
      "outputs": [
        {
          "output_type": "stream",
          "name": "stdout",
          "text": [
            "Los elementos de la lista productos son:\n",
            "arroz\n",
            "leche\n",
            "pan\n",
            "huevos\n",
            "frutas\n"
          ]
        }
      ]
    },
    {
      "cell_type": "markdown",
      "source": [
        "## [2] Realizar una acción después del bucle"
      ],
      "metadata": {
        "id": "mI8P28IGMe5e"
      }
    },
    {
      "cell_type": "code",
      "source": [
        "productos = ['aceite','arroz','agua','carne','pollo']"
      ],
      "metadata": {
        "id": "Ubh6rpUnMaYT"
      },
      "execution_count": 16,
      "outputs": []
    },
    {
      "cell_type": "code",
      "source": [
        "print(\"Mi lista habitual en el supermercado es\")\n",
        "for producto in productos:\n",
        "  print('-',producto)\n",
        "print(\"Mi presupuesto principalmente se basa en esta lista\")"
      ],
      "metadata": {
        "id": "3jqWsTTVMvj4",
        "outputId": "f0aa98cf-0853-4a44-eeb1-983e3811b571",
        "colab": {
          "base_uri": "https://localhost:8080/"
        }
      },
      "execution_count": 19,
      "outputs": [
        {
          "output_type": "stream",
          "name": "stdout",
          "text": [
            "Mi lista habitual en el supermercado es\n",
            "- aceite\n",
            "- arroz\n",
            "- agua\n",
            "- carne\n",
            "- pollo\n",
            "Mi presupuesto principalmente se basa en esta lista\n"
          ]
        }
      ]
    },
    {
      "cell_type": "markdown",
      "source": [
        "### Actividad N017"
      ],
      "metadata": {
        "id": "aW6MbEPqNGZe"
      }
    },
    {
      "cell_type": "code",
      "source": [
        "## SOLUCIÓN DE ACTIVIDAD N017\n"
      ],
      "metadata": {
        "id": "2mWHMqd9M_5c"
      },
      "execution_count": 18,
      "outputs": []
    },
    {
      "cell_type": "markdown",
      "source": [
        "## [3] Problemas con identación y dos puntos"
      ],
      "metadata": {
        "id": "IZVy2ddcNULO"
      }
    },
    {
      "cell_type": "markdown",
      "source": [
        "### Olvidamos la identación"
      ],
      "metadata": {
        "id": "A_88Du1_NpC5"
      }
    },
    {
      "cell_type": "code",
      "source": [
        "print(\"En Python las librerías más populares son\")\n",
        "for libreria in librerias:\n",
        "print(\"-\",libreria)"
      ],
      "metadata": {
        "id": "tbJzYa-7NONP",
        "outputId": "50005497-1cae-4c94-b5a6-24337334fe5d",
        "colab": {
          "base_uri": "https://localhost:8080/",
          "height": 110
        }
      },
      "execution_count": 20,
      "outputs": [
        {
          "output_type": "error",
          "ename": "IndentationError",
          "evalue": "expected an indented block after 'for' statement on line 2 (<ipython-input-20-a6bc1d6d471e>, line 3)",
          "traceback": [
            "\u001b[0;36m  File \u001b[0;32m\"<ipython-input-20-a6bc1d6d471e>\"\u001b[0;36m, line \u001b[0;32m3\u001b[0m\n\u001b[0;31m    print(\"-\",libreria)\u001b[0m\n\u001b[0m    ^\u001b[0m\n\u001b[0;31mIndentationError\u001b[0m\u001b[0;31m:\u001b[0m expected an indented block after 'for' statement on line 2\n"
          ]
        }
      ]
    },
    {
      "cell_type": "markdown",
      "source": [
        "### Usamos la identación de manera innecesaria"
      ],
      "metadata": {
        "id": "OPt53QvUNtIZ"
      }
    },
    {
      "cell_type": "code",
      "source": [
        "print(\"En Python las librerías más populares son\")\n",
        "for libreria in librerias:\n",
        "  print(\"-\",libreria)\n",
        "  print(\"Tengo experiencia profesional trabajando con todas ellas\")"
      ],
      "metadata": {
        "id": "OUHG8ch-NhzH",
        "outputId": "1d21ca81-e58e-419f-c970-16361df7848b",
        "colab": {
          "base_uri": "https://localhost:8080/"
        }
      },
      "execution_count": 21,
      "outputs": [
        {
          "output_type": "stream",
          "name": "stdout",
          "text": [
            "En Python las librerías más populares son\n",
            "- numpy\n",
            "Tengo experiencia profesional trabajando con todas ellas\n",
            "- pandas\n",
            "Tengo experiencia profesional trabajando con todas ellas\n",
            "- scipy\n",
            "Tengo experiencia profesional trabajando con todas ellas\n",
            "- matplotlib\n",
            "Tengo experiencia profesional trabajando con todas ellas\n",
            "- scikit learn\n",
            "Tengo experiencia profesional trabajando con todas ellas\n"
          ]
        }
      ]
    },
    {
      "cell_type": "markdown",
      "source": [
        "### Olvidamos los dos puntos"
      ],
      "metadata": {
        "id": "kE584601OE7l"
      }
    },
    {
      "cell_type": "code",
      "source": [
        "print(\"En Python las librerías más populares son\")\n",
        "for libreria in librerias\n",
        "  print(\"-\",libreria)\n",
        "print(\"Tengo experiencia profesional trabajando con todas ellas\")"
      ],
      "metadata": {
        "id": "u5lNRDnJN5wm",
        "outputId": "4fc09159-dd77-4150-ff06-baa0b02ed38b",
        "colab": {
          "base_uri": "https://localhost:8080/",
          "height": 110
        }
      },
      "execution_count": 23,
      "outputs": [
        {
          "output_type": "error",
          "ename": "SyntaxError",
          "evalue": "expected ':' (<ipython-input-23-70d9aa6ab298>, line 2)",
          "traceback": [
            "\u001b[0;36m  File \u001b[0;32m\"<ipython-input-23-70d9aa6ab298>\"\u001b[0;36m, line \u001b[0;32m2\u001b[0m\n\u001b[0;31m    for libreria in librerias\u001b[0m\n\u001b[0m                             ^\u001b[0m\n\u001b[0;31mSyntaxError\u001b[0m\u001b[0;31m:\u001b[0m expected ':'\n"
          ]
        }
      ]
    },
    {
      "cell_type": "markdown",
      "source": [
        "### Actividad N018"
      ],
      "metadata": {
        "id": "zn72L7ycOStz"
      }
    },
    {
      "cell_type": "code",
      "source": [
        "## SOLUCIÓN ACTIVIDAD N018\n"
      ],
      "metadata": {
        "id": "7Onf7aj0OUWW"
      },
      "execution_count": null,
      "outputs": []
    },
    {
      "cell_type": "code",
      "source": [
        "paises = ['usa','canada','brazil','panama','chile']\n",
        "print(\"Los paises que me gustaria conocer son:\")\n",
        "for pais in paises:\n",
        "  print(\"-\",pais)\n",
        "print(\"Me gustaria conocerlos todos\")"
      ],
      "metadata": {
        "id": "LraQLatEyFrr",
        "outputId": "d466842c-6709-483e-b5b4-152d3179adff",
        "colab": {
          "base_uri": "https://localhost:8080/"
        }
      },
      "execution_count": 24,
      "outputs": [
        {
          "output_type": "stream",
          "name": "stdout",
          "text": [
            "Los paises que me gustaria conocer son:\n",
            "- usa\n",
            "- canada\n",
            "- brazil\n",
            "- panama\n",
            "- chile\n",
            "Me gustaria conocerlos todos\n"
          ]
        }
      ]
    },
    {
      "cell_type": "markdown",
      "source": [
        "## [2] Función RANGE"
      ],
      "metadata": {
        "id": "p0MaGjRGOZgU"
      }
    },
    {
      "cell_type": "code",
      "source": [
        "range(1,5)"
      ],
      "metadata": {
        "id": "Q8VFXc-AOXm5",
        "outputId": "28b4b8da-8bf1-49fb-c185-28303ede0b1b",
        "colab": {
          "base_uri": "https://localhost:8080/"
        }
      },
      "execution_count": 25,
      "outputs": [
        {
          "output_type": "execute_result",
          "data": {
            "text/plain": [
              "range(1, 5)"
            ]
          },
          "metadata": {},
          "execution_count": 25
        }
      ]
    },
    {
      "cell_type": "code",
      "source": [
        "for valor in range(1,5):\n",
        "  print(valor)"
      ],
      "metadata": {
        "id": "W1KbWORTOgo9",
        "outputId": "519e0605-864d-4372-ebf4-79a95b1d5d96",
        "colab": {
          "base_uri": "https://localhost:8080/"
        }
      },
      "execution_count": 26,
      "outputs": [
        {
          "output_type": "stream",
          "name": "stdout",
          "text": [
            "1\n",
            "2\n",
            "3\n",
            "4\n"
          ]
        }
      ]
    },
    {
      "cell_type": "markdown",
      "source": [
        "## [3] Crear una lista usando la función RANGE"
      ],
      "metadata": {
        "id": "qjKgyikIOqWQ"
      }
    },
    {
      "cell_type": "code",
      "source": [
        "numeros = list(range(1,11))"
      ],
      "metadata": {
        "id": "BJ9nwe27Oj8t"
      },
      "execution_count": null,
      "outputs": []
    },
    {
      "cell_type": "code",
      "source": [
        "print(f\"La lista numeros contiene los siguientes elementos \\n{numeros}\")"
      ],
      "metadata": {
        "id": "NoBvB3ddO9WL"
      },
      "execution_count": null,
      "outputs": []
    },
    {
      "cell_type": "code",
      "source": [
        "type(numeros)"
      ],
      "metadata": {
        "id": "NMfmCSRWPDFA"
      },
      "execution_count": null,
      "outputs": []
    },
    {
      "cell_type": "markdown",
      "source": [
        "### Actividad N019"
      ],
      "metadata": {
        "id": "4CdtcPKoPIQv"
      }
    },
    {
      "cell_type": "code",
      "source": [
        "## SOLUCIÓN ACTIVIDAD N019\n"
      ],
      "metadata": {
        "id": "3diMOYkBPHGp"
      },
      "execution_count": null,
      "outputs": []
    },
    {
      "cell_type": "code",
      "source": [
        "range(10,20)"
      ],
      "metadata": {
        "id": "6zLPhpN90Typ",
        "outputId": "b6d09995-73b5-47f9-9426-2e5789c024ff",
        "colab": {
          "base_uri": "https://localhost:8080/"
        }
      },
      "execution_count": 27,
      "outputs": [
        {
          "output_type": "execute_result",
          "data": {
            "text/plain": [
              "range(10, 20)"
            ]
          },
          "metadata": {},
          "execution_count": 27
        }
      ]
    },
    {
      "cell_type": "code",
      "source": [
        "for valor in range(10,21):\n",
        "  print(valor)"
      ],
      "metadata": {
        "id": "Av2GCLJK0cbd",
        "outputId": "d60be6e3-4c03-462c-d2f7-f67059e913d5",
        "colab": {
          "base_uri": "https://localhost:8080/"
        }
      },
      "execution_count": 29,
      "outputs": [
        {
          "output_type": "stream",
          "name": "stdout",
          "text": [
            "10\n",
            "11\n",
            "12\n",
            "13\n",
            "14\n",
            "15\n",
            "16\n",
            "17\n",
            "18\n",
            "19\n",
            "20\n"
          ]
        }
      ]
    },
    {
      "cell_type": "code",
      "source": [
        "#correlativos= list(range(10,21))\n"
      ],
      "metadata": {
        "id": "cHyKNGxS1Hpv"
      },
      "execution_count": null,
      "outputs": []
    },
    {
      "cell_type": "code",
      "source": [],
      "metadata": {
        "id": "eTwcxKZT0Xcy"
      },
      "execution_count": null,
      "outputs": []
    },
    {
      "cell_type": "code",
      "source": [
        "pares = list(range(2,22,2))"
      ],
      "metadata": {
        "id": "ndqZ8ReMPPYA"
      },
      "execution_count": 39,
      "outputs": []
    },
    {
      "cell_type": "code",
      "source": [
        "print(f\"La lista pares contiene los elementos \\n{pares}\")"
      ],
      "metadata": {
        "id": "t0jzzsXfPY8b",
        "outputId": "91ac8ffc-cc3c-456c-91c3-59816236cdd9",
        "colab": {
          "base_uri": "https://localhost:8080/"
        }
      },
      "execution_count": 40,
      "outputs": [
        {
          "output_type": "stream",
          "name": "stdout",
          "text": [
            "La lista pares contiene los elementos \n",
            "[2, 4, 6, 8, 10, 12, 14, 16, 18, 20]\n"
          ]
        }
      ]
    },
    {
      "cell_type": "code",
      "source": [
        "type(pares)"
      ],
      "metadata": {
        "id": "McsS_5fWPcq2",
        "outputId": "940bad23-e101-4367-83ac-a725e6afb540",
        "colab": {
          "base_uri": "https://localhost:8080/"
        }
      },
      "execution_count": 41,
      "outputs": [
        {
          "output_type": "execute_result",
          "data": {
            "text/plain": [
              "list"
            ]
          },
          "metadata": {},
          "execution_count": 41
        }
      ]
    },
    {
      "cell_type": "markdown",
      "source": [
        "## [4] Crear una lista en función de otra lista"
      ],
      "metadata": {
        "id": "kjTuXQfbPiyW"
      }
    },
    {
      "cell_type": "code",
      "source": [
        "cuadrados = [] #lista vacia\n",
        "for par in pares:\n",
        "  cuadrado = par**2\n",
        "  cuadrados.append(cuadrado)\n",
        "print(f\"La lista pares contiene los elementos \\n{pares}\")\n",
        "print(f\"\\nLa lista cuadrados contiene los elementos \\n{cuadrados}\")"
      ],
      "metadata": {
        "id": "zYuLtoPCPfRa",
        "outputId": "71ecdefe-670d-4fd9-aa19-c37c2a6547f9",
        "colab": {
          "base_uri": "https://localhost:8080/"
        }
      },
      "execution_count": 49,
      "outputs": [
        {
          "output_type": "stream",
          "name": "stdout",
          "text": [
            "La lista pares contiene los elementos \n",
            "[2, 4, 6, 8, 10, 12, 14, 16, 18, 20]\n",
            "\n",
            "La lista cuadrados contiene los elementos \n",
            "[4, 16, 36, 64, 100, 144, 196, 256, 324, 400]\n"
          ]
        }
      ]
    },
    {
      "cell_type": "markdown",
      "source": [
        "## [5] Calcular estadísticas a partir de una lista"
      ],
      "metadata": {
        "id": "L6H83fgtQJva"
      }
    },
    {
      "cell_type": "code",
      "source": [
        "print(f\"El valor mínimo de la lista cuadrados es {min(cuadrados)}\")"
      ],
      "metadata": {
        "id": "FjefhDc3P1Lz"
      },
      "execution_count": null,
      "outputs": []
    },
    {
      "cell_type": "code",
      "source": [
        "print(f\"El valor máximo de la lista cuadrados es {max(cuadrados)}\")"
      ],
      "metadata": {
        "id": "h2Q8zEjCQUF4"
      },
      "execution_count": null,
      "outputs": []
    },
    {
      "cell_type": "code",
      "source": [
        "print(f\"La suma de los valores de la lista cuadrados es {sum(cuadrados)}\")"
      ],
      "metadata": {
        "id": "RQmQj9xuQW9m"
      },
      "execution_count": null,
      "outputs": []
    },
    {
      "cell_type": "code",
      "source": [
        "print(f\"El promedio de los valores de la lista cuadrados es {sum(cuadrados)/len(cuadrados)}\")"
      ],
      "metadata": {
        "id": "Nv2IMNtMQbaR"
      },
      "execution_count": null,
      "outputs": []
    },
    {
      "cell_type": "markdown",
      "source": [
        "## [6] Comprensión de listas"
      ],
      "metadata": {
        "id": "M5GhhcB2QqaS"
      }
    },
    {
      "cell_type": "code",
      "source": [
        "cuadrados = [par**2 for par in pares]"
      ],
      "metadata": {
        "id": "yILWEw6hQjO3"
      },
      "execution_count": null,
      "outputs": []
    },
    {
      "cell_type": "code",
      "source": [
        "print(f\"La lista pares contiene los elementos \\n{pares}\")\n",
        "print(f\"\\nLa lista cuadrados contiene los elementos \\n{cuadrados}\")"
      ],
      "metadata": {
        "id": "4dWHFsmTQ01v"
      },
      "execution_count": null,
      "outputs": []
    },
    {
      "cell_type": "markdown",
      "source": [
        "### Actividad N020"
      ],
      "metadata": {
        "id": "c0IKdY8qRFtw"
      }
    },
    {
      "cell_type": "code",
      "source": [
        "## SOLUCIÓN ACTIVIDAD N020\n"
      ],
      "metadata": {
        "id": "zY7Z2YCUQ9p9"
      },
      "execution_count": null,
      "outputs": []
    },
    {
      "cell_type": "markdown",
      "source": [
        "## [7] Acceder a más de un elemento de la lista"
      ],
      "metadata": {
        "id": "NRl9ZEmZRMyj"
      }
    },
    {
      "cell_type": "code",
      "source": [
        "print(f\"Los elementos de la lista librerias son \\n{librerias}\")"
      ],
      "metadata": {
        "id": "ooOaZzSlRJx4"
      },
      "execution_count": null,
      "outputs": []
    },
    {
      "cell_type": "code",
      "source": [
        "librerias[1:3]"
      ],
      "metadata": {
        "id": "C4uMCrKmRX07"
      },
      "execution_count": null,
      "outputs": []
    },
    {
      "cell_type": "code",
      "source": [
        "librerias[0:3]"
      ],
      "metadata": {
        "id": "6LpdSmUVRefl"
      },
      "execution_count": null,
      "outputs": []
    },
    {
      "cell_type": "code",
      "source": [
        "librerias[:3]"
      ],
      "metadata": {
        "id": "uSJZAu2uRh1H"
      },
      "execution_count": null,
      "outputs": []
    },
    {
      "cell_type": "code",
      "source": [
        "librerias[3:5]"
      ],
      "metadata": {
        "id": "NXjQUYiURjR1"
      },
      "execution_count": null,
      "outputs": []
    },
    {
      "cell_type": "code",
      "source": [
        "librerias[3:]"
      ],
      "metadata": {
        "id": "OOzBP1nbRnPW"
      },
      "execution_count": null,
      "outputs": []
    },
    {
      "cell_type": "markdown",
      "source": [
        "### Actividad N021"
      ],
      "metadata": {
        "id": "PiGCrXKRRuCc"
      }
    },
    {
      "cell_type": "code",
      "source": [
        "## SOLUCIÓN ACTIVIDAD N021\n"
      ],
      "metadata": {
        "id": "M-J8B0Z6Rpb0"
      },
      "execution_count": null,
      "outputs": []
    },
    {
      "cell_type": "markdown",
      "source": [
        "## [8] Copiar una lista"
      ],
      "metadata": {
        "id": "_V71W0HcR35w"
      }
    },
    {
      "cell_type": "code",
      "source": [
        "print(f\"La lista librerias contiene los elementos \\n{librerias}\")"
      ],
      "metadata": {
        "id": "fGMsX6P7R0i8"
      },
      "execution_count": null,
      "outputs": []
    },
    {
      "cell_type": "code",
      "source": [
        "herramientas = librerias[:]"
      ],
      "metadata": {
        "id": "G27YO4BZSBZC"
      },
      "execution_count": null,
      "outputs": []
    },
    {
      "cell_type": "code",
      "source": [
        "librerias.append('re')"
      ],
      "metadata": {
        "id": "5GVRvm6HSFk4"
      },
      "execution_count": null,
      "outputs": []
    },
    {
      "cell_type": "code",
      "source": [
        "herramientas.append('sqlAlchemy')"
      ],
      "metadata": {
        "id": "QKZkMz2NSHiA"
      },
      "execution_count": null,
      "outputs": []
    },
    {
      "cell_type": "code",
      "source": [
        "print(f\"La lista librerias contiene los elementos \\n{librerias}\")"
      ],
      "metadata": {
        "id": "NwdYAgaKSLS6"
      },
      "execution_count": null,
      "outputs": []
    },
    {
      "cell_type": "code",
      "source": [
        "print(f\"La lista herramientas contiene los elementos \\n{herramientas}\")"
      ],
      "metadata": {
        "id": "c9smWBJFSNPK"
      },
      "execution_count": null,
      "outputs": []
    },
    {
      "cell_type": "code",
      "source": [],
      "metadata": {
        "id": "MQFjW5zLSQjy"
      },
      "execution_count": null,
      "outputs": []
    }
  ]
}