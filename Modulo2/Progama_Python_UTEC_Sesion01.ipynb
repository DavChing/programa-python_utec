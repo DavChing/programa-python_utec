{
  "nbformat": 4,
  "nbformat_minor": 0,
  "metadata": {
    "colab": {
      "provenance": [],
      "include_colab_link": true
    },
    "kernelspec": {
      "name": "python3",
      "display_name": "Python 3"
    },
    "language_info": {
      "name": "python"
    }
  },
  "cells": [
    {
      "cell_type": "markdown",
      "metadata": {
        "id": "view-in-github",
        "colab_type": "text"
      },
      "source": [
        "<a href=\"https://colab.research.google.com/github/DavChing/programa-python_utec/blob/main/Modulo2/Progama_Python_UTEC_Sesion01.ipynb\" target=\"_parent\"><img src=\"https://colab.research.google.com/assets/colab-badge.svg\" alt=\"Open In Colab\"/></a>"
      ]
    },
    {
      "cell_type": "markdown",
      "source": [
        "## [1] Ejemplos de resutados en Python (listas)"
      ],
      "metadata": {
        "id": "RC5ssv_RyXXl"
      }
    },
    {
      "cell_type": "markdown",
      "source": [
        "### [1.1] De expresiones regulares"
      ],
      "metadata": {
        "id": "m8U92nipzNEz"
      }
    },
    {
      "cell_type": "code",
      "execution_count": 91,
      "metadata": {
        "id": "y2j3ZkyJxfTf",
        "outputId": "72d6523b-673a-4502-9ce5-6a246b7cd10b",
        "colab": {
          "base_uri": "https://localhost:8080/"
        }
      },
      "outputs": [
        {
          "output_type": "stream",
          "name": "stdout",
          "text": [
            "['david@example.com', 'ana123@gmail.com']\n"
          ]
        }
      ],
      "source": [
        "import re\n",
        "\n",
        "texto = \"Mi correo es david@example.com y el de Ana es ana123@gmail.com\"\n",
        "correos = re.findall(r'\\S+@\\S+', texto)\n",
        "print(correos)"
      ]
    },
    {
      "cell_type": "code",
      "source": [
        "type(correos)"
      ],
      "metadata": {
        "id": "E-JxjBuwyavM",
        "colab": {
          "base_uri": "https://localhost:8080/"
        },
        "outputId": "74103b46-1838-45fa-bfce-73481a4cfa2b"
      },
      "execution_count": 92,
      "outputs": [
        {
          "output_type": "execute_result",
          "data": {
            "text/plain": [
              "list"
            ]
          },
          "metadata": {},
          "execution_count": 92
        }
      ]
    },
    {
      "cell_type": "markdown",
      "source": [
        "### [1.2] Del uso de librerías"
      ],
      "metadata": {
        "id": "emDsY1i0z-Ej"
      }
    },
    {
      "cell_type": "code",
      "source": [
        "import sys\n",
        "\n",
        "sys.path"
      ],
      "metadata": {
        "id": "p6yeYDvb0Lr7",
        "colab": {
          "base_uri": "https://localhost:8080/"
        },
        "outputId": "ffc71baa-c76e-411e-c848-216651ec6d95"
      },
      "execution_count": 93,
      "outputs": [
        {
          "output_type": "execute_result",
          "data": {
            "text/plain": [
              "['/content',\n",
              " '/env/python',\n",
              " '/usr/lib/python311.zip',\n",
              " '/usr/lib/python3.11',\n",
              " '/usr/lib/python3.11/lib-dynload',\n",
              " '',\n",
              " '/usr/local/lib/python3.11/dist-packages',\n",
              " '/usr/lib/python3/dist-packages',\n",
              " '/usr/local/lib/python3.11/dist-packages/IPython/extensions',\n",
              " '/usr/local/lib/python3.11/dist-packages/setuptools/_vendor',\n",
              " '/root/.ipython']"
            ]
          },
          "metadata": {},
          "execution_count": 93
        }
      ]
    },
    {
      "cell_type": "code",
      "source": [
        "type(sys.path)"
      ],
      "metadata": {
        "id": "3QgxX7400Tod",
        "colab": {
          "base_uri": "https://localhost:8080/"
        },
        "outputId": "f9f3cf26-6a61-4ec7-9a9a-cd185cc7c741"
      },
      "execution_count": 94,
      "outputs": [
        {
          "output_type": "execute_result",
          "data": {
            "text/plain": [
              "list"
            ]
          },
          "metadata": {},
          "execution_count": 94
        }
      ]
    },
    {
      "cell_type": "markdown",
      "source": [
        "### [1.3] De Dataframes"
      ],
      "metadata": {
        "id": "SrQhILEo0bwm"
      }
    },
    {
      "cell_type": "code",
      "source": [
        "import pandas as pd\n",
        "\n",
        "df = pd.read_csv(\"/content/clientes.csv\", sep=\";\")\n",
        "nombres = df.columns.tolist()\n",
        "print(nombres)"
      ],
      "metadata": {
        "id": "wvk_SxO8zEaK",
        "outputId": "f9444469-a07a-4f21-b125-6d2879bc5079",
        "colab": {
          "base_uri": "https://localhost:8080/"
        }
      },
      "execution_count": 95,
      "outputs": [
        {
          "output_type": "stream",
          "name": "stdout",
          "text": [
            "['ID', 'EDAD', 'INGRESOS', 'RIESGO', 'LINEA_TC']\n"
          ]
        }
      ]
    },
    {
      "cell_type": "code",
      "source": [
        "type(nombres)"
      ],
      "metadata": {
        "id": "m77tovvY0sQC",
        "outputId": "892826eb-6d57-4d81-d611-ee8763003aa0",
        "colab": {
          "base_uri": "https://localhost:8080/"
        }
      },
      "execution_count": 96,
      "outputs": [
        {
          "output_type": "execute_result",
          "data": {
            "text/plain": [
              "list"
            ]
          },
          "metadata": {},
          "execution_count": 96
        }
      ]
    },
    {
      "cell_type": "markdown",
      "source": [
        "### [1.3] De archivos de texto"
      ],
      "metadata": {
        "id": "ZmHzYEI91xj3"
      }
    },
    {
      "cell_type": "code",
      "source": [
        "import csv\n",
        "\n",
        "with open(\"/content/clientes.csv\", newline='') as archivo:\n",
        "    lector = csv.reader(archivo, delimiter=';')\n",
        "    filas = list(lector)\n",
        "    print(filas)  # Lista de listas (filas del archivo CSV)\n"
      ],
      "metadata": {
        "id": "Sp2JIB8x1Gp0",
        "outputId": "a1a30ac7-0fb2-472c-87f1-c1761bbcbaf0",
        "colab": {
          "base_uri": "https://localhost:8080/"
        }
      },
      "execution_count": 97,
      "outputs": [
        {
          "output_type": "stream",
          "name": "stdout",
          "text": [
            "[['ID', 'EDAD', 'INGRESOS', 'RIESGO', 'LINEA_TC'], ['123', '36', '1348', 'A', '49924'], ['234', '52', '9479', 'A', '28454'], ['345', '60', '7511', 'B', '14250'], ['456', '40', '7992', 'C', '32064'], ['567', '58', '2675', 'C', '1485'], ['678', '47', '7086', 'D', '29157'], ['789', '31', '4704', 'E', '14945'], ['999', '42', '6245', 'E', '8798']]\n"
          ]
        }
      ]
    },
    {
      "cell_type": "markdown",
      "source": [
        "## [2] Crear una lista"
      ],
      "metadata": {
        "id": "irKBCMSW02eJ"
      }
    },
    {
      "cell_type": "markdown",
      "source": [
        "### Actividad N001"
      ],
      "metadata": {
        "id": "--8g9GOM463B"
      }
    },
    {
      "cell_type": "code",
      "source": [
        "lugares = ['macchupichu','punta sal','pastoruri','laguna sauce','huacachina']"
      ],
      "metadata": {
        "id": "vnmUFQc_0xKy"
      },
      "execution_count": 98,
      "outputs": []
    },
    {
      "cell_type": "code",
      "source": [
        "type(lugares)"
      ],
      "metadata": {
        "id": "WPfgFOT6NcJV",
        "outputId": "f8952b84-29c9-48cd-b7ea-c2c929bf7b68",
        "colab": {
          "base_uri": "https://localhost:8080/"
        }
      },
      "execution_count": 99,
      "outputs": [
        {
          "output_type": "execute_result",
          "data": {
            "text/plain": [
              "list"
            ]
          },
          "metadata": {},
          "execution_count": 99
        }
      ]
    },
    {
      "cell_type": "code",
      "source": [
        "print(f\"La lista de mis lugares favoritos es \\n {lugares}\")"
      ],
      "metadata": {
        "id": "EwmY7UZh21hv",
        "outputId": "ea50596c-70da-4ba0-e5b4-7f0b637de358",
        "colab": {
          "base_uri": "https://localhost:8080/"
        }
      },
      "execution_count": 100,
      "outputs": [
        {
          "output_type": "stream",
          "name": "stdout",
          "text": [
            "La lista de mis lugares favoritos es \n",
            " ['macchupichu', 'punta sal', 'pastoruri', 'laguna sauce', 'huacachina']\n"
          ]
        }
      ]
    },
    {
      "cell_type": "markdown",
      "source": [
        "## [3] Tipos de listas"
      ],
      "metadata": {
        "id": "wQ0it4O23BVX"
      }
    },
    {
      "cell_type": "markdown",
      "source": [
        "### Actividad N002"
      ],
      "metadata": {
        "id": "mJ__gEzN5A8u"
      }
    },
    {
      "cell_type": "code",
      "source": [
        "nombre = 'david'\n",
        "apellidoPaterno = 'ching'\n",
        "profesion = 'ingeniero'\n",
        "edad = 41\n",
        "centroLabores = 'bbva'\n",
        "aniosExperiencia = 16\n",
        "\n",
        "info_personal = [nombre, apellidoPaterno, profesion, edad, centroLabores, aniosExperiencia]"
      ],
      "metadata": {
        "id": "GaG9FW5Y27RN"
      },
      "execution_count": 101,
      "outputs": []
    },
    {
      "cell_type": "code",
      "source": [
        "print(f\"La lista info_personal contiene \\n {info_personal}\")"
      ],
      "metadata": {
        "id": "aK6OVxAI3oUN",
        "outputId": "4368a91f-7024-442a-f693-e380e30bd477",
        "colab": {
          "base_uri": "https://localhost:8080/"
        }
      },
      "execution_count": 102,
      "outputs": [
        {
          "output_type": "stream",
          "name": "stdout",
          "text": [
            "La lista info_personal contiene \n",
            " ['david', 'ching', 'ingeniero', 41, 'bbva', 16]\n"
          ]
        }
      ]
    },
    {
      "cell_type": "markdown",
      "source": [
        "## [4] Acceder a los elementos de una lista"
      ],
      "metadata": {
        "id": "7Bw-DDlF31UD"
      }
    },
    {
      "cell_type": "code",
      "source": [
        "materias = ['álgebra','aritmética','razonamiento verbal','trigonometría','geometría']"
      ],
      "metadata": {
        "id": "WFYgRar93v2D"
      },
      "execution_count": 103,
      "outputs": []
    },
    {
      "cell_type": "code",
      "source": [
        "print(f\"La lista materias contiene \\n {materias}\")\n",
        "print(f\"El segundo elemento de la lista es {materias[1]}\")"
      ],
      "metadata": {
        "id": "lTC_xydf4VfA",
        "outputId": "69ace6d3-812b-4b22-a27c-486aaa708c88",
        "colab": {
          "base_uri": "https://localhost:8080/"
        }
      },
      "execution_count": 104,
      "outputs": [
        {
          "output_type": "stream",
          "name": "stdout",
          "text": [
            "La lista materias contiene \n",
            " ['álgebra', 'aritmética', 'razonamiento verbal', 'trigonometría', 'geometría']\n",
            "El segundo elemento de la lista es aritmética\n"
          ]
        }
      ]
    },
    {
      "cell_type": "markdown",
      "source": [
        "### Actividad N003"
      ],
      "metadata": {
        "id": "q0AS9Dqx4wN2"
      }
    },
    {
      "cell_type": "code",
      "source": [
        "## SOLUCIÓN ACTIVIDAD N003\n"
      ],
      "metadata": {
        "id": "aFI0M3XO4oSb"
      },
      "execution_count": 105,
      "outputs": []
    },
    {
      "cell_type": "code",
      "source": [
        "print(f\"La lista lugares: \\n {lugares}\")\n",
        "print(f\"El primer elemento de la lista lugares es {lugares[0]}\")\n",
        "print(f\"El primer elemento de la lista lugares (en mayúsculas) es {lugares[0].upper()}\")"
      ],
      "metadata": {
        "id": "-2v5LC1A5RKV",
        "outputId": "e5b8c2cf-93e1-44e8-ae3f-a6fb7197ebce",
        "colab": {
          "base_uri": "https://localhost:8080/"
        }
      },
      "execution_count": 106,
      "outputs": [
        {
          "output_type": "stream",
          "name": "stdout",
          "text": [
            "La lista lugares: \n",
            " ['macchupichu', 'punta sal', 'pastoruri', 'laguna sauce', 'huacachina']\n",
            "El primer elemento de la lista lugares es macchupichu\n",
            "El primer elemento de la lista lugares (en mayúsculas) es MACCHUPICHU\n"
          ]
        }
      ]
    },
    {
      "cell_type": "code",
      "source": [
        "print(f\"El tercer elemento de la lista lugares es {lugares[2]}\")\n",
        "print(f\"El tercer elemento de la lista lugares (en mayúsculas) es {lugares[2].upper()}\")"
      ],
      "metadata": {
        "id": "X7O8sc6MQ2GL",
        "outputId": "a9b6490a-9f40-4508-dc71-663631eea416",
        "colab": {
          "base_uri": "https://localhost:8080/"
        }
      },
      "execution_count": 107,
      "outputs": [
        {
          "output_type": "stream",
          "name": "stdout",
          "text": [
            "El tercer elemento de la lista lugares es pastoruri\n",
            "El tercer elemento de la lista lugares (en mayúsculas) es PASTORURI\n"
          ]
        }
      ]
    },
    {
      "cell_type": "markdown",
      "source": [
        "### Actividad N004"
      ],
      "metadata": {
        "id": "oxmJ79pa57qM"
      }
    },
    {
      "cell_type": "code",
      "source": [
        "## SOLUCIÓN ACTIVIDAD N004\n"
      ],
      "metadata": {
        "id": "CeGQrfyY5frQ"
      },
      "execution_count": 108,
      "outputs": []
    },
    {
      "cell_type": "code",
      "source": [
        "print(info_personal)"
      ],
      "metadata": {
        "id": "36MA2O4vTT_5",
        "outputId": "14338f1a-cd32-4ce4-a284-84707b16949f",
        "colab": {
          "base_uri": "https://localhost:8080/"
        }
      },
      "execution_count": 109,
      "outputs": [
        {
          "output_type": "stream",
          "name": "stdout",
          "text": [
            "['david', 'ching', 'ingeniero', 41, 'bbva', 16]\n"
          ]
        }
      ]
    },
    {
      "cell_type": "code",
      "source": [
        "print(f\"Hola, me llamo {info_personal[0].capitalize()} {info_personal[1].capitalize()} soy {info_personal[2].capitalize()}, tengo {info_personal[3]} años, trabajo en la empresa {info_personal[4].upper()} y tengo {info_personal[5]} años de experiencia\")"
      ],
      "metadata": {
        "id": "rRj8c03GTAvq",
        "outputId": "0b90461b-bde8-42a7-bfcd-35fb7c620260",
        "colab": {
          "base_uri": "https://localhost:8080/"
        }
      },
      "execution_count": 110,
      "outputs": [
        {
          "output_type": "stream",
          "name": "stdout",
          "text": [
            "Hola, me llamo David Ching soy Ingeniero, tengo 41 años, trabajo en la empresa BBVA y tengo 16 años de experiencia\n"
          ]
        }
      ]
    },
    {
      "cell_type": "code",
      "source": [
        "print(materias)\n",
        "print(f\"La lista materias contiene \\n{materias}\")\n",
        "print(f\"El último elemento de la lista es {materias[-1]}\")"
      ],
      "metadata": {
        "id": "l6kaEYDr6Sn_",
        "outputId": "25d5d6ef-dda6-4491-c076-817f4971cd70",
        "colab": {
          "base_uri": "https://localhost:8080/"
        }
      },
      "execution_count": 111,
      "outputs": [
        {
          "output_type": "stream",
          "name": "stdout",
          "text": [
            "['álgebra', 'aritmética', 'razonamiento verbal', 'trigonometría', 'geometría']\n",
            "La lista materias contiene \n",
            "['álgebra', 'aritmética', 'razonamiento verbal', 'trigonometría', 'geometría']\n",
            "El último elemento de la lista es geometría\n"
          ]
        }
      ]
    },
    {
      "cell_type": "markdown",
      "source": [
        "### Actividad N005"
      ],
      "metadata": {
        "id": "gXt3UlLD6j1I"
      }
    },
    {
      "cell_type": "code",
      "source": [
        "## SOLUCIÓN ACTIVIDAD N005\n"
      ],
      "metadata": {
        "id": "Xw-NMtVe6aJ4"
      },
      "execution_count": 112,
      "outputs": []
    },
    {
      "cell_type": "code",
      "source": [
        "marcas = ['samsung','motorola','xiaomi','apple']"
      ],
      "metadata": {
        "id": "Jp8yoepFYgcu"
      },
      "execution_count": 113,
      "outputs": []
    },
    {
      "cell_type": "code",
      "source": [
        "print(f\"La lista original de marcas es \\n{marcas}\")\n",
        "marcas[1] = 'huawei'\n",
        "print(f\"La lista actualizada de marcas es \\n{marcas}\")"
      ],
      "metadata": {
        "id": "jBhNjvJYZj8C",
        "outputId": "34ebf218-addd-4f14-f05d-d3a8e52cb568",
        "colab": {
          "base_uri": "https://localhost:8080/"
        }
      },
      "execution_count": 114,
      "outputs": [
        {
          "output_type": "stream",
          "name": "stdout",
          "text": [
            "La lista original de marcas es \n",
            "['samsung', 'motorola', 'xiaomi', 'apple']\n",
            "La lista actualizada de marcas es \n",
            "['samsung', 'huawei', 'xiaomi', 'apple']\n"
          ]
        }
      ]
    },
    {
      "cell_type": "markdown",
      "source": [
        "## [5] Modificar los elementos de una lista"
      ],
      "metadata": {
        "id": "9vPV8Ya06s84"
      }
    },
    {
      "cell_type": "code",
      "source": [
        "print(f\"La lista original de materias es \\n{materias}\")\n",
        "materias[1] = 'filosofía'\n",
        "print(f\"La lista actualizada de materias es \\n{materias}\")"
      ],
      "metadata": {
        "id": "qeD97ZwE6n4m",
        "outputId": "0a3fdf0d-e516-4caa-c444-0fd5121ce420",
        "colab": {
          "base_uri": "https://localhost:8080/"
        }
      },
      "execution_count": 115,
      "outputs": [
        {
          "output_type": "stream",
          "name": "stdout",
          "text": [
            "La lista original de materias es \n",
            "['álgebra', 'aritmética', 'razonamiento verbal', 'trigonometría', 'geometría']\n",
            "La lista actualizada de materias es \n",
            "['álgebra', 'filosofía', 'razonamiento verbal', 'trigonometría', 'geometría']\n"
          ]
        }
      ]
    },
    {
      "cell_type": "markdown",
      "source": [
        "### Actividad N006"
      ],
      "metadata": {
        "id": "piyoQAzu7Pqv"
      }
    },
    {
      "cell_type": "code",
      "source": [
        "## SOLUCIÓN ACTIVIDAD N006\n"
      ],
      "metadata": {
        "id": "cW_FXD7G7JI_"
      },
      "execution_count": 116,
      "outputs": []
    },
    {
      "cell_type": "code",
      "source": [
        "print(info_personal)"
      ],
      "metadata": {
        "id": "A6NYelPtbLNw",
        "outputId": "080fe01a-582f-4011-a9b3-2bfab8f8b38d",
        "colab": {
          "base_uri": "https://localhost:8080/"
        }
      },
      "execution_count": 117,
      "outputs": [
        {
          "output_type": "stream",
          "name": "stdout",
          "text": [
            "['david', 'ching', 'ingeniero', 41, 'bbva', 16]\n"
          ]
        }
      ]
    },
    {
      "cell_type": "code",
      "source": [
        "info_personal[4] = 'bcp'\n",
        "print(info_personal)"
      ],
      "metadata": {
        "id": "TK-07eENbOEj",
        "outputId": "d5627e5f-0a20-4c3c-b774-c5ce8e22cd71",
        "colab": {
          "base_uri": "https://localhost:8080/"
        }
      },
      "execution_count": 118,
      "outputs": [
        {
          "output_type": "stream",
          "name": "stdout",
          "text": [
            "['david', 'ching', 'ingeniero', 41, 'bcp', 16]\n"
          ]
        }
      ]
    },
    {
      "cell_type": "markdown",
      "source": [
        "## [6] Añadir un elemento a una lista"
      ],
      "metadata": {
        "id": "nzRyoj8H7bMD"
      }
    },
    {
      "cell_type": "markdown",
      "source": [
        "### Método append"
      ],
      "metadata": {
        "id": "F5qgskxX79FW"
      }
    },
    {
      "cell_type": "code",
      "source": [
        "print(f\"La lista original es \\n{materias}\")\n",
        "materias.append('química')\n",
        "print(f\"La lista actualizada es \\n{materias}\")"
      ],
      "metadata": {
        "id": "5YeIR2kw7XTZ",
        "outputId": "ee2fe4d2-bd53-439e-cf2c-e375ec36f1b8",
        "colab": {
          "base_uri": "https://localhost:8080/"
        }
      },
      "execution_count": 119,
      "outputs": [
        {
          "output_type": "stream",
          "name": "stdout",
          "text": [
            "La lista original es \n",
            "['álgebra', 'filosofía', 'razonamiento verbal', 'trigonometría', 'geometría']\n",
            "La lista actualizada es \n",
            "['álgebra', 'filosofía', 'razonamiento verbal', 'trigonometría', 'geometría', 'química']\n"
          ]
        }
      ]
    },
    {
      "cell_type": "markdown",
      "source": [
        "### Actividad N007"
      ],
      "metadata": {
        "id": "uKnBn9RX7zoB"
      }
    },
    {
      "cell_type": "code",
      "source": [
        "## SOLUCIÓN ACTIVIDA N007\n"
      ],
      "metadata": {
        "id": "f25BvpPa7vSw"
      },
      "execution_count": 120,
      "outputs": []
    },
    {
      "cell_type": "code",
      "source": [
        "print(lugares)"
      ],
      "metadata": {
        "id": "bZrH27bscaLY",
        "outputId": "9da55791-5134-4e31-c053-4361e7cef2aa",
        "colab": {
          "base_uri": "https://localhost:8080/"
        }
      },
      "execution_count": 121,
      "outputs": [
        {
          "output_type": "stream",
          "name": "stdout",
          "text": [
            "['macchupichu', 'punta sal', 'pastoruri', 'laguna sauce', 'huacachina']\n"
          ]
        }
      ]
    },
    {
      "cell_type": "code",
      "source": [
        "print(f\"La lista original lugares es \\n{lugares}\")\n",
        "lugares.append('huarmey')\n",
        "print(f\"La lista actualizada lugares es \\n{lugares}\")"
      ],
      "metadata": {
        "id": "Y_VDq2rEckmN",
        "outputId": "3d77b8da-c6b1-4cca-9a8e-20dd4282137a",
        "colab": {
          "base_uri": "https://localhost:8080/"
        }
      },
      "execution_count": 122,
      "outputs": [
        {
          "output_type": "stream",
          "name": "stdout",
          "text": [
            "La lista original lugares es \n",
            "['macchupichu', 'punta sal', 'pastoruri', 'laguna sauce', 'huacachina']\n",
            "La lista actualizada lugares es \n",
            "['macchupichu', 'punta sal', 'pastoruri', 'laguna sauce', 'huacachina', 'huarmey']\n"
          ]
        }
      ]
    },
    {
      "cell_type": "markdown",
      "source": [
        "### Método insert"
      ],
      "metadata": {
        "id": "Ejv_9b5g8CKs"
      }
    },
    {
      "cell_type": "code",
      "source": [
        "print(f\"La lista de materias es \\n{materias}\")\n",
        "materias.insert(3,'física')\n",
        "print(f\"La lista de materias actualizada es \\n{materias}\")"
      ],
      "metadata": {
        "id": "jC1p2XUZ73wB",
        "outputId": "d523e65f-1227-4bc6-9f21-d37b91194df0",
        "colab": {
          "base_uri": "https://localhost:8080/"
        }
      },
      "execution_count": 123,
      "outputs": [
        {
          "output_type": "stream",
          "name": "stdout",
          "text": [
            "La lista de materias es \n",
            "['álgebra', 'filosofía', 'razonamiento verbal', 'trigonometría', 'geometría', 'química']\n",
            "La lista de materias actualizada es \n",
            "['álgebra', 'filosofía', 'razonamiento verbal', 'física', 'trigonometría', 'geometría', 'química']\n"
          ]
        }
      ]
    },
    {
      "cell_type": "markdown",
      "source": [
        "### Actividad N008"
      ],
      "metadata": {
        "id": "DcgswlJf8ggw"
      }
    },
    {
      "cell_type": "code",
      "source": [
        "## SOLUCIÓN ACTIVIDAD N008\n"
      ],
      "metadata": {
        "id": "0xWkqsRR8azc"
      },
      "execution_count": 124,
      "outputs": []
    },
    {
      "cell_type": "code",
      "source": [
        "print(info_personal)"
      ],
      "metadata": {
        "id": "bJee8NYIeJSf",
        "outputId": "277f4405-4308-4af6-acf0-f9a9530113ad",
        "colab": {
          "base_uri": "https://localhost:8080/"
        }
      },
      "execution_count": 125,
      "outputs": [
        {
          "output_type": "stream",
          "name": "stdout",
          "text": [
            "['david', 'ching', 'ingeniero', 41, 'bcp', 16]\n"
          ]
        }
      ]
    },
    {
      "cell_type": "code",
      "source": [
        "info_personal.insert(3,'unmsm')\n",
        "print(info_personal)"
      ],
      "metadata": {
        "id": "IbsdhTZYe1Yz",
        "outputId": "fd04197d-224d-4eaa-86a2-a4180a8e0e33",
        "colab": {
          "base_uri": "https://localhost:8080/"
        }
      },
      "execution_count": 126,
      "outputs": [
        {
          "output_type": "stream",
          "name": "stdout",
          "text": [
            "['david', 'ching', 'ingeniero', 'unmsm', 41, 'bcp', 16]\n"
          ]
        }
      ]
    },
    {
      "cell_type": "code",
      "source": [
        "print(f\"Hola, me llamo {info_personal[0].capitalize()} {info_personal[1].capitalize()} soy {info_personal[2].capitalize()}, estudie en la institución {info_personal[3].upper()}, tengo {info_personal[4]} años, trabajo en la empresa {info_personal[5].upper()} y tengo {info_personal[6]} años de experiencia\")"
      ],
      "metadata": {
        "id": "nryke9gYfNWU",
        "outputId": "8539b47f-ed12-407f-d959-22dd1922f3a5",
        "colab": {
          "base_uri": "https://localhost:8080/"
        }
      },
      "execution_count": 127,
      "outputs": [
        {
          "output_type": "stream",
          "name": "stdout",
          "text": [
            "Hola, me llamo David Ching soy Ingeniero, estudie en la institución UNMSM, tengo 41 años, trabajo en la empresa BCP y tengo 16 años de experiencia\n"
          ]
        }
      ]
    },
    {
      "cell_type": "code",
      "source": [],
      "metadata": {
        "id": "w_ILDMxOfHHq"
      },
      "execution_count": 127,
      "outputs": []
    },
    {
      "cell_type": "markdown",
      "source": [
        "## [7] Remover los elementos de una lista"
      ],
      "metadata": {
        "id": "s2icJ_8C8scH"
      }
    },
    {
      "cell_type": "markdown",
      "source": [
        "### Método del"
      ],
      "metadata": {
        "id": "Oc8L61Ao9Vyt"
      }
    },
    {
      "cell_type": "code",
      "source": [
        "print(f\"La lista materias es \\n{materias}\")\n",
        "del materias[3]\n",
        "print(f\"La lista actualizada es \\n{materias}\")"
      ],
      "metadata": {
        "id": "1K-iK1NQ8kEf",
        "outputId": "b2909818-7213-4bb0-8abf-47ba30577a67",
        "colab": {
          "base_uri": "https://localhost:8080/"
        }
      },
      "execution_count": 128,
      "outputs": [
        {
          "output_type": "stream",
          "name": "stdout",
          "text": [
            "La lista materias es \n",
            "['álgebra', 'filosofía', 'razonamiento verbal', 'física', 'trigonometría', 'geometría', 'química']\n",
            "La lista actualizada es \n",
            "['álgebra', 'filosofía', 'razonamiento verbal', 'trigonometría', 'geometría', 'química']\n"
          ]
        }
      ]
    },
    {
      "cell_type": "markdown",
      "source": [
        "### Actividad N009"
      ],
      "metadata": {
        "id": "VFggpdYt9MR4"
      }
    },
    {
      "cell_type": "code",
      "source": [
        "## SOLUCIÓN ACTIVIDAD N009\n"
      ],
      "metadata": {
        "id": "2j90g_Ct9Itc"
      },
      "execution_count": 129,
      "outputs": []
    },
    {
      "cell_type": "code",
      "source": [
        "print(f\"La lista marcas contiene los siguientes elementos \\n{marcas}\")\n",
        "del marcas[2]\n",
        "print(f\"La lista marcas (actualizada) contiene los siguientes elementos \\n{marcas}\")"
      ],
      "metadata": {
        "id": "oFZUI8HigsnS",
        "outputId": "fbfbedcb-9663-4d57-aa8e-97baf2913684",
        "colab": {
          "base_uri": "https://localhost:8080/"
        }
      },
      "execution_count": 130,
      "outputs": [
        {
          "output_type": "stream",
          "name": "stdout",
          "text": [
            "La lista marcas contiene los siguientes elementos \n",
            "['samsung', 'huawei', 'xiaomi', 'apple']\n",
            "La lista marcas (actualizada) contiene los siguientes elementos \n",
            "['samsung', 'huawei', 'apple']\n"
          ]
        }
      ]
    },
    {
      "cell_type": "markdown",
      "source": [],
      "metadata": {
        "id": "itYsZtLr9a1y"
      }
    },
    {
      "cell_type": "markdown",
      "source": [
        "### Método pop"
      ],
      "metadata": {
        "id": "G_-05doA9ckW"
      }
    },
    {
      "cell_type": "code",
      "source": [
        "print(materias)"
      ],
      "metadata": {
        "id": "5E4BThxejrM3",
        "outputId": "76d8255c-a8b2-4398-ca25-70409756d80a",
        "colab": {
          "base_uri": "https://localhost:8080/"
        }
      },
      "execution_count": 131,
      "outputs": [
        {
          "output_type": "stream",
          "name": "stdout",
          "text": [
            "['álgebra', 'filosofía', 'razonamiento verbal', 'trigonometría', 'geometría', 'química']\n"
          ]
        }
      ]
    },
    {
      "cell_type": "code",
      "source": [
        "print(f\"La lista materias es \\n{materias}\")\n",
        "el_exc1 = materias.pop()\n",
        "print(f\"La lista materias actualizada es \\n{materias}\")"
      ],
      "metadata": {
        "id": "vzzIn2MP9QQ0",
        "outputId": "4af29c05-4da2-4149-c951-c9a79f120353",
        "colab": {
          "base_uri": "https://localhost:8080/"
        }
      },
      "execution_count": 132,
      "outputs": [
        {
          "output_type": "stream",
          "name": "stdout",
          "text": [
            "La lista materias es \n",
            "['álgebra', 'filosofía', 'razonamiento verbal', 'trigonometría', 'geometría', 'química']\n",
            "La lista materias actualizada es \n",
            "['álgebra', 'filosofía', 'razonamiento verbal', 'trigonometría', 'geometría']\n"
          ]
        }
      ]
    },
    {
      "cell_type": "code",
      "source": [
        "print(f\"El elemento eliminado de la lista materias, ubicado al final de la lista es {el_exc1}\")"
      ],
      "metadata": {
        "id": "_dYro6si9qDD",
        "outputId": "13639689-77fe-47ac-876f-5b9b5bfe2553",
        "colab": {
          "base_uri": "https://localhost:8080/"
        }
      },
      "execution_count": 133,
      "outputs": [
        {
          "output_type": "stream",
          "name": "stdout",
          "text": [
            "El elemento eliminado de la lista materias, ubicado al final de la lista es química\n"
          ]
        }
      ]
    },
    {
      "cell_type": "code",
      "source": [
        "el_exc2 = materias.pop(3)\n",
        "print(f\"El elemento eliminado de la lista materias, ubicado en la cuarta posición es {el_exc2}\")\n",
        "print(f\"La lista materias actualizada es \\n{materias}\")"
      ],
      "metadata": {
        "id": "X-w9D9Cf9wsE",
        "outputId": "ea227324-099e-4789-890a-514c2eceae70",
        "colab": {
          "base_uri": "https://localhost:8080/"
        }
      },
      "execution_count": 134,
      "outputs": [
        {
          "output_type": "stream",
          "name": "stdout",
          "text": [
            "El elemento eliminado de la lista materias, ubicado en la cuarta posición es trigonometría\n",
            "La lista materias actualizada es \n",
            "['álgebra', 'filosofía', 'razonamiento verbal', 'geometría']\n"
          ]
        }
      ]
    },
    {
      "cell_type": "markdown",
      "source": [
        "### Actividad N010"
      ],
      "metadata": {
        "id": "11c8mjWM-N4m"
      }
    },
    {
      "cell_type": "code",
      "source": [
        "## SOLUCIÓN ACTIVIDAD N010\n"
      ],
      "metadata": {
        "id": "QhLPByTU-BPb"
      },
      "execution_count": 89,
      "outputs": []
    },
    {
      "cell_type": "code",
      "source": [
        "print(f\"La lista lugares contiene los siguientes elementos \\n{lugares}\")\n",
        "el_el1 = lugares.pop(1)\n",
        "el_el2 = lugares.pop()\n",
        "print(f\"El elemento eliminado es {el_el1}\")\n",
        "print(f\"El elemento eliminado es {el_el2}\")\n",
        "print(f\"La lista lugares (actualizada) contiene los siguientes elementos \\n{lugares}\")"
      ],
      "metadata": {
        "id": "ly25BN-clFFH",
        "outputId": "ec69fac1-dabb-416c-dd0a-5ca6892ecba3",
        "colab": {
          "base_uri": "https://localhost:8080/"
        }
      },
      "execution_count": 135,
      "outputs": [
        {
          "output_type": "stream",
          "name": "stdout",
          "text": [
            "La lista lugares contiene los siguientes elementos \n",
            "['macchupichu', 'punta sal', 'pastoruri', 'laguna sauce', 'huacachina', 'huarmey']\n",
            "El elemento eliminado es punta sal\n",
            "El elemento eliminado es huarmey\n",
            "La lista lugares (actualizada) contiene los siguientes elementos \n",
            "['macchupichu', 'pastoruri', 'laguna sauce', 'huacachina']\n"
          ]
        }
      ]
    },
    {
      "cell_type": "code",
      "source": [],
      "metadata": {
        "id": "ly6-J85ojeSi"
      },
      "execution_count": null,
      "outputs": []
    },
    {
      "cell_type": "markdown",
      "source": [
        "### Método remove"
      ],
      "metadata": {
        "id": "GPviXjjh-WZr"
      }
    },
    {
      "cell_type": "code",
      "source": [
        "print(materias)"
      ],
      "metadata": {
        "colab": {
          "base_uri": "https://localhost:8080/"
        },
        "id": "qXjg4ldnb-1U",
        "outputId": "8df4a42b-73ec-4081-ba47-f357de2b2cb1"
      },
      "execution_count": 136,
      "outputs": [
        {
          "output_type": "stream",
          "name": "stdout",
          "text": [
            "['álgebra', 'filosofía', 'razonamiento verbal', 'geometría']\n"
          ]
        }
      ]
    },
    {
      "cell_type": "code",
      "source": [
        "print(f\"La lista materias es \\n{materias}\")\n",
        "materias.remove('filosofía')\n",
        "print(f\"La lista materias actualizada es \\n{materias}\")"
      ],
      "metadata": {
        "id": "tAxqSlE0-SDt"
      },
      "execution_count": null,
      "outputs": []
    },
    {
      "cell_type": "code",
      "source": [
        "materias = ['álgebra', 'filosofía', 'razonamiento verbal', 'geometría','geometría']\n",
        "print(f\"La lista materias es \\n{materias}\")\n",
        "materias.remove('geometría')\n",
        "print(f\"La lista materias actualizada es \\n{materias}\")"
      ],
      "metadata": {
        "colab": {
          "base_uri": "https://localhost:8080/"
        },
        "id": "ICP9UWbVdLdU",
        "outputId": "eece5238-f970-4fe2-8e00-d3c041265b16"
      },
      "execution_count": 137,
      "outputs": [
        {
          "output_type": "stream",
          "name": "stdout",
          "text": [
            "La lista materias es \n",
            "['álgebra', 'filosofía', 'razonamiento verbal', 'geometría', 'geometría']\n",
            "La lista materias actualizada es \n",
            "['álgebra', 'filosofía', 'razonamiento verbal', 'geometría']\n"
          ]
        }
      ]
    },
    {
      "cell_type": "markdown",
      "source": [
        "### Actividad N011"
      ],
      "metadata": {
        "id": "I7nsxzfd-oTV"
      }
    },
    {
      "cell_type": "code",
      "source": [
        "## SOLUCIÓN ACTIVIDAD N011\n"
      ],
      "metadata": {
        "id": "i3RyrzJw-kCr"
      },
      "execution_count": null,
      "outputs": []
    },
    {
      "cell_type": "markdown",
      "source": [
        "Imprimir la lista de marcas y eliminar la marca que mas usas"
      ],
      "metadata": {
        "id": "m1FfvOJ4d_X5"
      }
    },
    {
      "cell_type": "code",
      "source": [
        "marcas = ['samsung','motorola','xiaomi','apple']\n",
        "print(marcas)\n",
        "print(f\"La lista marcas es \\n{marcas}\")\n",
        "marcas.remove('apple')\n",
        "print(f\"La lista marcas actualizada es \\n{marcas}\")"
      ],
      "metadata": {
        "colab": {
          "base_uri": "https://localhost:8080/"
        },
        "id": "ducXkoC3dfmp",
        "outputId": "68ba1376-22d5-4692-9e0e-116230dbd374"
      },
      "execution_count": 141,
      "outputs": [
        {
          "output_type": "stream",
          "name": "stdout",
          "text": [
            "['samsung', 'motorola', 'xiaomi', 'apple']\n",
            "La lista marcas es \n",
            "['samsung', 'motorola', 'xiaomi', 'apple']\n",
            "La lista marcas actualizada es \n",
            "['samsung', 'motorola', 'xiaomi']\n"
          ]
        }
      ]
    },
    {
      "cell_type": "markdown",
      "source": [
        "## [8] Ordenar los elementos de una lista"
      ],
      "metadata": {
        "id": "PMOmvQ1O-vz7"
      }
    },
    {
      "cell_type": "markdown",
      "source": [
        "### De manera permanente"
      ],
      "metadata": {
        "id": "2fdlt9Vc_weK"
      }
    },
    {
      "cell_type": "code",
      "source": [
        "print(f\"La lista materias es \\n{materias}\")\n",
        "materias.sort()\n",
        "print(f\"La lista materias actualizada es \\n{materias}\")\n",
        "#Ordena de la A a la Z, si encuentra caracteres extraños como tilde, lo deja al final\n"
      ],
      "metadata": {
        "id": "UCivu0jT-ryW",
        "colab": {
          "base_uri": "https://localhost:8080/"
        },
        "outputId": "c0dab7fc-b30c-442b-d745-db6606dfa1d1"
      },
      "execution_count": 143,
      "outputs": [
        {
          "output_type": "stream",
          "name": "stdout",
          "text": [
            "La lista materias es \n",
            "['filosofía', 'geometría', 'razonamiento verbal', 'álgebra']\n",
            "La lista materias actualizada es \n",
            "['filosofía', 'geometría', 'razonamiento verbal', 'álgebra']\n"
          ]
        }
      ]
    },
    {
      "cell_type": "code",
      "source": [
        "print(f\"La lista lugares es \\n{lugares}\")\n",
        "lugares.sort(reverse=True) #Se ordena de Z a A\n",
        "print(f\"La lista lugares actualizada es \\n{lugares}\")"
      ],
      "metadata": {
        "id": "rjkFon3L_Byz",
        "colab": {
          "base_uri": "https://localhost:8080/"
        },
        "outputId": "ab4eb893-3ae5-4af8-c5e5-e0d9c3978b24"
      },
      "execution_count": 145,
      "outputs": [
        {
          "output_type": "stream",
          "name": "stdout",
          "text": [
            "La lista lugares es \n",
            "['pastoruri', 'macchupichu', 'laguna sauce', 'huacachina']\n",
            "La lista lugares actualizada es \n",
            "['pastoruri', 'macchupichu', 'laguna sauce', 'huacachina']\n"
          ]
        }
      ]
    },
    {
      "cell_type": "markdown",
      "source": [
        "### Actividad N012"
      ],
      "metadata": {
        "id": "jJh7CDJO_s2r"
      }
    },
    {
      "cell_type": "code",
      "source": [
        "## SOLUCIÓN ACTIVIDAD N012\n"
      ],
      "metadata": {
        "id": "vvPtDflm_cNf"
      },
      "execution_count": null,
      "outputs": []
    },
    {
      "cell_type": "markdown",
      "source": [
        "Crear una Lista de paises y ordenarlo de manera inversa"
      ],
      "metadata": {
        "id": "7QdKag6NgbVH"
      }
    },
    {
      "cell_type": "code",
      "source": [
        "paises=['peru', 'argentina', 'uruguay','venezuela','argelia']\n",
        "paises.sort()\n",
        "print(paises)\n",
        "paises.reverse()\n",
        "print(paises)\n"
      ],
      "metadata": {
        "colab": {
          "base_uri": "https://localhost:8080/"
        },
        "id": "0RL9wsvtgjz7",
        "outputId": "d8aacc83-6161-4ed7-bc9e-571987658f25"
      },
      "execution_count": 152,
      "outputs": [
        {
          "output_type": "stream",
          "name": "stdout",
          "text": [
            "['argelia', 'argentina', 'peru', 'uruguay', 'venezuela']\n",
            "['venezuela', 'uruguay', 'peru', 'argentina', 'argelia']\n"
          ]
        }
      ]
    },
    {
      "cell_type": "markdown",
      "source": [
        "### De manera temporal"
      ],
      "metadata": {
        "id": "gpQQQ2ZU_6tG"
      }
    },
    {
      "cell_type": "code",
      "source": [
        "print(f\"La lista lugares es \\n{lugares}\")\n",
        "print(f\"La lista lugares actualizada es \\n{sorted(lugares)}\")"
      ],
      "metadata": {
        "id": "8V88UcQL_5Qb",
        "colab": {
          "base_uri": "https://localhost:8080/"
        },
        "outputId": "7919672b-4368-424a-e3fb-c738ed0fca6f"
      },
      "execution_count": 153,
      "outputs": [
        {
          "output_type": "stream",
          "name": "stdout",
          "text": [
            "La lista lugares es \n",
            "['pastoruri', 'macchupichu', 'laguna sauce', 'huacachina']\n",
            "La lista lugares actualizada es \n",
            "['huacachina', 'laguna sauce', 'macchupichu', 'pastoruri']\n"
          ]
        }
      ]
    },
    {
      "cell_type": "code",
      "source": [
        "print(f\"La lista lugares es \\n{lugares}\")\n",
        "print(f\"La lista lugares actualizada es \\n{sorted(lugares,reverse=True)}\")"
      ],
      "metadata": {
        "id": "NbIEj-qrAI5R",
        "colab": {
          "base_uri": "https://localhost:8080/"
        },
        "outputId": "22a9155c-29cd-443e-a195-a8cff8101c67"
      },
      "execution_count": 154,
      "outputs": [
        {
          "output_type": "stream",
          "name": "stdout",
          "text": [
            "La lista lugares es \n",
            "['pastoruri', 'macchupichu', 'laguna sauce', 'huacachina']\n",
            "La lista lugares actualizada es \n",
            "['pastoruri', 'macchupichu', 'laguna sauce', 'huacachina']\n"
          ]
        }
      ]
    },
    {
      "cell_type": "markdown",
      "source": [
        "### Actividad N013"
      ],
      "metadata": {
        "id": "rDQF6aidAYLm"
      }
    },
    {
      "cell_type": "code",
      "source": [
        "## SOLUCIÓN ACTIVIDAD N013\n"
      ],
      "metadata": {
        "id": "5gUbMvDKAQs2"
      },
      "execution_count": null,
      "outputs": []
    },
    {
      "cell_type": "markdown",
      "source": [
        "## [9] Invertir los elementos de una lista"
      ],
      "metadata": {
        "id": "TCzgVFc2Adgi"
      }
    },
    {
      "cell_type": "code",
      "source": [
        "print(f\"La lista materias es \\n{materias}\")\n",
        "materias.reverse()\n",
        "print(f\"La lista materias actualizada es \\n{materias}\")"
      ],
      "metadata": {
        "id": "VfMEiCyEAb4e",
        "colab": {
          "base_uri": "https://localhost:8080/"
        },
        "outputId": "261ec9b0-87b0-4811-92c2-4551a559380c"
      },
      "execution_count": 155,
      "outputs": [
        {
          "output_type": "stream",
          "name": "stdout",
          "text": [
            "La lista materias es \n",
            "['filosofía', 'geometría', 'razonamiento verbal', 'álgebra']\n",
            "La lista materias actualizada es \n",
            "['álgebra', 'razonamiento verbal', 'geometría', 'filosofía']\n"
          ]
        }
      ]
    },
    {
      "cell_type": "markdown",
      "source": [
        "### Actividad N014"
      ],
      "metadata": {
        "id": "BnpGEyXRAy9X"
      }
    },
    {
      "cell_type": "code",
      "source": [
        "## SOLUCIÓN ACTIVIDAD N014\n"
      ],
      "metadata": {
        "id": "alT3g_kjAu_F"
      },
      "execution_count": null,
      "outputs": []
    },
    {
      "cell_type": "code",
      "source": [
        "universidades=['pucp','usil','esan','ulima','usmp','utec']\n",
        "print(f\"La lista universidades es \\n{universidades}\")\n",
        "universidades.reverse()\n",
        "print(f\"La lista universidades actualizada es \\n{universidades}\")"
      ],
      "metadata": {
        "colab": {
          "base_uri": "https://localhost:8080/"
        },
        "id": "HjUSNkoxkHs5",
        "outputId": "f55384e2-2f24-4bc8-f1f9-937eb9ed4a22"
      },
      "execution_count": 156,
      "outputs": [
        {
          "output_type": "stream",
          "name": "stdout",
          "text": [
            "La lista universidades es \n",
            "['pucp', 'usil', 'esan', 'ulima', 'usmp', 'utec']\n",
            "La lista universidades actualizada es \n",
            "['utec', 'usmp', 'ulima', 'esan', 'usil', 'pucp']\n"
          ]
        }
      ]
    },
    {
      "cell_type": "markdown",
      "source": [
        "## [10] Cuantificar los elementos de una lista"
      ],
      "metadata": {
        "id": "sQVSPLHcA53H"
      }
    },
    {
      "cell_type": "code",
      "source": [
        "print(f\"La lista lugares es \\n{lugares}\")\n",
        "print(f\"La cantidad de elementos de la lista lugares es {len(lugares)}\")"
      ],
      "metadata": {
        "id": "yW0-j-EaA4E0",
        "colab": {
          "base_uri": "https://localhost:8080/"
        },
        "outputId": "08f35650-2131-486b-a15a-dedd16e2daf0"
      },
      "execution_count": 157,
      "outputs": [
        {
          "output_type": "stream",
          "name": "stdout",
          "text": [
            "La lista lugares es \n",
            "['pastoruri', 'macchupichu', 'laguna sauce', 'huacachina']\n",
            "La cantidad de elementos de la lista lugares es 4\n"
          ]
        }
      ]
    },
    {
      "cell_type": "markdown",
      "source": [
        "### Actividad N015"
      ],
      "metadata": {
        "id": "roDrSGHjBI-x"
      }
    },
    {
      "cell_type": "code",
      "source": [
        "## SOLUCIÓN ACTIVIDAD N015\n"
      ],
      "metadata": {
        "id": "wXYtA8HzBG-6"
      },
      "execution_count": null,
      "outputs": []
    },
    {
      "cell_type": "code",
      "source": [
        "universidades=['pucp','usil','esan','ulima','usmp','utec']\n",
        "print(f\"La lista universidades es \\n{universidades}\")\n",
        "print(f\"La cantidad de elementos de la lista universidades es {len(universidades)}\")"
      ],
      "metadata": {
        "id": "izy_t_MQBNny",
        "colab": {
          "base_uri": "https://localhost:8080/"
        },
        "outputId": "b7fb1322-90b7-44cd-96aa-b04fa14173a8"
      },
      "execution_count": 158,
      "outputs": [
        {
          "output_type": "stream",
          "name": "stdout",
          "text": [
            "La lista universidades es \n",
            "['pucp', 'usil', 'esan', 'ulima', 'usmp', 'utec']\n",
            "La cantidad de elementos de la lista universidades es 6\n"
          ]
        }
      ]
    },
    {
      "cell_type": "code",
      "source": [
        "print(info_personal)\n",
        "print(f\"La lista info_personal es \\n{info_personal}\")\n",
        "print(f\"La cantidad de elementos de la lista info_personal es {len(info_personal)}\")\n"
      ],
      "metadata": {
        "colab": {
          "base_uri": "https://localhost:8080/"
        },
        "id": "U1nQVhEilWlo",
        "outputId": "3bb15fd2-afd3-411d-fc7f-38a688c1e4bc"
      },
      "execution_count": 161,
      "outputs": [
        {
          "output_type": "stream",
          "name": "stdout",
          "text": [
            "['david', 'ching', 'ingeniero', 'unmsm', 41, 'bcp', 16]\n",
            "La lista info_personal es \n",
            "['david', 'ching', 'ingeniero', 'unmsm', 41, 'bcp', 16]\n",
            "La cantidad de elementos de la lista info_personal es 7\n"
          ]
        }
      ]
    }
  ]
}