{
  "nbformat": 4,
  "nbformat_minor": 0,
  "metadata": {
    "colab": {
      "provenance": [],
      "include_colab_link": true
    },
    "kernelspec": {
      "name": "python3",
      "display_name": "Python 3"
    },
    "language_info": {
      "name": "python"
    }
  },
  "cells": [
    {
      "cell_type": "markdown",
      "metadata": {
        "id": "view-in-github",
        "colab_type": "text"
      },
      "source": [
        "<a href=\"https://colab.research.google.com/github/DavChing/programa-python_utec/blob/main/Modulo2/Progama_Python_UTEC_Sesion01.ipynb\" target=\"_parent\"><img src=\"https://colab.research.google.com/assets/colab-badge.svg\" alt=\"Open In Colab\"/></a>"
      ]
    },
    {
      "cell_type": "markdown",
      "source": [
        "## [1] Ejemplos de resutados en Python (listas)"
      ],
      "metadata": {
        "id": "RC5ssv_RyXXl"
      }
    },
    {
      "cell_type": "markdown",
      "source": [
        "### [1.1] De expresiones regulares"
      ],
      "metadata": {
        "id": "m8U92nipzNEz"
      }
    },
    {
      "cell_type": "code",
      "execution_count": 1,
      "metadata": {
        "id": "y2j3ZkyJxfTf",
        "outputId": "35889787-540f-46d4-a196-0ff90c8f3476",
        "colab": {
          "base_uri": "https://localhost:8080/"
        }
      },
      "outputs": [
        {
          "output_type": "stream",
          "name": "stdout",
          "text": [
            "['david@example.com', 'ana123@gmail.com']\n"
          ]
        }
      ],
      "source": [
        "import re\n",
        "\n",
        "texto = \"Mi correo es david@example.com y el de Ana es ana123@gmail.com\"\n",
        "correos = re.findall(r'\\S+@\\S+', texto)\n",
        "print(correos)"
      ]
    },
    {
      "cell_type": "code",
      "source": [
        "type(correos)"
      ],
      "metadata": {
        "id": "E-JxjBuwyavM"
      },
      "execution_count": null,
      "outputs": []
    },
    {
      "cell_type": "markdown",
      "source": [
        "### [1.2] Del uso de librerías"
      ],
      "metadata": {
        "id": "emDsY1i0z-Ej"
      }
    },
    {
      "cell_type": "code",
      "source": [
        "import sys\n",
        "\n",
        "sys.path"
      ],
      "metadata": {
        "id": "p6yeYDvb0Lr7"
      },
      "execution_count": null,
      "outputs": []
    },
    {
      "cell_type": "code",
      "source": [
        "type(sys.path)"
      ],
      "metadata": {
        "id": "3QgxX7400Tod"
      },
      "execution_count": null,
      "outputs": []
    },
    {
      "cell_type": "markdown",
      "source": [
        "### [1.3] De Dataframes"
      ],
      "metadata": {
        "id": "SrQhILEo0bwm"
      }
    },
    {
      "cell_type": "code",
      "source": [
        "import pandas as pd\n",
        "\n",
        "df = pd.read_csv(\"/content/clientes.csv\", sep=\";\")\n",
        "nombres = df.columns.tolist()\n",
        "print(nombres)"
      ],
      "metadata": {
        "id": "wvk_SxO8zEaK",
        "outputId": "50db227e-93a9-4878-dbb7-7111d0cd5482",
        "colab": {
          "base_uri": "https://localhost:8080/"
        }
      },
      "execution_count": 2,
      "outputs": [
        {
          "output_type": "stream",
          "name": "stdout",
          "text": [
            "['ID', 'EDAD', 'INGRESOS', 'RIESGO', 'LINEA_TC']\n"
          ]
        }
      ]
    },
    {
      "cell_type": "code",
      "source": [
        "type(nombres)"
      ],
      "metadata": {
        "id": "m77tovvY0sQC",
        "outputId": "28d8ec26-f911-4fd2-d0bb-a9fda572950f",
        "colab": {
          "base_uri": "https://localhost:8080/"
        }
      },
      "execution_count": 3,
      "outputs": [
        {
          "output_type": "execute_result",
          "data": {
            "text/plain": [
              "list"
            ]
          },
          "metadata": {},
          "execution_count": 3
        }
      ]
    },
    {
      "cell_type": "markdown",
      "source": [
        "### [1.3] De archivos de texto"
      ],
      "metadata": {
        "id": "ZmHzYEI91xj3"
      }
    },
    {
      "cell_type": "code",
      "source": [
        "import csv\n",
        "\n",
        "with open(\"/content/clientes.csv\", newline='') as archivo:\n",
        "    lector = csv.reader(archivo, delimiter=';')\n",
        "    filas = list(lector)\n",
        "    print(filas)  # Lista de listas (filas del archivo CSV)\n"
      ],
      "metadata": {
        "id": "Sp2JIB8x1Gp0",
        "outputId": "d07c1d2e-efa0-4eea-e804-e6d93c395d01",
        "colab": {
          "base_uri": "https://localhost:8080/"
        }
      },
      "execution_count": 4,
      "outputs": [
        {
          "output_type": "stream",
          "name": "stdout",
          "text": [
            "[['ID', 'EDAD', 'INGRESOS', 'RIESGO', 'LINEA_TC'], ['123', '36', '1348', 'A', '49924'], ['234', '52', '9479', 'A', '28454'], ['345', '60', '7511', 'B', '14250'], ['456', '40', '7992', 'C', '32064'], ['567', '58', '2675', 'C', '1485'], ['678', '47', '7086', 'D', '29157'], ['789', '31', '4704', 'E', '14945'], ['999', '42', '6245', 'E', '8798']]\n"
          ]
        }
      ]
    },
    {
      "cell_type": "markdown",
      "source": [
        "## [2] Crear una lista"
      ],
      "metadata": {
        "id": "irKBCMSW02eJ"
      }
    },
    {
      "cell_type": "markdown",
      "source": [
        "### Actividad N001"
      ],
      "metadata": {
        "id": "--8g9GOM463B"
      }
    },
    {
      "cell_type": "code",
      "source": [
        "lugares = ['macchupichu','punta sal','pastoruri','laguna sauce','huacachina']"
      ],
      "metadata": {
        "id": "vnmUFQc_0xKy"
      },
      "execution_count": 68,
      "outputs": []
    },
    {
      "cell_type": "code",
      "source": [
        "type(lugares)"
      ],
      "metadata": {
        "id": "WPfgFOT6NcJV",
        "outputId": "ff671d39-0a3b-4ce7-b6c5-b91d92300d40",
        "colab": {
          "base_uri": "https://localhost:8080/"
        }
      },
      "execution_count": 11,
      "outputs": [
        {
          "output_type": "execute_result",
          "data": {
            "text/plain": [
              "list"
            ]
          },
          "metadata": {},
          "execution_count": 11
        }
      ]
    },
    {
      "cell_type": "code",
      "source": [
        "print(f\"La lista de mis lugares favoritos es \\n {lugares}\")"
      ],
      "metadata": {
        "id": "EwmY7UZh21hv",
        "outputId": "d35bb21c-e11a-4dda-ab65-b9f32231c3da",
        "colab": {
          "base_uri": "https://localhost:8080/"
        }
      },
      "execution_count": 69,
      "outputs": [
        {
          "output_type": "stream",
          "name": "stdout",
          "text": [
            "La lista de mis lugares favoritos es \n",
            " ['macchupichu', 'punta sal', 'pastoruri', 'laguna sauce', 'huacachina']\n"
          ]
        }
      ]
    },
    {
      "cell_type": "markdown",
      "source": [
        "## [3] Tipos de listas"
      ],
      "metadata": {
        "id": "wQ0it4O23BVX"
      }
    },
    {
      "cell_type": "markdown",
      "source": [
        "### Actividad N002"
      ],
      "metadata": {
        "id": "mJ__gEzN5A8u"
      }
    },
    {
      "cell_type": "code",
      "source": [
        "nombre = 'david'\n",
        "apellidoPaterno = 'ching'\n",
        "profesion = 'ingeniero'\n",
        "edad = 41\n",
        "centroLabores = 'bbva'\n",
        "aniosExperiencia = 16\n",
        "\n",
        "info_personal = [nombre, apellidoPaterno, profesion, edad, centroLabores, aniosExperiencia]"
      ],
      "metadata": {
        "id": "GaG9FW5Y27RN"
      },
      "execution_count": 70,
      "outputs": []
    },
    {
      "cell_type": "code",
      "source": [
        "print(f\"La lista info_personal contiene \\n {info_personal}\")"
      ],
      "metadata": {
        "id": "aK6OVxAI3oUN",
        "outputId": "64a0bb1a-1d36-437d-bfb3-831b9f2adcd8",
        "colab": {
          "base_uri": "https://localhost:8080/"
        }
      },
      "execution_count": 71,
      "outputs": [
        {
          "output_type": "stream",
          "name": "stdout",
          "text": [
            "La lista info_personal contiene \n",
            " ['david', 'ching', 'ingeniero', 41, 'bbva', 16]\n"
          ]
        }
      ]
    },
    {
      "cell_type": "markdown",
      "source": [
        "## [4] Acceder a los elementos de una lista"
      ],
      "metadata": {
        "id": "7Bw-DDlF31UD"
      }
    },
    {
      "cell_type": "code",
      "source": [
        "materias = ['álgebra','aritmética','razonamiento verbal','trigonometría','geometría']"
      ],
      "metadata": {
        "id": "WFYgRar93v2D"
      },
      "execution_count": 132,
      "outputs": []
    },
    {
      "cell_type": "code",
      "source": [
        "print(f\"La lista materias contiene \\n {materias}\")\n",
        "print(f\"El segundo elemento de la lista es {materias[1]}\")"
      ],
      "metadata": {
        "id": "lTC_xydf4VfA",
        "outputId": "a89ffb51-0880-4fb0-fcdf-0bcbdc43fa3c",
        "colab": {
          "base_uri": "https://localhost:8080/"
        }
      },
      "execution_count": 133,
      "outputs": [
        {
          "output_type": "stream",
          "name": "stdout",
          "text": [
            "La lista materias contiene \n",
            " ['álgebra', 'aritmética', 'razonamiento verbal', 'trigonometría', 'geometría']\n",
            "El segundo elemento de la lista es aritmética\n"
          ]
        }
      ]
    },
    {
      "cell_type": "markdown",
      "source": [
        "### Actividad N003"
      ],
      "metadata": {
        "id": "q0AS9Dqx4wN2"
      }
    },
    {
      "cell_type": "code",
      "source": [
        "## SOLUCIÓN ACTIVIDAD N003\n"
      ],
      "metadata": {
        "id": "aFI0M3XO4oSb"
      },
      "execution_count": null,
      "outputs": []
    },
    {
      "cell_type": "code",
      "source": [
        "print(f\"La lista lugares: \\n {lugares}\")\n",
        "print(f\"El primer elemento de la lista lugares es {lugares[0]}\")\n",
        "print(f\"El primer elemento de la lista lugares (en mayúsculas) es {lugares[0].upper()}\")"
      ],
      "metadata": {
        "id": "-2v5LC1A5RKV",
        "outputId": "ce04a859-7485-4e21-f677-8549ae0bb653",
        "colab": {
          "base_uri": "https://localhost:8080/"
        }
      },
      "execution_count": 105,
      "outputs": [
        {
          "output_type": "stream",
          "name": "stdout",
          "text": [
            "La lista lugares: \n",
            " ['macchupichu', 'punta sal', 'pastoruri', 'laguna sauce', 'huacachina', 'huarmey']\n",
            "El primer elemento de la lista lugares es macchupichu\n",
            "El primer elemento de la lista lugares (en mayúsculas) es MACCHUPICHU\n"
          ]
        }
      ]
    },
    {
      "cell_type": "code",
      "source": [
        "print(f\"El tercer elemento de la lista lugares es {lugares[2]}\")\n",
        "print(f\"El tercer elemento de la lista lugares (en mayúsculas) es {lugares[2].upper()}\")"
      ],
      "metadata": {
        "id": "X7O8sc6MQ2GL",
        "outputId": "05c91b51-5364-48b2-db69-2235bd395a71",
        "colab": {
          "base_uri": "https://localhost:8080/"
        }
      },
      "execution_count": 74,
      "outputs": [
        {
          "output_type": "stream",
          "name": "stdout",
          "text": [
            "El tercer elemento de la lista lugares es pastoruri\n",
            "El tercer elemento de la lista lugares (en mayúsculas) es PASTORURI\n"
          ]
        }
      ]
    },
    {
      "cell_type": "markdown",
      "source": [
        "### Actividad N004"
      ],
      "metadata": {
        "id": "oxmJ79pa57qM"
      }
    },
    {
      "cell_type": "code",
      "source": [
        "## SOLUCIÓN ACTIVIDAD N004\n"
      ],
      "metadata": {
        "id": "CeGQrfyY5frQ"
      },
      "execution_count": null,
      "outputs": []
    },
    {
      "cell_type": "code",
      "source": [
        "print(info_personal)"
      ],
      "metadata": {
        "id": "36MA2O4vTT_5",
        "outputId": "4d0cb02b-fb5a-42a0-f9a2-d86f73e55685",
        "colab": {
          "base_uri": "https://localhost:8080/"
        }
      },
      "execution_count": 75,
      "outputs": [
        {
          "output_type": "stream",
          "name": "stdout",
          "text": [
            "['david', 'ching', 'ingeniero', 41, 'bbva', 16]\n"
          ]
        }
      ]
    },
    {
      "cell_type": "code",
      "source": [
        "print(f\"Hola, me llamo {info_personal[0].capitalize()} {info_personal[1].capitalize()} soy {info_personal[2].capitalize()}, tengo {info_personal[3]} años, trabajo en la empresa {info_personal[4].upper()} y tengo {info_personal[5]} años de experiencia\")"
      ],
      "metadata": {
        "id": "rRj8c03GTAvq",
        "outputId": "4eb60974-0ccb-4b22-f424-6616577f2495",
        "colab": {
          "base_uri": "https://localhost:8080/"
        }
      },
      "execution_count": 76,
      "outputs": [
        {
          "output_type": "stream",
          "name": "stdout",
          "text": [
            "Hola, me llamo David Ching soy Ingeniero, tengo 41 años, trabajo en la empresa BBVA y tengo 16 años de experiencia\n"
          ]
        }
      ]
    },
    {
      "cell_type": "code",
      "source": [
        "print(materias)\n",
        "print(f\"La lista materias contiene \\n{materias}\")\n",
        "print(f\"El último elemento de la lista es {materias[-1]}\")"
      ],
      "metadata": {
        "id": "l6kaEYDr6Sn_",
        "outputId": "d7ca587a-810a-4e91-ba7b-53bd104e1bba",
        "colab": {
          "base_uri": "https://localhost:8080/"
        }
      },
      "execution_count": 134,
      "outputs": [
        {
          "output_type": "stream",
          "name": "stdout",
          "text": [
            "['álgebra', 'aritmética', 'razonamiento verbal', 'trigonometría', 'geometría']\n",
            "La lista materias contiene \n",
            "['álgebra', 'aritmética', 'razonamiento verbal', 'trigonometría', 'geometría']\n",
            "El último elemento de la lista es geometría\n"
          ]
        }
      ]
    },
    {
      "cell_type": "markdown",
      "source": [
        "### Actividad N005"
      ],
      "metadata": {
        "id": "gXt3UlLD6j1I"
      }
    },
    {
      "cell_type": "code",
      "source": [
        "## SOLUCIÓN ACTIVIDAD N005\n"
      ],
      "metadata": {
        "id": "Xw-NMtVe6aJ4"
      },
      "execution_count": 22,
      "outputs": []
    },
    {
      "cell_type": "code",
      "source": [
        "marcas = ['samsung','motorola','xiaomi','apple']"
      ],
      "metadata": {
        "id": "Jp8yoepFYgcu"
      },
      "execution_count": 78,
      "outputs": []
    },
    {
      "cell_type": "code",
      "source": [
        "print(f\"La lista original de marcas es \\n{marcas}\")\n",
        "marcas[1] = 'huawei'\n",
        "print(f\"La lista actualizada de marcas es \\n{marcas}\")"
      ],
      "metadata": {
        "id": "jBhNjvJYZj8C",
        "outputId": "dd7ab9a3-81f0-4d6a-ac6b-656fb3d5b108",
        "colab": {
          "base_uri": "https://localhost:8080/"
        }
      },
      "execution_count": 116,
      "outputs": [
        {
          "output_type": "stream",
          "name": "stdout",
          "text": [
            "La lista original de marcas es \n",
            "['samsung', 'huawei', 'xiaomi', 'apple']\n",
            "La lista actualizada de marcas es \n",
            "['samsung', 'huawei', 'xiaomi', 'apple']\n"
          ]
        }
      ]
    },
    {
      "cell_type": "markdown",
      "source": [
        "## [5] Modificar los elementos de una lista"
      ],
      "metadata": {
        "id": "9vPV8Ya06s84"
      }
    },
    {
      "cell_type": "code",
      "source": [
        "print(f\"La lista original de materias es \\n{materias}\")\n",
        "materias[1] = 'filosofía'\n",
        "print(f\"La lista actualizada de materias es \\n{materias}\")"
      ],
      "metadata": {
        "id": "qeD97ZwE6n4m",
        "outputId": "ec5acb92-fad6-4d42-e8e1-092f95411f87",
        "colab": {
          "base_uri": "https://localhost:8080/"
        }
      },
      "execution_count": 135,
      "outputs": [
        {
          "output_type": "stream",
          "name": "stdout",
          "text": [
            "La lista original de materias es \n",
            "['álgebra', 'aritmética', 'razonamiento verbal', 'trigonometría', 'geometría']\n",
            "La lista actualizada de materias es \n",
            "['álgebra', 'filosofía', 'razonamiento verbal', 'trigonometría', 'geometría']\n"
          ]
        }
      ]
    },
    {
      "cell_type": "markdown",
      "source": [
        "### Actividad N006"
      ],
      "metadata": {
        "id": "piyoQAzu7Pqv"
      }
    },
    {
      "cell_type": "code",
      "source": [
        "## SOLUCIÓN ACTIVIDAD N006\n"
      ],
      "metadata": {
        "id": "cW_FXD7G7JI_"
      },
      "execution_count": null,
      "outputs": []
    },
    {
      "cell_type": "code",
      "source": [
        "print(info_personal)"
      ],
      "metadata": {
        "id": "A6NYelPtbLNw",
        "outputId": "3f390f0c-0b6f-4dbb-e456-77024baa63c8",
        "colab": {
          "base_uri": "https://localhost:8080/"
        }
      },
      "execution_count": 81,
      "outputs": [
        {
          "output_type": "stream",
          "name": "stdout",
          "text": [
            "['david', 'ching', 'ingeniero', 41, 'bbva', 16]\n"
          ]
        }
      ]
    },
    {
      "cell_type": "code",
      "source": [
        "info_personal[4] = 'bcp'\n",
        "print(info_personal)"
      ],
      "metadata": {
        "id": "TK-07eENbOEj",
        "outputId": "83bc9a85-7523-4aff-dcb3-06835601ae48",
        "colab": {
          "base_uri": "https://localhost:8080/"
        }
      },
      "execution_count": 82,
      "outputs": [
        {
          "output_type": "stream",
          "name": "stdout",
          "text": [
            "['david', 'ching', 'ingeniero', 41, 'bcp', 16]\n"
          ]
        }
      ]
    },
    {
      "cell_type": "markdown",
      "source": [
        "## [6] Añadir un elemento a una lista"
      ],
      "metadata": {
        "id": "nzRyoj8H7bMD"
      }
    },
    {
      "cell_type": "markdown",
      "source": [
        "### Método append"
      ],
      "metadata": {
        "id": "F5qgskxX79FW"
      }
    },
    {
      "cell_type": "code",
      "source": [
        "print(f\"La lista original es \\n{materias}\")\n",
        "materias.append('química')\n",
        "print(f\"La lista actualizada es \\n{materias}\")"
      ],
      "metadata": {
        "id": "5YeIR2kw7XTZ",
        "outputId": "c20bcc2f-9452-4ac5-9db7-dc779a1227d6",
        "colab": {
          "base_uri": "https://localhost:8080/"
        }
      },
      "execution_count": 136,
      "outputs": [
        {
          "output_type": "stream",
          "name": "stdout",
          "text": [
            "La lista original es \n",
            "['álgebra', 'filosofía', 'razonamiento verbal', 'trigonometría', 'geometría']\n",
            "La lista actualizada es \n",
            "['álgebra', 'filosofía', 'razonamiento verbal', 'trigonometría', 'geometría', 'química']\n"
          ]
        }
      ]
    },
    {
      "cell_type": "markdown",
      "source": [
        "### Actividad N007"
      ],
      "metadata": {
        "id": "uKnBn9RX7zoB"
      }
    },
    {
      "cell_type": "code",
      "source": [
        "## SOLUCIÓN ACTIVIDA N007\n"
      ],
      "metadata": {
        "id": "f25BvpPa7vSw"
      },
      "execution_count": null,
      "outputs": []
    },
    {
      "cell_type": "code",
      "source": [
        "print(lugares)"
      ],
      "metadata": {
        "id": "bZrH27bscaLY",
        "outputId": "15d802cf-7e23-493e-d988-6f44e57e8512",
        "colab": {
          "base_uri": "https://localhost:8080/"
        }
      },
      "execution_count": 84,
      "outputs": [
        {
          "output_type": "stream",
          "name": "stdout",
          "text": [
            "['macchupichu', 'punta sal', 'pastoruri', 'laguna sauce', 'huacachina']\n"
          ]
        }
      ]
    },
    {
      "cell_type": "code",
      "source": [
        "print(f\"La lista original lugares es \\n{lugares}\")\n",
        "lugares.append('huarmey')\n",
        "print(f\"La lista actualizada lugares es \\n{lugares}\")"
      ],
      "metadata": {
        "id": "Y_VDq2rEckmN",
        "outputId": "7323cfd3-7b1b-488e-99c6-09d26e6ca281",
        "colab": {
          "base_uri": "https://localhost:8080/"
        }
      },
      "execution_count": 85,
      "outputs": [
        {
          "output_type": "stream",
          "name": "stdout",
          "text": [
            "La lista original lugares es \n",
            "['macchupichu', 'punta sal', 'pastoruri', 'laguna sauce', 'huacachina']\n",
            "La lista actualizada lugares es \n",
            "['macchupichu', 'punta sal', 'pastoruri', 'laguna sauce', 'huacachina', 'huarmey']\n"
          ]
        }
      ]
    },
    {
      "cell_type": "markdown",
      "source": [
        "### Método insert"
      ],
      "metadata": {
        "id": "Ejv_9b5g8CKs"
      }
    },
    {
      "cell_type": "code",
      "source": [
        "print(f\"La lista de materias es \\n{materias}\")\n",
        "materias.insert(3,'física')\n",
        "print(f\"La lista de materias actualizada es \\n{materias}\")"
      ],
      "metadata": {
        "id": "jC1p2XUZ73wB",
        "outputId": "19576b6e-1989-4391-ad4c-de3317eb6337",
        "colab": {
          "base_uri": "https://localhost:8080/"
        }
      },
      "execution_count": 137,
      "outputs": [
        {
          "output_type": "stream",
          "name": "stdout",
          "text": [
            "La lista de materias es \n",
            "['álgebra', 'filosofía', 'razonamiento verbal', 'trigonometría', 'geometría', 'química']\n",
            "La lista de materias actualizada es \n",
            "['álgebra', 'filosofía', 'razonamiento verbal', 'física', 'trigonometría', 'geometría', 'química']\n"
          ]
        }
      ]
    },
    {
      "cell_type": "markdown",
      "source": [
        "### Actividad N008"
      ],
      "metadata": {
        "id": "DcgswlJf8ggw"
      }
    },
    {
      "cell_type": "code",
      "source": [
        "## SOLUCIÓN ACTIVIDAD N008\n"
      ],
      "metadata": {
        "id": "0xWkqsRR8azc"
      },
      "execution_count": null,
      "outputs": []
    },
    {
      "cell_type": "code",
      "source": [
        "print(info_personal)"
      ],
      "metadata": {
        "id": "bJee8NYIeJSf",
        "outputId": "f2e88017-c462-4a36-dd9c-d15611936801",
        "colab": {
          "base_uri": "https://localhost:8080/"
        }
      },
      "execution_count": 87,
      "outputs": [
        {
          "output_type": "stream",
          "name": "stdout",
          "text": [
            "['david', 'ching', 'ingeniero', 41, 'bcp', 16]\n"
          ]
        }
      ]
    },
    {
      "cell_type": "code",
      "source": [
        "info_personal.insert(3,'unmsm')\n",
        "print(info_personal)"
      ],
      "metadata": {
        "id": "IbsdhTZYe1Yz",
        "outputId": "9db48ce3-2020-4fb8-b1a1-810f571932ec",
        "colab": {
          "base_uri": "https://localhost:8080/"
        }
      },
      "execution_count": 88,
      "outputs": [
        {
          "output_type": "stream",
          "name": "stdout",
          "text": [
            "['david', 'ching', 'ingeniero', 'unmsm', 41, 'bcp', 16]\n"
          ]
        }
      ]
    },
    {
      "cell_type": "code",
      "source": [
        "print(f\"Hola, me llamo {info_personal[0].capitalize()} {info_personal[1].capitalize()} soy {info_personal[2].capitalize()}, estudie en la institución {info_personal[3].upper()}, tengo {info_personal[4]} años, trabajo en la empresa {info_personal[5].upper()} y tengo {info_personal[6]} años de experiencia\")"
      ],
      "metadata": {
        "id": "nryke9gYfNWU",
        "outputId": "cebcdec1-232e-47c9-cf7c-463fd7012817",
        "colab": {
          "base_uri": "https://localhost:8080/"
        }
      },
      "execution_count": 91,
      "outputs": [
        {
          "output_type": "stream",
          "name": "stdout",
          "text": [
            "Hola, me llamo David Ching soy Ingeniero, estudie en la institución UNMSM, tengo 41 años, trabajo en la empresa BCP y tengo 16 años de experiencia\n"
          ]
        }
      ]
    },
    {
      "cell_type": "code",
      "source": [],
      "metadata": {
        "id": "w_ILDMxOfHHq"
      },
      "execution_count": null,
      "outputs": []
    },
    {
      "cell_type": "markdown",
      "source": [
        "## [7] Remover los elementos de una lista"
      ],
      "metadata": {
        "id": "s2icJ_8C8scH"
      }
    },
    {
      "cell_type": "markdown",
      "source": [
        "### Método del"
      ],
      "metadata": {
        "id": "Oc8L61Ao9Vyt"
      }
    },
    {
      "cell_type": "code",
      "source": [
        "print(f\"La lista materias es \\n{materias}\")\n",
        "del materias[3]\n",
        "print(f\"La lista actualizada es \\n{materias}\")"
      ],
      "metadata": {
        "id": "1K-iK1NQ8kEf",
        "outputId": "37996190-1f16-4dda-a2fc-921eb3a23186",
        "colab": {
          "base_uri": "https://localhost:8080/"
        }
      },
      "execution_count": 138,
      "outputs": [
        {
          "output_type": "stream",
          "name": "stdout",
          "text": [
            "La lista materias es \n",
            "['álgebra', 'filosofía', 'razonamiento verbal', 'física', 'trigonometría', 'geometría', 'química']\n",
            "La lista actualizada es \n",
            "['álgebra', 'filosofía', 'razonamiento verbal', 'trigonometría', 'geometría', 'química']\n"
          ]
        }
      ]
    },
    {
      "cell_type": "markdown",
      "source": [
        "### Actividad N009"
      ],
      "metadata": {
        "id": "VFggpdYt9MR4"
      }
    },
    {
      "cell_type": "code",
      "source": [
        "## SOLUCIÓN ACTIVIDAD N009\n"
      ],
      "metadata": {
        "id": "2j90g_Ct9Itc"
      },
      "execution_count": null,
      "outputs": []
    },
    {
      "cell_type": "code",
      "source": [
        "print(f\"La lista marcas contiene los siguientes elementos \\n{marcas}\")\n",
        "del marcas[2]\n",
        "print(f\"La lista marcas (actualizada) contiene los siguientes elementos \\n{marcas}\")"
      ],
      "metadata": {
        "id": "oFZUI8HigsnS",
        "outputId": "71c3a303-7e5c-4470-e84c-01986377593a",
        "colab": {
          "base_uri": "https://localhost:8080/"
        }
      },
      "execution_count": 124,
      "outputs": [
        {
          "output_type": "stream",
          "name": "stdout",
          "text": [
            "La lista marcas contiene los siguientes elementos \n",
            "['samsung', 'huawei', 'xiaomi', 'apple']\n",
            "La lista marcas (actualizada) contiene los siguientes elementos \n",
            "['samsung', 'huawei', 'apple']\n"
          ]
        }
      ]
    },
    {
      "cell_type": "markdown",
      "source": [],
      "metadata": {
        "id": "itYsZtLr9a1y"
      }
    },
    {
      "cell_type": "markdown",
      "source": [
        "### Método pop"
      ],
      "metadata": {
        "id": "G_-05doA9ckW"
      }
    },
    {
      "cell_type": "code",
      "source": [
        "print(materias)"
      ],
      "metadata": {
        "id": "5E4BThxejrM3",
        "outputId": "27bbc208-1428-4e63-b052-43199710519f",
        "colab": {
          "base_uri": "https://localhost:8080/"
        }
      },
      "execution_count": 139,
      "outputs": [
        {
          "output_type": "stream",
          "name": "stdout",
          "text": [
            "['álgebra', 'filosofía', 'razonamiento verbal', 'trigonometría', 'geometría', 'química']\n"
          ]
        }
      ]
    },
    {
      "cell_type": "code",
      "source": [
        "print(f\"La lista materias es \\n{materias}\")\n",
        "el_exc1 = materias.pop()\n",
        "print(f\"La lista materias actualizada es \\n{materias}\")"
      ],
      "metadata": {
        "id": "vzzIn2MP9QQ0",
        "outputId": "ea9e726a-2c48-42d8-8632-b3b91a473a11",
        "colab": {
          "base_uri": "https://localhost:8080/"
        }
      },
      "execution_count": 140,
      "outputs": [
        {
          "output_type": "stream",
          "name": "stdout",
          "text": [
            "La lista materias es \n",
            "['álgebra', 'filosofía', 'razonamiento verbal', 'trigonometría', 'geometría', 'química']\n",
            "La lista materias actualizada es \n",
            "['álgebra', 'filosofía', 'razonamiento verbal', 'trigonometría', 'geometría']\n"
          ]
        }
      ]
    },
    {
      "cell_type": "code",
      "source": [
        "print(f\"El elemento eliminado de la lista materias, ubicado al final de la lista es {el_exc1}\")"
      ],
      "metadata": {
        "id": "_dYro6si9qDD",
        "outputId": "f48d5b39-d152-4bd4-9113-c56236bd5521",
        "colab": {
          "base_uri": "https://localhost:8080/"
        }
      },
      "execution_count": 141,
      "outputs": [
        {
          "output_type": "stream",
          "name": "stdout",
          "text": [
            "El elemento eliminado de la lista materias, ubicado al final de la lista es química\n"
          ]
        }
      ]
    },
    {
      "cell_type": "code",
      "source": [
        "el_exc2 = materias.pop(3)\n",
        "print(f\"El elemento eliminado de la lista materias, ubicado en la cuarta posición es {el_exc2}\")\n",
        "print(f\"La lista materias actualizada es \\n{materias}\")"
      ],
      "metadata": {
        "id": "X-w9D9Cf9wsE",
        "outputId": "f2ef79f2-a527-41e4-8227-05e21ddfa53e",
        "colab": {
          "base_uri": "https://localhost:8080/"
        }
      },
      "execution_count": 142,
      "outputs": [
        {
          "output_type": "stream",
          "name": "stdout",
          "text": [
            "El elemento eliminado de la lista materias, ubicado en la cuarta posición es trigonometría\n",
            "La lista materias actualizada es \n",
            "['álgebra', 'filosofía', 'razonamiento verbal', 'geometría']\n"
          ]
        }
      ]
    },
    {
      "cell_type": "markdown",
      "source": [
        "### Actividad N010"
      ],
      "metadata": {
        "id": "11c8mjWM-N4m"
      }
    },
    {
      "cell_type": "code",
      "source": [
        "## SOLUCIÓN ACTIVIDAD N010\n"
      ],
      "metadata": {
        "id": "QhLPByTU-BPb"
      },
      "execution_count": null,
      "outputs": []
    },
    {
      "cell_type": "code",
      "source": [
        "print(f\"La lista lugares contiene los siguientes elementos \\n{lugares}\")\n",
        "el_el1 = lugares.pop(1)\n",
        "print(f\"El elemento eliminado es {el_el1}\")\n",
        "print(f\"La lista lugares (actualizada) contiene los siguientes elementos \\n{lugares}\")"
      ],
      "metadata": {
        "id": "ly25BN-clFFH",
        "outputId": "07202f0d-9be9-462d-81fd-e562a99da025",
        "colab": {
          "base_uri": "https://localhost:8080/"
        }
      },
      "execution_count": 125,
      "outputs": [
        {
          "output_type": "stream",
          "name": "stdout",
          "text": [
            "La lista lugares contiene los siguientes elementos \n",
            "['macchupichu', 'punta sal', 'pastoruri', 'laguna sauce', 'huacachina', 'huarmey']\n",
            "El elemento eliminado es punta sal\n",
            "La lista lugares (actualizada) contiene los siguientes elementos \n",
            "['macchupichu', 'pastoruri', 'laguna sauce', 'huacachina', 'huarmey']\n"
          ]
        }
      ]
    },
    {
      "cell_type": "code",
      "source": [],
      "metadata": {
        "id": "ly6-J85ojeSi"
      },
      "execution_count": null,
      "outputs": []
    },
    {
      "cell_type": "markdown",
      "source": [
        "### Método remove"
      ],
      "metadata": {
        "id": "GPviXjjh-WZr"
      }
    },
    {
      "cell_type": "code",
      "source": [
        "print(f\"La lista materias es \\n{materias}\")\n",
        "materias.remove('filosofía')\n",
        "print(f\"La lista materias actualizada es \\n{materias}\")"
      ],
      "metadata": {
        "id": "tAxqSlE0-SDt"
      },
      "execution_count": null,
      "outputs": []
    },
    {
      "cell_type": "markdown",
      "source": [
        "### Actividad N011"
      ],
      "metadata": {
        "id": "I7nsxzfd-oTV"
      }
    },
    {
      "cell_type": "code",
      "source": [
        "## SOLUCIÓN ACTIVIDAD N011\n"
      ],
      "metadata": {
        "id": "i3RyrzJw-kCr"
      },
      "execution_count": null,
      "outputs": []
    },
    {
      "cell_type": "markdown",
      "source": [
        "## [8] Ordenar los elementos de una lista"
      ],
      "metadata": {
        "id": "PMOmvQ1O-vz7"
      }
    },
    {
      "cell_type": "markdown",
      "source": [
        "### De manera permanente"
      ],
      "metadata": {
        "id": "2fdlt9Vc_weK"
      }
    },
    {
      "cell_type": "code",
      "source": [
        "print(f\"La lista materias es \\n{materias}\")\n",
        "materias.sort()\n",
        "print(f\"La lista materias actualizada es \\n{materias}\")\n"
      ],
      "metadata": {
        "id": "UCivu0jT-ryW"
      },
      "execution_count": null,
      "outputs": []
    },
    {
      "cell_type": "code",
      "source": [
        "print(f\"La lista lugares es \\n{lugares}\")\n",
        "lugares.sort(reverse=True)\n",
        "print(f\"La lista lugares actualizada es \\n{lugares}\")"
      ],
      "metadata": {
        "id": "rjkFon3L_Byz"
      },
      "execution_count": null,
      "outputs": []
    },
    {
      "cell_type": "markdown",
      "source": [
        "### Actividad N012"
      ],
      "metadata": {
        "id": "jJh7CDJO_s2r"
      }
    },
    {
      "cell_type": "code",
      "source": [
        "## SOLUCIÓN ACTIVIDAD N012\n"
      ],
      "metadata": {
        "id": "vvPtDflm_cNf"
      },
      "execution_count": null,
      "outputs": []
    },
    {
      "cell_type": "markdown",
      "source": [
        "### De manera temporal"
      ],
      "metadata": {
        "id": "gpQQQ2ZU_6tG"
      }
    },
    {
      "cell_type": "code",
      "source": [
        "print(f\"La lista lugares es \\n{lugares}\")\n",
        "print(f\"La lista lugares actualizada es \\n{sorted(lugares)}\")"
      ],
      "metadata": {
        "id": "8V88UcQL_5Qb"
      },
      "execution_count": null,
      "outputs": []
    },
    {
      "cell_type": "code",
      "source": [
        "print(f\"La lista lugares es \\n{lugares}\")\n",
        "print(f\"La lista lugares actualizada es \\n{sorted(lugares,reverse=True)}\")"
      ],
      "metadata": {
        "id": "NbIEj-qrAI5R"
      },
      "execution_count": null,
      "outputs": []
    },
    {
      "cell_type": "markdown",
      "source": [
        "### Actividad N013"
      ],
      "metadata": {
        "id": "rDQF6aidAYLm"
      }
    },
    {
      "cell_type": "code",
      "source": [
        "## SOLUCIÓN ACTIVIDAD N013\n"
      ],
      "metadata": {
        "id": "5gUbMvDKAQs2"
      },
      "execution_count": null,
      "outputs": []
    },
    {
      "cell_type": "markdown",
      "source": [
        "## [9] Invertir los elementos de una lista"
      ],
      "metadata": {
        "id": "TCzgVFc2Adgi"
      }
    },
    {
      "cell_type": "code",
      "source": [
        "print(f\"La lista materias es \\n{materias}\")\n",
        "materias.reverse()\n",
        "print(f\"La lista materias actualizada es \\n{materias}\")"
      ],
      "metadata": {
        "id": "VfMEiCyEAb4e"
      },
      "execution_count": null,
      "outputs": []
    },
    {
      "cell_type": "markdown",
      "source": [
        "### Actividad N014"
      ],
      "metadata": {
        "id": "BnpGEyXRAy9X"
      }
    },
    {
      "cell_type": "code",
      "source": [
        "## SOLUCIÓN ACTIVIDAD N014\n"
      ],
      "metadata": {
        "id": "alT3g_kjAu_F"
      },
      "execution_count": null,
      "outputs": []
    },
    {
      "cell_type": "markdown",
      "source": [
        "## [10] Cuantificar los elementos de una lista"
      ],
      "metadata": {
        "id": "sQVSPLHcA53H"
      }
    },
    {
      "cell_type": "code",
      "source": [
        "print(f\"La lista lugares es \\n{lugares}\")\n",
        "print(f\"La cantidad de elementos de la lista lugares es {len(lugares)}\")"
      ],
      "metadata": {
        "id": "yW0-j-EaA4E0"
      },
      "execution_count": null,
      "outputs": []
    },
    {
      "cell_type": "markdown",
      "source": [
        "### Actividad N015"
      ],
      "metadata": {
        "id": "roDrSGHjBI-x"
      }
    },
    {
      "cell_type": "code",
      "source": [
        "## SOLUCIÓN ACTIVIDAD N015\n"
      ],
      "metadata": {
        "id": "wXYtA8HzBG-6"
      },
      "execution_count": null,
      "outputs": []
    },
    {
      "cell_type": "code",
      "source": [],
      "metadata": {
        "id": "izy_t_MQBNny"
      },
      "execution_count": null,
      "outputs": []
    }
  ]
}