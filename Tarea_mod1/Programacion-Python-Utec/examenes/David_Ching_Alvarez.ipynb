{
  "nbformat": 4,
  "nbformat_minor": 0,
  "metadata": {
    "colab": {
      "provenance": [],
      "include_colab_link": true
    },
    "kernelspec": {
      "name": "python3",
      "display_name": "Python 3"
    },
    "language_info": {
      "name": "python"
    }
  },
  "cells": [
    {
      "cell_type": "markdown",
      "metadata": {
        "id": "view-in-github",
        "colab_type": "text"
      },
      "source": [
        "<a href=\"https://colab.research.google.com/github/DavChing/programa-python_utec/blob/main/Tarea_mod1/Programacion-Python-Utec/examenes/David_Ching_Alvarez.ipynb\" target=\"_parent\"><img src=\"https://colab.research.google.com/assets/colab-badge.svg\" alt=\"Open In Colab\"/></a>"
      ]
    },
    {
      "cell_type": "markdown",
      "source": [
        "<img src=\"https://posgrado.utec.edu.pe/sites/default/files/2023-08/Testimonial-home-2.jpg\" alt=\"HTML5 Icon\" width=\"900\" height=\"250\" >\n"
      ],
      "metadata": {
        "id": "dYz-CyepUcRS"
      }
    },
    {
      "cell_type": "markdown",
      "source": [
        "# **Trabajo Calificado: Misiones de Código**"
      ],
      "metadata": {
        "id": "tYd6BiWgUfLo"
      }
    },
    {
      "cell_type": "markdown",
      "source": [
        "**Contexto:**\n",
        "\n",
        "Eres desarrollador de un Simulador de Aventuras llamado Pythonia, un entorno virtual de entrenamiento diseñado para mejorar tus habilidades de programación. En este simulador, enfrentarás una serie de desafíos basados en situaciones de videojuegos y escenarios de aventura, donde deberás aplicar estructuras lógicas, condicionales, bucles y funciones para resolver problemas.\n",
        "\n"
      ],
      "metadata": {
        "id": "GtjjVTFRU6W1"
      }
    },
    {
      "cell_type": "markdown",
      "source": [
        "Cada ejercicio representa un reto independiente que simula eventos comunes en el desarrollo de videojuegos, sistemas de simulación y lógica de juegos interactivos."
      ],
      "metadata": {
        "id": "Ggayz2SXVXjt"
      }
    },
    {
      "cell_type": "markdown",
      "source": [
        "**Recomendaciones:**\n",
        "\n",
        "Utilizar buenas prácticas: comentarios, entradas y salidas limpias.\n",
        "\n",
        "Uso de funciones donde sea necesario."
      ],
      "metadata": {
        "id": "eAL1_dscUjd_"
      }
    },
    {
      "cell_type": "markdown",
      "source": [
        "**Ejercicio 1: Elige tu personaje (Variables y Entrada/Salida)**\n",
        "\n",
        "Crea un programa que permita al jugador elegir su personaje entre Mago, Guerrero o Arquero. Según la elección, muestra un mensaje personalizado con las estadísticas iniciales (vida, poder, defensa)."
      ],
      "metadata": {
        "id": "YpxJc_PoVc4c"
      }
    },
    {
      "cell_type": "code",
      "source": [
        "## INICIO DE CÓDIGO\n",
        "#Función para mostrar el menú de selección de personajes\n",
        "def mostrar_menu():\n",
        "    print(\"¿Quién quieres ser?\")\n",
        "    print(\"1. Mago\")\n",
        "    print(\"2. Guerrero\")\n",
        "    print(\"3. Arquero\")\n",
        "\n",
        "# Función para mostrar las estadísticas del personaje elegido\n",
        "def mostrar_estadisticas(personaje):\n",
        "    print(f\"\\nHas elegido ser un {personaje['nombre']}!\")\n",
        "    print(\"Estas son tus estadísticas iniciales:\")\n",
        "    print(f\"Vida: {personaje['vida']}\")\n",
        "    print(f\"Poder: {personaje['poder']}\")\n",
        "    print(f\"Defensa: {personaje['defensa']}\\n\")\n",
        "\n",
        "# Diccionario con los personajes y sus estadísticas\n",
        "personajes = {\n",
        "    \"1\": {\n",
        "        \"nombre\": \"Mago\",\n",
        "        \"vida\": 70,\n",
        "        \"poder\": 15,\n",
        "        \"defensa\": 8\n",
        "    },\n",
        "    \"2\": {\n",
        "        \"nombre\": \"Guerrero\",\n",
        "        \"vida\": 100,\n",
        "        \"poder\": 10,\n",
        "        \"defensa\": 12\n",
        "    },\n",
        "    \"3\": {\n",
        "        \"nombre\": \"Arquero\",\n",
        "        \"vida\": 80,\n",
        "        \"poder\": 12,\n",
        "        \"defensa\": 10\n",
        "    }\n",
        "}\n",
        "\n",
        "# Programa principal\n",
        "while True:\n",
        "    mostrar_menu()\n",
        "    eleccion = input(\"Introduce el número de tu elección y presiona enter: \")\n",
        "\n",
        "    if eleccion in personajes:\n",
        "        personaje_seleccionado = personajes[eleccion]\n",
        "        mostrar_estadisticas(personaje_seleccionado)\n",
        "    else:\n",
        "        print(\"Elección inválida. Por favor, introduce un número entre 1 y 3.\")\n",
        "\n",
        "    # Preguntar si desea continuar\n",
        "    respuesta = input(\"\\n¿Deseas continuar? (s/n): \")\n",
        "    if respuesta.lower() != 's':\n",
        "        break\n",
        "## FIN DE CÓDIGO"
      ],
      "metadata": {
        "id": "GZrzl-7wVfkW",
        "outputId": "d02b8977-6f20-483b-e00b-2dd527db36cc",
        "colab": {
          "base_uri": "https://localhost:8080/"
        }
      },
      "execution_count": 2,
      "outputs": [
        {
          "name": "stdout",
          "output_type": "stream",
          "text": [
            "¿Quién quieres ser?\n",
            "1. Mago\n",
            "2. Guerrero\n",
            "3. Arquero\n",
            "Introduce el número de tu elección y presiona enter: mago\n",
            "Elección inválida. Por favor, introduce un número entre 1 y 3.\n",
            "\n",
            "¿Deseas continuar? (s/n): n\n"
          ]
        }
      ]
    },
    {
      "cell_type": "markdown",
      "source": [
        "**Ejercicio 2: La prueba del sabio (Condicionales)**\n",
        "\n",
        "El sabio te hace una pregunta: si traes menos de 50 monedas de oro, te expulsará; si llevas entre 50 y 100, te permitirá pasar; si llevas más de 100, te dará una poción.\n",
        "Crea el programa que lea las monedas y muestre el resultado."
      ],
      "metadata": {
        "id": "kvoGwX-QVgPr"
      }
    },
    {
      "cell_type": "code",
      "execution_count": 3,
      "metadata": {
        "id": "3tg6KSK-UbUw",
        "outputId": "3f0a8678-599f-4fb0-ca8c-e082c18c9e6f",
        "colab": {
          "base_uri": "https://localhost:8080/"
        }
      },
      "outputs": [
        {
          "output_type": "stream",
          "name": "stdout",
          "text": [
            "El sabio pregunta: ¿Cuántas monedas de oro traes? 100\n",
            "El sabio te permitirá pasar.\n"
          ]
        }
      ],
      "source": [
        "## INICIO DE CÓDIGO\n",
        "\n",
        "# Solicitar al usuario que ingrese la cantidad de monedas de oro\n",
        "monedas = int(input(\"El sabio pregunta: ¿Cuántas monedas de oro traes? \"))\n",
        "# Evaluar la cantidad de monedas y mostrar el resultado correspondiente\n",
        "if monedas < 50:\n",
        "    print(\"El sabio te expulsará.\")\n",
        "elif 50 <= monedas <= 100:\n",
        "    print(\"El sabio te permitirá pasar.\")\n",
        "else:\n",
        "    print(\"El sabio te dará una poción.\")\n",
        "\n",
        "## FIN DE CÓDIGO"
      ]
    },
    {
      "cell_type": "markdown",
      "source": [
        "**Ejercicio 3: El puente infinito (Bucles While)**\n",
        "\n",
        "Diseña un programa que simule el cruce de un puente que cambia su estructura aleatoriamente. El jugador debe adivinar si el siguiente paso será seguro ('s') o peligroso ('p').\n",
        "El juego termina si el jugador elige 'salir' o si falla 3 veces."
      ],
      "metadata": {
        "id": "g7B02fWhVj4M"
      }
    },
    {
      "cell_type": "code",
      "source": [
        "## INICIO DE CÓDIGO\n",
        "import random\n",
        "def simular_puente():\n",
        "    return random.choice(['s', 'p'])\n",
        "def juego_puente():\n",
        "    fallos = 0\n",
        "    print(\"Bienvenido al puente encantado, debes adivinar si el siguiente paso será seguro ('s') o peligroso ('p').\")\n",
        "    print(\"Escribe 'salir' para terminar el juego.\")\n",
        "    while fallos < 3:\n",
        "        siguiente_paso = simular_puente()\n",
        "        eleccion = input(\"¿Cuál es tu elección? (s/p): \").lower()\n",
        "        if eleccion == 'salir':\n",
        "            print(\"El puente te ha ganado. ¡Hasta luego!\")\n",
        "            break\n",
        "        elif eleccion not in ['s', 'p']:\n",
        "            print(\"Opción no válida. Por favor elige 's' o 'p'.\")\n",
        "            continue\n",
        "        if eleccion == siguiente_paso:\n",
        "            print(\"¡Correcto! El siguiente paso fue:\", siguiente_paso)\n",
        "        else:\n",
        "            fallos += 1\n",
        "            print(\"¡Incorrecto! El siguiente paso fue:\", siguiente_paso)\n",
        "            print(f\"Fallos: {fallos}/3\")\n",
        "    if fallos == 3:\n",
        "        print(\"Has fallado 3 veces. El puente ha ganado esta vez, ¡Mejor suerte la próxima!\")\n",
        "if __name__ == \"__main__\":\n",
        "    juego_puente()p\n",
        "\n",
        "\n",
        "## FIN DE CÓDIGO"
      ],
      "metadata": {
        "id": "9DRMWhDBVn71",
        "outputId": "b1b12410-ca1d-4040-db8a-f5defa531a7c",
        "colab": {
          "base_uri": "https://localhost:8080/"
        }
      },
      "execution_count": 4,
      "outputs": [
        {
          "output_type": "stream",
          "name": "stdout",
          "text": [
            "Bienvenido al puente encantado, debes adivinar si el siguiente paso será seguro ('s') o peligroso ('p').\n",
            "Escribe 'salir' para terminar el juego.\n",
            "¿Cuál es tu elección? (s/p): p\n",
            "¡Incorrecto! El siguiente paso fue: s\n",
            "Fallos: 1/3\n",
            "¿Cuál es tu elección? (s/p): p\n",
            "¡Incorrecto! El siguiente paso fue: s\n",
            "Fallos: 2/3\n",
            "¿Cuál es tu elección? (s/p): p\n",
            "¡Correcto! El siguiente paso fue: p\n",
            "¿Cuál es tu elección? (s/p): p\n",
            "¡Incorrecto! El siguiente paso fue: s\n",
            "Fallos: 3/3\n",
            "Has fallado 3 veces. El puente ha ganado esta vez, ¡Mejor suerte la próxima!\n"
          ]
        }
      ]
    },
    {
      "cell_type": "markdown",
      "source": [
        "**Ejercicio 4: El laberinto secreto (Bucle For y Range)**\n",
        "\n",
        "Crea un programa que muestre una cuenta regresiva desde 10 hasta 1 al estilo nivel de escape del laberinto. Cada número debe ir acompañado de un mensaje tipo \"Quedan X segundos para escapar\"."
      ],
      "metadata": {
        "id": "66qKXQwTVoZG"
      }
    },
    {
      "cell_type": "code",
      "source": [
        "## INICIO DE CÓDIGO\n",
        "\n",
        "import time\n",
        "def cuenta_regresiva():\n",
        "    for i in range(10, 0, -1):\n",
        "        print(f\"Quedan {i} segundos para escapar del laberinto.\")\n",
        "        time.sleep(1)  # Espera 1 segundo\n",
        "    print(\"¡Tiempo agotado! No lograste escapar del laberinto.\")\n",
        "if __name__ == \"__main__\":\n",
        "    cuenta_regresiva()\n",
        "\n",
        "## FIN DE CÓDIGO"
      ],
      "metadata": {
        "id": "i1S9WPmhVsEj",
        "outputId": "7c5272d9-d150-48c3-81ed-f97ab16c381a",
        "colab": {
          "base_uri": "https://localhost:8080/"
        }
      },
      "execution_count": 5,
      "outputs": [
        {
          "output_type": "stream",
          "name": "stdout",
          "text": [
            "Quedan 10 segundos para escapar del laberinto.\n",
            "Quedan 9 segundos para escapar del laberinto.\n",
            "Quedan 8 segundos para escapar del laberinto.\n",
            "Quedan 7 segundos para escapar del laberinto.\n",
            "Quedan 6 segundos para escapar del laberinto.\n",
            "Quedan 5 segundos para escapar del laberinto.\n",
            "Quedan 4 segundos para escapar del laberinto.\n",
            "Quedan 3 segundos para escapar del laberinto.\n",
            "Quedan 2 segundos para escapar del laberinto.\n",
            "Quedan 1 segundos para escapar del laberinto.\n",
            "¡Tiempo agotado! No lograste escapar del laberinto.\n"
          ]
        }
      ]
    },
    {
      "cell_type": "markdown",
      "source": [
        "**Ejercicio 5: Cofres encantados (Break y Continue)**\n",
        "\n",
        "Simula 10 cofres cerrados, pero uno de ellos es una trampa explosiva (elige aleatoriamente una posición).\n",
        "El jugador abre cofres uno por uno:\n",
        "\n",
        "* Si encuentra la trampa, termina el juego (break).\n",
        "\n",
        "* Si encuentra cofres vacíos, continúa (continue).\n",
        "\n",
        "* Si abre todos sin explotar, gana."
      ],
      "metadata": {
        "id": "5dL6C-x1VsYf"
      }
    },
    {
      "cell_type": "code",
      "source": [
        "## INICIO DE CÓDIGO\n",
        "\n",
        "import random\n",
        "\n",
        "def juego_cofres():\n",
        "    # Inicializamos los cofres: 0 para cofres vacíos, 1 para la trampa\n",
        "    cofres = [0] * 10\n",
        "    trampa_pos = random.randint(0, 9)  # Elegimos aleatoriamente la posición de la trampa\n",
        "    cofres[trampa_pos] = 1  # Colocamos la trampa en la posición elegida\n",
        "\n",
        "    print(\"¡Bienvenido al juego de los cofres! Hay 10 cofres, uno de ellos es una trampa explosiva.\")\n",
        "\n",
        "    for i in range(10):\n",
        "        input(f\"Abrir cofre {i + 1}. Presiona Enter para continuar...\")\n",
        "\n",
        "        if cofres[i] == 1:\n",
        "            print(\"¡Boom! Has encontrado la trampa explosiva. Fin del juego.\")\n",
        "            break\n",
        "        else:\n",
        "            print(\"Cofre vacío. Puedes seguir abriendo.\")\n",
        "\n",
        "    else:\n",
        "        print(\"¡Felicidades! Has abierto todos los cofres sin encontrar la trampa.\")\n",
        "\n",
        "if __name__ == \"__main__\":\n",
        "    juego_cofres()\n",
        "\n",
        "\n",
        "## FIN DE CÓDIGO"
      ],
      "metadata": {
        "id": "d0hcbl0_V2BI",
        "outputId": "a2b1857c-dea5-44f2-a250-bc0556a8f960",
        "colab": {
          "base_uri": "https://localhost:8080/"
        }
      },
      "execution_count": 6,
      "outputs": [
        {
          "output_type": "stream",
          "name": "stdout",
          "text": [
            "¡Bienvenido al juego de los cofres! Hay 10 cofres, uno de ellos es una trampa explosiva.\n",
            "Abrir cofre 1. Presiona Enter para continuar...\n",
            "Cofre vacío. Puedes seguir abriendo.\n",
            "Abrir cofre 2. Presiona Enter para continuar...\n",
            "Cofre vacío. Puedes seguir abriendo.\n",
            "Abrir cofre 3. Presiona Enter para continuar...\n",
            "Cofre vacío. Puedes seguir abriendo.\n",
            "Abrir cofre 4. Presiona Enter para continuar...\n",
            "¡Boom! Has encontrado la trampa explosiva. Fin del juego.\n"
          ]
        }
      ]
    },
    {
      "cell_type": "markdown",
      "source": [
        "**Ejercicio 6: Pociones mágicas (Funciones básicas)**\n",
        "\n",
        "Crea una función usar_pocion(tipo) que permita al jugador elegir entre 'vida', 'fuerza' o 'velocidad', y retorne el efecto de la poción.\n",
        "Luego, pide al usuario que elija una poción y muestra el resultado llamando a la función."
      ],
      "metadata": {
        "id": "94yOz-rKV2gp"
      }
    },
    {
      "cell_type": "code",
      "source": [
        "## INICIO DE CÓDIGO\n",
        "def usar_pocion(tipo):\n",
        "    efectos = {\n",
        "        'vida': \"Has recuperado 60 puntos de vida.\",\n",
        "        'fuerza': \"Tu fuerza ha aumentado en 30 puntos.\",\n",
        "        'velocidad': \"Tu velocidad ha aumentado en 20 puntos.\"\n",
        "    }\n",
        "\n",
        "    return efectos.get(tipo, \"Poción desconocida. No se ha aplicado ningún efecto.\")\n",
        "\n",
        "# Solicitar al heroe que elija una poción\n",
        "tipo_pocion = input(\"Hola heroe, elige una poción ('vida', 'fuerza', 'velocidad'): \").lower()\n",
        "\n",
        "# Llamar a la función y mostrar el resultado\n",
        "resultado = usar_pocion(tipo_pocion)\n",
        "print(resultado)\n",
        "\n",
        "## FIN DE CÓDIGO"
      ],
      "metadata": {
        "id": "NQKm0w5iV4Zz",
        "outputId": "10250151-afa5-4730-8405-5e518f0c2a59",
        "colab": {
          "base_uri": "https://localhost:8080/"
        }
      },
      "execution_count": 7,
      "outputs": [
        {
          "output_type": "stream",
          "name": "stdout",
          "text": [
            "Hola heroe, elige una poción ('vida', 'fuerza', 'velocidad'): fuerza\n",
            "Tu fuerza ha aumentado en 30 puntos.\n"
          ]
        }
      ]
    },
    {
      "cell_type": "markdown",
      "source": [
        "**Ejercicio 7: Calculadora de daño crítico (Funciones con parámetros)**\n",
        "\n",
        "Crea una función calcular_danio(base, critico) que reciba el daño base y un porcentaje de crítico, devolviendo el daño total.\n",
        "El usuario ingresará el daño base y el porcentaje crítico."
      ],
      "metadata": {
        "id": "Qdnbnm4nV44h"
      }
    },
    {
      "cell_type": "code",
      "source": [
        "## INICIO DE CÓDIGO\n",
        "def calcular_daño(base, critico):\n",
        "    # Calcular el daño total considerando el daño base y el daño crítico\n",
        "    daño_critico = base * (critico / 100)\n",
        "    daño_total = base + daño_critico\n",
        "    return daño_total\n",
        "# Solicitar al usuario que ingrese el daño base y el porcentaje crítico\n",
        "try:\n",
        "    daño_base = float(input(\"Ingresa el daño base: \"))\n",
        "    porcentaje_critico = float(input(\"Ingresa el porcentaje crítico: \"))\n",
        "    # Llamar a la función y mostrar el resultado\n",
        "    daño_total = calcular_daño(daño_base, porcentaje_critico)\n",
        "    print(f\"El daño total es: {daño_total:.2f}\")\n",
        "except ValueError:\n",
        "    print(\"Por favor, ingresa valores numéricos válidos.\")\n",
        "\n",
        "## FIN DE CÓDIGO"
      ],
      "metadata": {
        "id": "leaLQJWrV8Tx",
        "outputId": "cf1ae987-2064-4f93-abb3-16d3c4d112ab",
        "colab": {
          "base_uri": "https://localhost:8080/"
        }
      },
      "execution_count": 9,
      "outputs": [
        {
          "output_type": "stream",
          "name": "stdout",
          "text": [
            "Ingresa el daño base: 50\n",
            "Ingresa el porcentaje crítico: 50\n",
            "El daño total es: 75.00\n"
          ]
        }
      ]
    },
    {
      "cell_type": "markdown",
      "source": [
        "**Ejercicio 8: El desafío del dragón (Condicionales + funciones + bucles)**\n",
        "\n",
        "Diseña una función enfrentar_dragon(vida, fuerza) que simule el combate:\n",
        "\n",
        "* El jugador ataca al dragón y el dragón contraataca restando vida.\n",
        "\n",
        "* Si la vida llega a 0, el jugador pierde.\n",
        "\n",
        "* Si el jugador realiza 3 ataques consecutivos sin morir, gana.\n",
        "Usa un bucle while interno para el combate."
      ],
      "metadata": {
        "id": "d4j1ckE2V9ag"
      }
    },
    {
      "cell_type": "code",
      "source": [
        "## INICIO DE CÓDIGO\n",
        "import random\n",
        "\n",
        "def enfrentar_dragon(vida_inicial, fuerza_inicial):\n",
        "    \"\"\"\n",
        "    Simula el combate contra un dragón.\n",
        "\n",
        "    Args:\n",
        "        vida_inicial (int): La vida inicial del jugador.\n",
        "        fuerza_inicial (int): La fuerza de ataque inicial del jugador.\n",
        "\n",
        "    Returns:\n",
        "        bool: True si el jugador gana, False si el jugador pierde.\n",
        "    \"\"\"\n",
        "    vida_actual = vida_inicial\n",
        "    fuerza_actual = fuerza_inicial\n",
        "    ataques_consecutivos = 0\n",
        "    print(\"¡Comienza el combate contra el dragón!\")\n",
        "\n",
        "    while vida_actual > 0 and ataques_consecutivos < 3:\n",
        "        # Ataque del jugador\n",
        "        daño_jugador = random.randint(fuerza_actual // 2, fuerza_actual)\n",
        "        print(f\"Atacas al dragón y le haces {daño_jugador} de daño.\")\n",
        "\n",
        "        # Ataque del dragón (simulación simple)\n",
        "        daño_dragon = random.randint(5, 15) # Daño aleatorio del dragón\n",
        "        vida_actual -= daño_dragon\n",
        "        print(f\"El dragón te ataca y te quita {daño_dragon} de vida.\")\n",
        "        print(f\"Tu vida actual es: {vida_actual}\")\n",
        "\n",
        "        if vida_actual <= 0:\n",
        "            print(\"¡Has sido derrotado por el dragón!\")\n",
        "            return False\n",
        "\n",
        "        ataques_consecutivos += 1\n",
        "        if ataques_consecutivos < 3:\n",
        "            print(f\"Ataques consecutivos realizados: {ataques_consecutivos}\")\n",
        "\n",
        "    if ataques_consecutivos >= 3:\n",
        "        print(\"¡Has realizado 3 ataques consecutivos sin morir!\")\n",
        "        print(\"¡Felicidades, has derrotado al dragón!\")\n",
        "        return True\n",
        "    else:\n",
        "        # Esto caso solo se daría si la vida llega a 0 antes de 3 ataques\n",
        "        return False\n",
        "\n",
        "# Solicitar al usuario la vida y fuerza inicial del héroe\n",
        "while True:\n",
        "  try:\n",
        "    vida_inicial_jugador = int(input(\"Ingresa la vida inicial del héroe: \"))\n",
        "    if vida_inicial_jugador > 0:\n",
        "      break\n",
        "    else:\n",
        "      print(\"La vida debe ser un número positivo.\")\n",
        "  except ValueError:\n",
        "    print(\"Entrada no válida. Por favor, ingresa un número entero para la vida.\")\n",
        "\n",
        "while True:\n",
        "  try:\n",
        "    fuerza_inicial_jugador = int(input(\"Ingresa la fuerza inicial del héroe: \"))\n",
        "    if fuerza_inicial_jugador > 0:\n",
        "      break\n",
        "    else:\n",
        "      print(\"La fuerza debe ser un número positivo.\")\n",
        "  except ValueError:\n",
        "    print(\"Entrada no válida. Por favor, ingresa un número entero para la fuerza.\")\n",
        "\n",
        "\n",
        "# Iniciar el combate contra el dragón\n",
        "resultado = enfrentar_dragon(vida_inicial_jugador, fuerza_inicial_jugador)\n",
        "\n",
        "if resultado:\n",
        "    print(\"¡Ganaste la batalla!\")\n",
        "else:\n",
        "    print(\"Perdiste la batalla.\")\n",
        "\n",
        "## FIN DE CÓDIGO"
      ],
      "metadata": {
        "id": "_CGyWwuaWByi",
        "outputId": "f53dd850-4b4a-432b-e514-7ea3e4bd3c98",
        "colab": {
          "base_uri": "https://localhost:8080/"
        }
      },
      "execution_count": 10,
      "outputs": [
        {
          "output_type": "stream",
          "name": "stdout",
          "text": [
            "Ingresa la vida inicial del héroe: 50\n",
            "Ingresa la fuerza inicial del héroe: 500\n",
            "¡Comienza el combate contra el dragón!\n",
            "Atacas al dragón y le haces 359 de daño.\n",
            "El dragón te ataca y te quita 7 de vida.\n",
            "Tu vida actual es: 43\n",
            "Ataques consecutivos realizados: 1\n",
            "Atacas al dragón y le haces 297 de daño.\n",
            "El dragón te ataca y te quita 5 de vida.\n",
            "Tu vida actual es: 38\n",
            "Ataques consecutivos realizados: 2\n",
            "Atacas al dragón y le haces 310 de daño.\n",
            "El dragón te ataca y te quita 6 de vida.\n",
            "Tu vida actual es: 32\n",
            "¡Has realizado 3 ataques consecutivos sin morir!\n",
            "¡Felicidades, has derrotado al dragón!\n",
            "¡Ganaste la batalla!\n"
          ]
        }
      ]
    },
    {
      "cell_type": "markdown",
      "source": [
        "**Ejercicio 9: El camino del héroe (Recursividad sencilla)**\n",
        "\n",
        "Crea una función recursiva que simule el camino de un héroe cruzando N obstáculos, mostrando mensajes como:\n",
        "\n",
        "\"Obstáculo 3: saltando...\"\n",
        "\n",
        "Termina cuando N llegue a 0."
      ],
      "metadata": {
        "id": "8X5Y08fQWCFU"
      }
    },
    {
      "cell_type": "code",
      "source": [
        "## INICIO DE CÓDIGO\n",
        "def camino_del_heroe(n_obstaculos):\n",
        "  \"\"\"\n",
        "  Simula el camino de un héroe cruzando N obstáculos usando recursividad.\n",
        "\n",
        "  Args:\n",
        "    n_obstaculos (int): El número de obstáculos restantes.\n",
        "  \"\"\"\n",
        "  if n_obstaculos <= 0:\n",
        "    print(\"¡El héroe ha superado todos los obstáculos!\")\n",
        "    return\n",
        "  else:\n",
        "    print(f\"Obstáculo {n_obstaculos}: saltando...\")\n",
        "    camino_del_heroe(n_obstaculos - 1)\n",
        "\n",
        "# Solicitar al usuario la cantidad de obstáculos\n",
        "while True:\n",
        "  try:\n",
        "    numero_de_obstaculos_totales = int(input(\"Ingresa la cantidad total de obstáculos para el héroe: \"))\n",
        "    if numero_de_obstaculos_totales >= 0:\n",
        "      break\n",
        "    else:\n",
        "      print(\"Por favor, ingresa un número de obstáculos no negativo.\")\n",
        "  except ValueError:\n",
        "    print(\"Entrada no válida. Por favor, ingresa un número entero.\")\n",
        "\n",
        "# Iniciar el camino del héroe\n",
        "camino_del_heroe(numero_de_obstaculos_totales)\n",
        "\n",
        "## FIN DE CÓDIGO"
      ],
      "metadata": {
        "id": "vVDjZHSVWJdQ",
        "outputId": "7aec5e4c-2517-4d7d-9f56-066e74600505",
        "colab": {
          "base_uri": "https://localhost:8080/"
        }
      },
      "execution_count": 11,
      "outputs": [
        {
          "output_type": "stream",
          "name": "stdout",
          "text": [
            "Ingresa la cantidad total de obstáculos para el héroe: 5\n",
            "Obstáculo 5: saltando...\n",
            "Obstáculo 4: saltando...\n",
            "Obstáculo 3: saltando...\n",
            "Obstáculo 2: saltando...\n",
            "Obstáculo 1: saltando...\n",
            "¡El héroe ha superado todos los obstáculos!\n"
          ]
        }
      ]
    },
    {
      "cell_type": "markdown",
      "source": [
        "**Ejercicio 10: Torre de los hechizos (Reto Integrador Final)**\n",
        "\n",
        "Crea un programa completo que combine:\n",
        "\n",
        "* Elección de personaje.\n",
        "\n",
        "* Simulación de un combate contra un enemigo con vida y defensa.\n",
        "\n",
        "* Uso de funciones para calcular el daño.\n",
        "\n",
        "* Bucles para turnos de combate.\n",
        "\n",
        "* Uso de una función recursiva que simule las rondas como niveles (nivel 1, 2, 3 hasta ganar).\n",
        "\n"
      ],
      "metadata": {
        "id": "Behbpl_8WJzR"
      }
    },
    {
      "cell_type": "code",
      "source": [
        "## INICIO DE CÓDIGO\n",
        "import random\n",
        "\n",
        "class Personaje:\n",
        "    def __init__(self, nombre, vida, poder, defensa):\n",
        "        self.nombre = nombre\n",
        "        self.vida = vida\n",
        "        self.poder = poder\n",
        "        self.defensa = defensa\n",
        "\n",
        "    def calcular_daño(self, enemigo):\n",
        "        return max(0, self.poder - enemigo.defensa)\n",
        "\n",
        "class Enemigo:\n",
        "    def __init__(self, vida, defensa):\n",
        "        self.vida = vida\n",
        "        self.defensa = defensa\n",
        "\n",
        "def elegir_personaje():\n",
        "    personajes = {\n",
        "        \"Mago\": Personaje(\"Mago\", 70, 15, 8),\n",
        "        \"Guerrero\": Personaje(\"Guerrero\", 100, 10, 12),\n",
        "        \"Arquero\": Personaje(\"Arquero\", 80, 12, 10)\n",
        "    }\n",
        "\n",
        "    print(\"Elige tu personaje:\")\n",
        "    for nombre in personajes.keys():\n",
        "        print(f\"- {nombre}\")\n",
        "\n",
        "    while True:\n",
        "        eleccion = input(\"Escribe el nombre de tu personaje: \").capitalize()\n",
        "        if eleccion in personajes:\n",
        "            return personajes[eleccion]\n",
        "        print(\"Personaje no válido. Intenta de nuevo.\")\n",
        "\n",
        "def combate(personaje, enemigo, nivel=1):\n",
        "    print(f\"\\n¡Nivel {nivel}! Te enfrentas a un enemigo con {enemigo.vida} de vida y {enemigo.defensa} de defensa.\")\n",
        "\n",
        "    while personaje.vida > 0 and enemigo.vida > 0:\n",
        "        daño = personaje.calcular_daño(enemigo)\n",
        "        enemigo.vida -= daño\n",
        "        print(f\"{personaje.nombre} ataca y hace {daño} de daño. Vida del enemigo restante: {enemigo.vida}\")\n",
        "\n",
        "        if enemigo.vida <= 0:\n",
        "            print(f\"¡Has vencido al enemigo en nivel {nivel}!\")\n",
        "            if nivel < 3:\n",
        "                return combate(personaje, Enemigo(random.randint(50, 80), random.randint(5, 12)), nivel + 1)\n",
        "            else:\n",
        "                print(\"¡Has ganado el último nivel!\")\n",
        "\n",
        "        daño_enemigo = max(0, random.randint(5, 10) - personaje.defensa)\n",
        "        personaje.vida -= daño_enemigo\n",
        "        print(f\"El enemigo ataca y te hace {daño_enemigo} de daño. Tu vida restante: {personaje.vida}\")\n",
        "\n",
        "    if personaje.vida <= 0:\n",
        "        print(\"Has sido derrotado, pero en el último nivel siempre ganas. Reiniciando combate...\")\n",
        "        return combate(personaje, Enemigo(0, 0), 3)  # Asegurar que el jugador gane el nivel 3\n",
        "\n",
        "# Inicio del juego\n",
        "jugador = elegir_personaje()\n",
        "enemigo_inicial = Enemigo(random.randint(50, 80), random.randint(5, 12))\n",
        "combate(jugador, enemigo_inicial)\n",
        "\n",
        "## FIN DE CÓDIGO"
      ],
      "metadata": {
        "id": "smtLq1SDWTJd",
        "outputId": "b046ef67-7342-47e1-fd7a-0c6a1f212224",
        "colab": {
          "base_uri": "https://localhost:8080/"
        }
      },
      "execution_count": 12,
      "outputs": [
        {
          "output_type": "stream",
          "name": "stdout",
          "text": [
            "Elige tu personaje:\n",
            "- Mago\n",
            "- Guerrero\n",
            "- Arquero\n",
            "Escribe el nombre de tu personaje: mago\n",
            "\n",
            "¡Nivel 1! Te enfrentas a un enemigo con 80 de vida y 8 de defensa.\n",
            "Mago ataca y hace 7 de daño. Vida del enemigo restante: 73\n",
            "El enemigo ataca y te hace 0 de daño. Tu vida restante: 70\n",
            "Mago ataca y hace 7 de daño. Vida del enemigo restante: 66\n",
            "El enemigo ataca y te hace 0 de daño. Tu vida restante: 70\n",
            "Mago ataca y hace 7 de daño. Vida del enemigo restante: 59\n",
            "El enemigo ataca y te hace 0 de daño. Tu vida restante: 70\n",
            "Mago ataca y hace 7 de daño. Vida del enemigo restante: 52\n",
            "El enemigo ataca y te hace 1 de daño. Tu vida restante: 69\n",
            "Mago ataca y hace 7 de daño. Vida del enemigo restante: 45\n",
            "El enemigo ataca y te hace 0 de daño. Tu vida restante: 69\n",
            "Mago ataca y hace 7 de daño. Vida del enemigo restante: 38\n",
            "El enemigo ataca y te hace 0 de daño. Tu vida restante: 69\n",
            "Mago ataca y hace 7 de daño. Vida del enemigo restante: 31\n",
            "El enemigo ataca y te hace 0 de daño. Tu vida restante: 69\n",
            "Mago ataca y hace 7 de daño. Vida del enemigo restante: 24\n",
            "El enemigo ataca y te hace 0 de daño. Tu vida restante: 69\n",
            "Mago ataca y hace 7 de daño. Vida del enemigo restante: 17\n",
            "El enemigo ataca y te hace 0 de daño. Tu vida restante: 69\n",
            "Mago ataca y hace 7 de daño. Vida del enemigo restante: 10\n",
            "El enemigo ataca y te hace 2 de daño. Tu vida restante: 67\n",
            "Mago ataca y hace 7 de daño. Vida del enemigo restante: 3\n",
            "El enemigo ataca y te hace 0 de daño. Tu vida restante: 67\n",
            "Mago ataca y hace 7 de daño. Vida del enemigo restante: -4\n",
            "¡Has vencido al enemigo en nivel 1!\n",
            "\n",
            "¡Nivel 2! Te enfrentas a un enemigo con 50 de vida y 11 de defensa.\n",
            "Mago ataca y hace 4 de daño. Vida del enemigo restante: 46\n",
            "El enemigo ataca y te hace 0 de daño. Tu vida restante: 67\n",
            "Mago ataca y hace 4 de daño. Vida del enemigo restante: 42\n",
            "El enemigo ataca y te hace 0 de daño. Tu vida restante: 67\n",
            "Mago ataca y hace 4 de daño. Vida del enemigo restante: 38\n",
            "El enemigo ataca y te hace 0 de daño. Tu vida restante: 67\n",
            "Mago ataca y hace 4 de daño. Vida del enemigo restante: 34\n",
            "El enemigo ataca y te hace 2 de daño. Tu vida restante: 65\n",
            "Mago ataca y hace 4 de daño. Vida del enemigo restante: 30\n",
            "El enemigo ataca y te hace 0 de daño. Tu vida restante: 65\n",
            "Mago ataca y hace 4 de daño. Vida del enemigo restante: 26\n",
            "El enemigo ataca y te hace 0 de daño. Tu vida restante: 65\n",
            "Mago ataca y hace 4 de daño. Vida del enemigo restante: 22\n",
            "El enemigo ataca y te hace 0 de daño. Tu vida restante: 65\n",
            "Mago ataca y hace 4 de daño. Vida del enemigo restante: 18\n",
            "El enemigo ataca y te hace 2 de daño. Tu vida restante: 63\n",
            "Mago ataca y hace 4 de daño. Vida del enemigo restante: 14\n",
            "El enemigo ataca y te hace 0 de daño. Tu vida restante: 63\n",
            "Mago ataca y hace 4 de daño. Vida del enemigo restante: 10\n",
            "El enemigo ataca y te hace 0 de daño. Tu vida restante: 63\n",
            "Mago ataca y hace 4 de daño. Vida del enemigo restante: 6\n",
            "El enemigo ataca y te hace 1 de daño. Tu vida restante: 62\n",
            "Mago ataca y hace 4 de daño. Vida del enemigo restante: 2\n",
            "El enemigo ataca y te hace 2 de daño. Tu vida restante: 60\n",
            "Mago ataca y hace 4 de daño. Vida del enemigo restante: -2\n",
            "¡Has vencido al enemigo en nivel 2!\n",
            "\n",
            "¡Nivel 3! Te enfrentas a un enemigo con 59 de vida y 11 de defensa.\n",
            "Mago ataca y hace 4 de daño. Vida del enemigo restante: 55\n",
            "El enemigo ataca y te hace 0 de daño. Tu vida restante: 60\n",
            "Mago ataca y hace 4 de daño. Vida del enemigo restante: 51\n",
            "El enemigo ataca y te hace 0 de daño. Tu vida restante: 60\n",
            "Mago ataca y hace 4 de daño. Vida del enemigo restante: 47\n",
            "El enemigo ataca y te hace 0 de daño. Tu vida restante: 60\n",
            "Mago ataca y hace 4 de daño. Vida del enemigo restante: 43\n",
            "El enemigo ataca y te hace 0 de daño. Tu vida restante: 60\n",
            "Mago ataca y hace 4 de daño. Vida del enemigo restante: 39\n",
            "El enemigo ataca y te hace 0 de daño. Tu vida restante: 60\n",
            "Mago ataca y hace 4 de daño. Vida del enemigo restante: 35\n",
            "El enemigo ataca y te hace 2 de daño. Tu vida restante: 58\n",
            "Mago ataca y hace 4 de daño. Vida del enemigo restante: 31\n",
            "El enemigo ataca y te hace 0 de daño. Tu vida restante: 58\n",
            "Mago ataca y hace 4 de daño. Vida del enemigo restante: 27\n",
            "El enemigo ataca y te hace 2 de daño. Tu vida restante: 56\n",
            "Mago ataca y hace 4 de daño. Vida del enemigo restante: 23\n",
            "El enemigo ataca y te hace 1 de daño. Tu vida restante: 55\n",
            "Mago ataca y hace 4 de daño. Vida del enemigo restante: 19\n",
            "El enemigo ataca y te hace 0 de daño. Tu vida restante: 55\n",
            "Mago ataca y hace 4 de daño. Vida del enemigo restante: 15\n",
            "El enemigo ataca y te hace 0 de daño. Tu vida restante: 55\n",
            "Mago ataca y hace 4 de daño. Vida del enemigo restante: 11\n",
            "El enemigo ataca y te hace 0 de daño. Tu vida restante: 55\n",
            "Mago ataca y hace 4 de daño. Vida del enemigo restante: 7\n",
            "El enemigo ataca y te hace 0 de daño. Tu vida restante: 55\n",
            "Mago ataca y hace 4 de daño. Vida del enemigo restante: 3\n",
            "El enemigo ataca y te hace 1 de daño. Tu vida restante: 54\n",
            "Mago ataca y hace 4 de daño. Vida del enemigo restante: -1\n",
            "¡Has vencido al enemigo en nivel 3!\n",
            "¡Has ganado el último nivel!\n",
            "El enemigo ataca y te hace 0 de daño. Tu vida restante: 54\n"
          ]
        }
      ]
    },
    {
      "cell_type": "markdown",
      "source": [
        "---\n",
        "\n",
        "# Gracias por completar este laboratorio!\n",
        "\n",
        "---\n"
      ],
      "metadata": {
        "id": "EONqoa25Wlx3"
      }
    }
  ]
}